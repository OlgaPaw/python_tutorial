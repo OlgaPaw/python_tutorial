{
 "cells": [
  {
   "cell_type": "markdown",
   "id": "0c60ac01",
   "metadata": {},
   "source": [
    "# Instrukcje sterujące - część 2 (pętla while)"
   ]
  },
  {
   "cell_type": "markdown",
   "id": "da879536",
   "metadata": {},
   "source": [
    "Pętle to operacje wykonywane w kółko, dopóki jakiś warunek jest spełniony.\n",
    "\n",
    "Przykłagy pętli:\n",
    "\n",
    "1. Sprzątaj dopóki nie będzie czysto (operacja = sprzątaj, warunek = nie jest czysto)\n",
    "1. Pracuj do godziny 16 (dopóki nie jest 16:00, nie wychodź z pracy) (operacja = pracuj, warunek = jest 16:00)\n",
    "1. Policz średnią każdego ucznia w klasie (operacja = policz średnią ucznia, warunek = zostali jeszcze uczniowie, którzy mają nie policzoną średnią)\n",
    "1. Wyślij kartkę świąteczną do swoich przyjaciół (operacja = wyślij kartkę, warunek = została jeszcze osoba której chcesz wysłać kartkę)"
   ]
  },
  {
   "cell_type": "markdown",
   "id": "5bbeb7a8",
   "metadata": {},
   "source": [
    "## Instrukcja pętli while"
   ]
  },
  {
   "cell_type": "markdown",
   "id": "d0522b6e",
   "metadata": {},
   "source": [
    "Pętla **while** nakazuje programowi wykonywać instrukcje zawarte w jej **ciele** tak długo, jak **warunek** jest spełniony.\n",
    "\n",
    "```python\n",
    "kod przed pętlą\n",
    "\n",
    "while warunek:\n",
    "    wykonaj operację\n",
    "\n",
    "kod po pętli\n",
    "```\n",
    "\n",
    "Ciałem pętli nazywamy cały kod, który jest wcięty o 4 spacje głębiej niż słowo klucz `while`, aż do następnej instrukcji, która ma takie samo wcięcie jak słowo klucz `while`. \n",
    "\n",
    "```python\n",
    "def repeat():\n",
    "    while warunek:\n",
    "        to jest ciało\n",
    "        to też\n",
    "    a to już nie\n",
    "```\n",
    "\n",
    "Instrukcje zawarte w ciele będą powtarzane tak długo, jak warunek jest prawdziwy, t.j. kod poza pętlą zostanie wykonany, gdy warunek przestanie być prawdziwy.\n",
    "\n",
    "Spróbujmy zobaczyć to na diagramie.\n",
    "\n",
    "![image.png](images/04_while.png)\n"
   ]
  },
  {
   "source": [
    "Przykładem z życia będzie następująca pętla: Sprawdzaj patyczkiem czy ciasto jest upieczone tak długo aż nie będzie upieczone :) \n",
    "\n",
    "```python\n",
    "nagrzej_piekarnik()\n",
    "wloz_ciasto_do_piekarnika()\n",
    "while ciasto_przykleja_sie_do_patyczka():\n",
    "   czekaj_minuty(10)\n",
    "wyjmij_ciasto()\n",
    "```\n",
    "\n",
    "W przykładzie powyżej sprawdzamy co 10 minut czy ciasto jest już gotowe (ciasto nie przykleja się do patyczka).\n",
    "\n",
    "Jeśli nie jest gotowe to zostawiamy ciasto w piekarniku, czekamy 10 minut i sprawdzamy ponownie (zapętlamy działanie).\n",
    "\n",
    "Jeśli jest już upieczone (warunek pętli przestał być spełniony) to wychodzimy z pętli sprawdzania i wykonujemy następny krok, czyli wyjęcie ciasta.\n",
    "\n",
    "![image.png](images/04_while_ciasto.png)\n",
    "\n",
    "Przeanalizujmy nasz algorytm pieczenia ciasta.\n",
    "\n",
    "1. Najrzej piekarnik\n",
    "1. Wstaw ciasto do piekarnika\n",
    "1. Sprawdź patyczkiem czy ciasto się do niego przykleja.\n",
    "1. Jeśli się przykleja, odczekaj 10 minut i sprawdź ponownie (wróc do kroku 3)\n",
    "1. Jeśli się nie przykleja to wyjmij ciasto\n"
   ],
   "cell_type": "markdown",
   "metadata": {}
  },
  {
   "cell_type": "markdown",
   "id": "43fd9027",
   "metadata": {},
   "source": [
    "Teraz przykład trochę bardziej programistyczny. Możemy chcieć użyć pętli while, do zaczekania aż upłynie pewien czas (np. 10 minut).\n",
    "\n",
    "Oto nasz algorytm:\n",
    "\n",
    "1. Sprawdź aktuany czas (zerknij za zegarek i zapamiętaj jako czas startu) \n",
    "1. Ustal ile czasu chcesz poczekać (10 minut)\n",
    "1. Sprawdź czy czas już upłynął (sprawdź czy jest 10 minut po czasie startu)\n",
    "1. Jeśli oczeiwana godzina jeszcze nie nastała, zaczekaj minutę i sprawdź ponownie (powrót do kroku 3)\n",
    "1. Jeśli jest już po oczekiwanej godzinie to przestań patrzeć co chwila na zegarek, masz już wolne :P\n",
    "\n",
    "![image.png](images/04_while_sleep.png)"
   ]
  },
  {
   "cell_type": "code",
   "execution_count": 29,
   "id": "52be96ff",
   "metadata": {},
   "outputs": [
    {
     "output_type": "stream",
     "name": "stdout",
     "text": [
      "Pozostało 9.999511241912842 sekund\n",
      "Pozostało 8.997845888137817 sekund\n",
      "Pozostało 7.996479272842407 sekund\n",
      "Pozostało 6.994960784912109 sekund\n",
      "Pozostało 5.9935407638549805 sekund\n",
      "Pozostało 4.992712020874023 sekund\n",
      "Pozostało 3.991304397583008 sekund\n",
      "Pozostało 2.9900684356689453 sekund\n",
      "Pozostało 1.9886188507080078 sekund\n",
      "Pozostało 0.9871852397918701 sekund\n",
      "Poczekaliśmy dokładnie 10.014724016189575 sekund.\n"
     ]
    }
   ],
   "source": [
    "# Powyższy algorytm zapiszemy w następujący sposób\n",
    "import time\n",
    "\n",
    "start = time.time() # zerkamy za zegarek i zapamiętujemy jako czas startu\n",
    "delay = 10 # definuijemy ile chcemy odczekać, 10 sekund\n",
    "\n",
    "while (time.time() < start + delay): # dopóki aktualna godzina jest mniejszy niż czas start + 10 sekund\n",
    "    print(\"Pozostało\", start + delay - time.time(), \"sekund\") # wyświetlamy ile jeszcze zostało do poczekania\n",
    "    time.sleep(1)    # czekamy 1s, a następnie wracamy do sprawdzenia warunku w while\n",
    "\n",
    "print(\"Poczekaliśmy dokładnie\", time.time() - start, \"sekund.\")    "
   ]
  },
  {
   "cell_type": "markdown",
   "id": "f917fbf5",
   "metadata": {},
   "source": [
    "Innym przykładem wykorzystania pętli while może być losowanie cyfr tak długo, aż suma wylosowanych cyfr przekroczy pewną wartość."
   ]
  },
  {
   "cell_type": "code",
   "execution_count": 38,
   "id": "465d0f5d",
   "metadata": {},
   "outputs": [
    {
     "output_type": "stream",
     "name": "stdout",
     "text": [
      "wylosowano 8 suma 8\nwylosowano 8 suma 16\nwylosowano 4 suma 20\nwylosowano 3 suma 23\nwylosowano 1 suma 24\nwylosowano 3 suma 27\nwylosowano 6 suma 33\nwylosowano 7 suma 40\nwylosowano 7 suma 47\nwylosowano 8 suma 55\nwylosowano 8 suma 63\nwylosowano 1 suma 64\nwylosowano 0 suma 64\nwylosowano 5 suma 69\nwylosowano 8 suma 77\nwylosowano 4 suma 81\nwylosowano 7 suma 88\nwylosowano 4 suma 92\nwylosowano 2 suma 94\nwylosowano 8 suma 102\nsuma końcowa 102\n"
     ]
    }
   ],
   "source": [
    "import random\n",
    "\n",
    "accumulator = 0 # zmienna w której będziemy trzymać sumę wylosowanych liczb\n",
    "threshold = 100 # wartość po przekroczeniu której zakończymy losowanie liczb\n",
    "\n",
    "while accumulator <= threshold: # dopóki suma liczb nie przekroczy wartości\n",
    "    number = random.randrange(0, 10)\n",
    "    accumulator += number\n",
    "    print(\"wylosowano\", number, \"suma\", accumulator)\n",
    "\n",
    "print(\"suma końcowa\", accumulator)"
   ]
  },
  {
   "cell_type": "markdown",
   "id": "6a369260-1abf-45a5-bcc2-8443d04d2b88",
   "metadata": {},
   "source": [
    "W powyższym przykładzie mamy do czynienia z modyfikacją zmiennej warunkowej (`accumulator`) w ciele funkcji. \n",
    "\n",
    "Często w ciele pętli `while` modyfikujemy zmienną, od której zależy jak długo program będzie pętlę wykonywał."
   ]
  },
  {
   "cell_type": "markdown",
   "id": "f6fb9048",
   "metadata": {},
   "source": [
    "Istnieje też możliwość, że nasz program w ogóle nie wejdzie do ciała funkcji. \n",
    "\n",
    "Taka sytuacja nastąpi, jeśli w pierwszej iteracji warunek nie jest spełniony. Zobacz poniższe przykłady. \n",
    "\n",
    "Przykład drugi uruchom kilka razy żeby zobaczyć jak zachowuje się program w zależności od wylosowanej wartości."
   ]
  },
  {
   "cell_type": "code",
   "execution_count": 39,
   "id": "b06e00c8",
   "metadata": {},
   "outputs": [
    {
     "output_type": "stream",
     "name": "stdout",
     "text": [
      "12\n"
     ]
    }
   ],
   "source": [
    "\n",
    "threshold = 10\n",
    "start = 12\n",
    "while start < threshold:\n",
    "    print(start)\n",
    "    start += 1\n",
    "\n",
    "print(start)"
   ]
  },
  {
   "cell_type": "code",
   "execution_count": 45,
   "id": "87a99d07",
   "metadata": {},
   "outputs": [
    {
     "output_type": "stream",
     "name": "stdout",
     "text": [
      "Wartość początkowa 0\nWartość w ciele funkcji 0\nWartość w ciele funkcji 1\nWartość w ciele funkcji 2\nWartość w ciele funkcji 3\nWartość w ciele funkcji 4\nWartość w ciele funkcji 5\nWartość w ciele funkcji 6\nWartość w ciele funkcji 7\nWartość w ciele funkcji 8\nWartość w ciele funkcji 9\nwartość końcowa 10\n"
     ]
    }
   ],
   "source": [
    "import random\n",
    "threshold = 10\n",
    "start = random.randrange(0, 20)\n",
    "print(\"Wartość początkowa\", start)\n",
    "\n",
    "while start < threshold:\n",
    "    print(\"Wartość w ciele funkcji\", start)\n",
    "    start += 1\n",
    "\n",
    "print(\"wartość końcowa\", start)"
   ]
  },
  {
   "cell_type": "code",
   "execution_count": 47,
   "id": "f230272b-77cb-4f77-9250-998bafd290dd",
   "metadata": {},
   "outputs": [
    {
     "output_type": "stream",
     "name": "stdout",
     "text": [
      "Dużurny to Basia\nDużurny to Adam\nDużurny to Iza\nDużurny to Feliks\nDużurny to Grażyna\nDużurny to Janek\nDużurny to Czesiek\nDużurny to Hania\nDużurny to Darek\nDużurny to Ewa\n"
     ]
    }
   ],
   "source": [
    "# Zadanie - przykład\n",
    "# W klasie jest 10 uczniów. Za pomocą pętli for wylosuj kolejność dużurów (żaden uczeń nie może mieć dyżuru 2 razy)\n",
    "\n",
    "students = ['Adam', 'Basia', 'Czesiek', 'Darek', 'Ewa', 'Feliks', 'Grażyna', 'Hania', 'Iza', 'Janek']\n",
    "\n",
    "while len(students) > 0:\n",
    "    student_on_duty = random.choice(students)\n",
    "    print(\"Dużurny to\", student_on_duty)\n",
    "    students.remove(student_on_duty)\n",
    "\n",
    "# W tym rozwiązaniu po wylosowaniu ucznia usuwamy go z puli uczniów i losujemy tak długo, aż pula uczniów się wyczerpie"
   ]
  },
  {
   "cell_type": "code",
   "execution_count": 49,
   "id": "24583169-6055-4cd8-8e48-51f20585037d",
   "metadata": {},
   "outputs": [
    {
     "output_type": "stream",
     "name": "stdout",
     "text": [
      "Kolejność dyżurów to: ['Iza', 'Ewa', 'Hania', 'Janek', 'Czesiek', 'Grażyna', 'Darek', 'Feliks', 'Basia', 'Adam']\n"
     ]
    }
   ],
   "source": [
    "# Zadanie - przykład, rozwiąznie nr 2\n",
    "students = ['Adam', 'Basia', 'Czesiek', 'Darek', 'Ewa', 'Feliks', 'Grażyna', 'Hania', 'Iza', 'Janek']\n",
    "duty_order = []\n",
    "\n",
    "while len(duty_order) != len(students):\n",
    "    student_on_duty = random.choice(students)\n",
    "    if student_on_duty not in duty_order:\n",
    "        duty_order.append(student_on_duty)\n",
    "\n",
    "print(\"Kolejność dyżurów to:\", duty_order)\n",
    "# W tym budujemy nową listę duty_order dodając do niej wylosowanego ucznia (jeśli ucznia w niej jeszcze nie ma), powtarzamy aż na liście duty_order będą wszyscy uczniowie"
   ]
  },
  {
   "cell_type": "code",
   "execution_count": 50,
   "id": "717b6baf-d51d-4ea2-adeb-01f13f4837cd",
   "metadata": {},
   "outputs": [],
   "source": [
    "# Zadanie 1\n",
    "# Wylosuj liczbę od zera do 100, następie w pętli odejmuj od niej losowe cyfry aż liczba zmiejszy się poniżej 0.\n"
   ]
  },
  {
   "cell_type": "code",
   "execution_count": 51,
   "id": "0322452f-c5b0-4990-80eb-ce6fa0cf8195",
   "metadata": {},
   "outputs": [],
   "source": [
    "# Zadanie 2 - Duży lotek\n",
    "# Spośród liczb z zakresu 1 - 49 wylosuj 6 liczb. Żadna z wylosowanych liczb nie może się powtarzać.  \n"
   ]
  },
  {
   "cell_type": "markdown",
   "id": "4064b55e-7803-4af8-8589-0ff160b7d0df",
   "metadata": {},
   "source": [
    "#### Linki do dokumentacji\n",
    "- `time.time()` https://docs.python.org/3/library/time.html#time.time\n",
    "- `time.sleep()` https://docs.python.org/3/library/time.html#time.sleep\n",
    "- `random.randrange()` https://docs.python.org/3/library/random.html#random.randrange\n",
    "- `random.choice()` https://docs.python.org/3/library/random.html#random.choice\n",
    "- `range` https://docs.python.org/3/library/functions.html#func-range\n",
    "- `list.append()`, list.remove()`  https://docs.python.org/3/tutorial/datastructures.html?highlight=list%20append#more-on-lists"
   ]
  },
  {
   "cell_type": "code",
   "execution_count": null,
   "id": "c65546fb-2463-41d4-a7d4-e01319378cd6",
   "metadata": {},
   "outputs": [],
   "source": []
  }
 ],
 "metadata": {
  "kernelspec": {
   "display_name": "Python 3.9.3 64-bit",
   "language": "python",
   "name": "python39364bitb81baa253c354ce996d64fa3977c9df5"
  },
  "language_info": {
   "codemirror_mode": {
    "name": "ipython",
    "version": 3
   },
   "file_extension": ".py",
   "mimetype": "text/x-python",
   "name": "python",
   "nbconvert_exporter": "python",
   "pygments_lexer": "ipython3",
   "version": "3.9.3-final"
  }
 },
 "nbformat": 4,
 "nbformat_minor": 5
}