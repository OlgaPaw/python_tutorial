{
 "cells": [
  {
   "cell_type": "markdown",
   "source": [
    "# Instrukcje sterujące - część 2 (pętla while)"
   ],
   "metadata": {}
  },
  {
   "cell_type": "markdown",
   "source": [
    "Pętle to operacje wykonywane w kółko, dopóki jakiś warunek jest spełniony.\n",
    "\n",
    "Przykłagy pętli:\n",
    "\n",
    "1. Sprzątaj dopóki nie będzie czysto (operacja = sprzątaj, warunek = nie jest czysto)\n",
    "1. Pracuj do godziny 16 (dopóki nie jest 16:00, nie wychodź z pracy) (operacja = pracuj, warunek = jest 16:00)\n",
    "1. Policz średnią każdego ucznia w klasie (operacja = policz średnią ucznia, warunek = zostali jeszcze uczniowie, którzy mają nie policzoną średnią)\n",
    "1. Wyślij kartkę świąteczną do swoich przyjaciół (operacja = wyślij kartkę, warunek = została jeszcze osoba której chcesz wysłać kartkę)"
   ],
   "metadata": {}
  },
  {
   "cell_type": "markdown",
   "source": [
    "## Instrukcja pętli while"
   ],
   "metadata": {}
  },
  {
   "cell_type": "markdown",
   "source": [
    "Pętla **while** nakazuje programowi wykonywać instrukcje zawarte w jej **ciele** tak długo, jak **warunek** jest spełniony.\n",
    "\n",
    "```python\n",
    "kod przed pętlą\n",
    "\n",
    "while warunek:\n",
    "    wykonaj operację\n",
    "\n",
    "kod po pętli\n",
    "```\n",
    "\n",
    "Ciałem pętli nazywamy cały kod, który jest wcięty o 4 spacje głębiej niż słowo klucz `while`, aż do następnej instrukcji, która ma takie samo wcięcie jak słowo klucz `while`. \n",
    "\n",
    "```python\n",
    "def repeat():\n",
    "    while warunek:\n",
    "        to jest ciało\n",
    "        to też\n",
    "    a to już nie\n",
    "```\n",
    "\n",
    "Instrukcje zawarte w ciele będą powtarzane tak długo, jak warunek jest prawdziwy, t.j. kod poza pętlą zostanie wykonany, gdy warunek przestanie być prawdziwy.\n",
    "\n",
    "Spróbujmy zobaczyć to na diagramie.\n",
    "\n",
    "![image.png](images/04_while.png)\n"
   ],
   "metadata": {}
  },
  {
   "cell_type": "markdown",
   "source": [
    "Przykładem z życia będzie następująca pętla: Sprawdzaj patyczkiem czy ciasto jest upieczone tak długo aż nie będzie upieczone :) \n",
    "\n",
    "```python\n",
    "nagrzej_piekarnik()\n",
    "wloz_ciasto_do_piekarnika()\n",
    "while ciasto_przykleja_sie_do_patyczka():\n",
    "   czekaj_minuty(10)\n",
    "wyjmij_ciasto()\n",
    "```\n",
    "\n",
    "W przykładzie powyżej sprawdzamy co 10 minut czy ciasto jest już gotowe (ciasto nie przykleja się do patyczka).\n",
    "\n",
    "Jeśli nie jest gotowe to zostawiamy ciasto w piekarniku, czekamy 10 minut i sprawdzamy ponownie (zapętlamy działanie).\n",
    "\n",
    "Jeśli jest już upieczone (warunek pętli przestał być spełniony) to wychodzimy z pętli sprawdzania i wykonujemy następny krok, czyli wyjęcie ciasta.\n",
    "\n",
    "![image.png](images/04_while_ciasto.png)\n",
    "\n",
    "Przeanalizujmy nasz algorytm pieczenia ciasta.\n",
    "\n",
    "1. Najrzej piekarnik\n",
    "1. Wstaw ciasto do piekarnika\n",
    "1. Sprawdź patyczkiem czy ciasto się do niego przykleja.\n",
    "1. Jeśli się przykleja, odczekaj 10 minut i sprawdź ponownie (wróc do kroku 3)\n",
    "1. Jeśli się nie przykleja to wyjmij ciasto\n"
   ],
   "metadata": {}
  },
  {
   "cell_type": "markdown",
   "source": [
    "Teraz przykład trochę bardziej programistyczny. Możemy chcieć użyć pętli while, do zaczekania aż upłynie pewien czas (np. 10 minut).\n",
    "\n",
    "Oto nasz algorytm:\n",
    "\n",
    "1. Sprawdź aktuany czas (zerknij za zegarek i zapamiętaj jako czas startu) \n",
    "1. Ustal ile czasu chcesz poczekać (10 minut)\n",
    "1. Sprawdź czy czas już upłynął (sprawdź czy jest 10 minut po czasie startu)\n",
    "1. Jeśli oczeiwana godzina jeszcze nie nastała, zaczekaj minutę i sprawdź ponownie (powrót do kroku 3)\n",
    "1. Jeśli jest już po oczekiwanej godzinie to przestań patrzeć co chwila na zegarek, masz już wolne :P\n",
    "\n",
    "![image.png](images/04_while_sleep.png)"
   ],
   "metadata": {}
  },
  {
   "cell_type": "code",
   "execution_count": 22,
   "source": [
    "# Powyższy algorytm zapiszemy w następujący sposób\n",
    "import time\n",
    "\n",
    "start = time.time() # zerkamy za zegarek i zapamiętujemy jako czas startu\n",
    "delay = 10 # definuijemy ile chcemy odczekać, 10 sekund\n",
    "\n",
    "while (time.time() < start + delay): # dopóki aktualna godzina jest mniejszy niż czas start + 10 sekund\n",
    "    print(\"Pozostało\", start + delay - time.time(), \"sekund\") # wyświetlamy ile jeszcze zostało do poczekania\n",
    "    time.sleep(1)    # czekamy 1s, a następnie wracamy do sprawdzenia warunku w while\n",
    "\n",
    "print(\"Poczekaliśmy dokładnie\", time.time() - start, \"sekund.\")    "
   ],
   "outputs": [
    {
     "output_type": "stream",
     "name": "stdout",
     "text": [
      "Pozostało 9.999836683273315 sekund\n",
      "Pozostało 8.998699188232422 sekund\n",
      "Pozostało 7.997425317764282 sekund\n",
      "Pozostało 6.995989084243774 sekund\n",
      "Pozostało 5.995781421661377 sekund\n",
      "Pozostało 4.995391845703125 sekund\n",
      "Pozostało 3.994062900543213 sekund\n",
      "Pozostało 2.992053270339966 sekund\n",
      "Pozostało 1.9907357692718506 sekund\n",
      "Pozostało 0.98988938331604 sekund\n",
      "Poczekaliśmy dokładnie 10.01172137260437 sekund.\n"
     ]
    }
   ],
   "metadata": {}
  },
  {
   "cell_type": "markdown",
   "source": [
    "Innym przykładem wykorzystania pętli while może być losowanie cyfr tak długo, aż suma wylosowanych cyfr przekroczy pewną wartość."
   ],
   "metadata": {}
  },
  {
   "cell_type": "code",
   "execution_count": 23,
   "source": [
    "import random\n",
    "\n",
    "accumulator = 0 # zmienna w której będziemy trzymać sumę wylosowanych liczb\n",
    "threshold = 100 # wartość po przekroczeniu której zakończymy losowanie liczb\n",
    "\n",
    "while accumulator <= threshold: # dopóki suma liczb nie przekroczy wartości\n",
    "    number = random.randrange(0, 10)\n",
    "    accumulator += number\n",
    "    print(\"wylosowano\", number, \"suma\", accumulator)\n",
    "\n",
    "print(\"suma końcowa\", accumulator)"
   ],
   "outputs": [
    {
     "output_type": "stream",
     "name": "stdout",
     "text": [
      "wylosowano 4 suma 4\n",
      "wylosowano 1 suma 5\n",
      "wylosowano 2 suma 7\n",
      "wylosowano 4 suma 11\n",
      "wylosowano 1 suma 12\n",
      "wylosowano 7 suma 19\n",
      "wylosowano 6 suma 25\n",
      "wylosowano 4 suma 29\n",
      "wylosowano 5 suma 34\n",
      "wylosowano 5 suma 39\n",
      "wylosowano 4 suma 43\n",
      "wylosowano 5 suma 48\n",
      "wylosowano 9 suma 57\n",
      "wylosowano 2 suma 59\n",
      "wylosowano 3 suma 62\n",
      "wylosowano 8 suma 70\n",
      "wylosowano 0 suma 70\n",
      "wylosowano 0 suma 70\n",
      "wylosowano 8 suma 78\n",
      "wylosowano 6 suma 84\n",
      "wylosowano 8 suma 92\n",
      "wylosowano 8 suma 100\n",
      "wylosowano 5 suma 105\n",
      "suma końcowa 105\n"
     ]
    }
   ],
   "metadata": {}
  },
  {
   "cell_type": "markdown",
   "source": [
    "W powyższym przykładzie mamy do czynienia z modyfikacją zmiennej warunkowej (`accumulator`) w ciele funkcji. \n",
    "\n",
    "Często w ciele pętli `while` modyfikujemy zmienną, od której zależy jak długo program będzie pętlę wykonywał."
   ],
   "metadata": {}
  },
  {
   "cell_type": "markdown",
   "source": [
    "Istnieje też możliwość, że nasz program w ogóle nie wejdzie do ciała funkcji. \n",
    "\n",
    "Taka sytuacja nastąpi, jeśli w pierwszej iteracji warunek nie jest spełniony. Zobacz poniższe przykłady. \n",
    "\n",
    "Przykład drugi uruchom kilka razy żeby zobaczyć jak zachowuje się program w zależności od wylosowanej wartości."
   ],
   "metadata": {}
  },
  {
   "cell_type": "code",
   "execution_count": 24,
   "source": [
    "\n",
    "threshold = 10\n",
    "start = 12\n",
    "while start < threshold:\n",
    "    print(start)\n",
    "    start += 1\n",
    "\n",
    "print(start)"
   ],
   "outputs": [
    {
     "output_type": "stream",
     "name": "stdout",
     "text": [
      "12\n"
     ]
    }
   ],
   "metadata": {}
  },
  {
   "cell_type": "code",
   "execution_count": 25,
   "source": [
    "import random\n",
    "threshold = 10\n",
    "start = random.randrange(0, 20)\n",
    "print(\"Wartość początkowa\", start)\n",
    "\n",
    "while start < threshold:\n",
    "    print(\"Wartość w ciele funkcji\", start)\n",
    "    start += 1\n",
    "\n",
    "print(\"wartość końcowa\", start)"
   ],
   "outputs": [
    {
     "output_type": "stream",
     "name": "stdout",
     "text": [
      "Wartość początkowa 3\n",
      "Wartość w ciele funkcji 3\n",
      "Wartość w ciele funkcji 4\n",
      "Wartość w ciele funkcji 5\n",
      "Wartość w ciele funkcji 6\n",
      "Wartość w ciele funkcji 7\n",
      "Wartość w ciele funkcji 8\n",
      "Wartość w ciele funkcji 9\n",
      "wartość końcowa 10\n"
     ]
    }
   ],
   "metadata": {}
  },
  {
   "cell_type": "code",
   "execution_count": 26,
   "source": [
    "# Zadanie - przykład\n",
    "# W klasie jest 10 uczniów. Za pomocą pętli for wylosuj kolejność dużurów (żaden uczeń nie może mieć dyżuru 2 razy)\n",
    "\n",
    "students = ['Adam', 'Basia', 'Czesiek', 'Darek', 'Ewa', 'Feliks', 'Grażyna', 'Hania', 'Iza', 'Janek']\n",
    "\n",
    "while len(students) > 0:\n",
    "    student_on_duty = random.choice(students)\n",
    "    print(\"Dużurny to\", student_on_duty)\n",
    "    students.remove(student_on_duty)\n",
    "\n",
    "# W tym rozwiązaniu po wylosowaniu ucznia usuwamy go z puli uczniów i losujemy tak długo, aż pula uczniów się wyczerpie"
   ],
   "outputs": [
    {
     "output_type": "stream",
     "name": "stdout",
     "text": [
      "Dużurny to Hania\n",
      "Dużurny to Basia\n",
      "Dużurny to Adam\n",
      "Dużurny to Ewa\n",
      "Dużurny to Darek\n",
      "Dużurny to Grażyna\n",
      "Dużurny to Czesiek\n",
      "Dużurny to Iza\n",
      "Dużurny to Janek\n",
      "Dużurny to Feliks\n"
     ]
    }
   ],
   "metadata": {}
  },
  {
   "cell_type": "code",
   "execution_count": 27,
   "source": [
    "# Zadanie - przykład, rozwiąznie nr 2\n",
    "students = ['Adam', 'Basia', 'Czesiek', 'Darek', 'Ewa', 'Feliks', 'Grażyna', 'Hania', 'Iza', 'Janek']\n",
    "duty_order = []\n",
    "\n",
    "while len(duty_order) != len(students):\n",
    "    student_on_duty = random.choice(students)\n",
    "    if student_on_duty not in duty_order:\n",
    "        duty_order.append(student_on_duty)\n",
    "\n",
    "print(\"Kolejność dyżurów to:\", duty_order)\n",
    "# W tym budujemy nową listę duty_order dodając do niej wylosowanego ucznia (jeśli ucznia w niej jeszcze nie ma), powtarzamy aż na liście duty_order będą wszyscy uczniowie"
   ],
   "outputs": [
    {
     "output_type": "stream",
     "name": "stdout",
     "text": [
      "Kolejność dyżurów to: ['Janek', 'Iza', 'Adam', 'Grażyna', 'Basia', 'Darek', 'Ewa', 'Czesiek', 'Feliks', 'Hania']\n"
     ]
    }
   ],
   "metadata": {}
  },
  {
   "cell_type": "code",
   "execution_count": 28,
   "source": [
    "# Zadanie 4.1 - Rzuty kostką aż suma będzie większa od 50\n",
    "# Napisz pętlę w której symulowany jest rzut kostką (wylosowanie cyfry z zakresu <1, 5>), \n",
    "# następnie wynik dodawany jest do wcześniej zdefiniowanej sumy \n",
    "# i powtarzaj pętlę tak długo aż suma wylosowanych oczek będzie większa niż 50.\n",
    "\n",
    "# TIP: Pomocne linki znajdziesz pod zadaniami :) \n"
   ],
   "outputs": [],
   "metadata": {}
  },
  {
   "cell_type": "code",
   "execution_count": 29,
   "source": [
    "# Zadanie 4.2\n",
    "# Wylosuj liczbę od zera do 100, następie w pętli zmniejszaj tą liczbę o wylosowaną cyfrę (0 - 9) aż liczba będzie mniejsza od 0.\n"
   ],
   "outputs": [],
   "metadata": {}
  },
  {
   "cell_type": "code",
   "execution_count": 30,
   "source": [
    "# Zadanie 4.3 - Duży lotek\n",
    "# Spośród liczb z zakresu 1 - 49 wylosuj 6 liczb. Żadna z wylosowanych liczb nie może się powtarzać.  \n"
   ],
   "outputs": [],
   "metadata": {}
  },
  {
   "cell_type": "code",
   "execution_count": 31,
   "source": [
    "# Zadanie 4.4 - poprawa ocen\n",
    "# Jest koniec roku i uczeń ma dziesięć jedynek. \n",
    "# Aby zdać do następnej klasy uczeń musi poprawić tyle jedynek, aby średnia ocen przekroczyła 2.0\n",
    "# Każdą poprawioną jedynkę zastępujemy średnią z jedynki i oceny z poprawy. np. jeśli uczeń poprawił 1 na 4 to ostateczna ocena to (1 + 4) / 2 = 2.5. \n",
    "# Jako oceny z poprawy przyjmij losowe cyfry z od 2 do 5\n",
    "# Napisz pętlę w której zasymulujesz poprawę ocen aż średnia przekroczy 2.0\n"
   ],
   "outputs": [],
   "metadata": {}
  },
  {
   "cell_type": "code",
   "execution_count": 32,
   "source": [
    "# Zadanie 4.5 - Nie mogę spać\n",
    "# Kładziesz się spać o północy, a jutro masz ważną rzecz i musisz wstać o 6.\n",
    "# Niestety, źle śpisz i co jakiś czas się budzisz, sprawdzasz zegarek i jeśli nie ma jeszcze 6 śpisz dalej. \n",
    "# Za chwilę znowu się budzisz i tak do 6:00\n",
    "# Za pomocą pętli while zasymuluj opisaną wyżej sytuację. użyj fukcji time.sleep do symulacji zasypiania i wylosuj czas na jaki zasypiasz.\n",
    "# Przyjmij że 1s = 1h, czyli time.sleep(2) to zaśnięcie na 2h.\n"
   ],
   "outputs": [],
   "metadata": {}
  },
  {
   "cell_type": "code",
   "execution_count": 33,
   "source": [
    "# Zadanie 4.6 - wybór drużyn na WF\n",
    "# W klasie jest 10 uczniów. \n",
    "# W pierwszym kroku nauczyciel WFu wybiera 2 osoby na kapitanów drużyn.\n",
    "# Następnie kapitanowie na zmianę wybierają po 1 osobie do swojej drużyny, aż wszyscy uczniowie zostaną wybrani do którejś z drużyn.\n",
    "# Zasymuluj opisaną sytuację za pomocą pętli while. \n"
   ],
   "outputs": [],
   "metadata": {}
  },
  {
   "cell_type": "code",
   "execution_count": 20,
   "source": [
    "# Zadanie 4.7* - wybór drużyn na WF\n",
    "# Zadanie takie samo jak poprzednie, ale w klasie jest teraz 11 uczniów.\n",
    "\n"
   ],
   "outputs": [],
   "metadata": {}
  },
  {
   "cell_type": "markdown",
   "source": [
    "#### Linki do dokumentacji\n",
    "- `time.time()` https://docs.python.org/3/library/time.html#time.time\n",
    "- `time.sleep()` https://docs.python.org/3/library/time.html#time.sleep\n",
    "- `random.randrange()` https://docs.python.org/3/library/random.html#random.randrange\n",
    "- `random.choice()` https://docs.python.org/3/library/random.html#random.choice\n",
    "- `range` https://docs.python.org/3/library/functions.html#func-range\n",
    "- `list.append()`, `list.remove()`  https://docs.python.org/3/tutorial/datastructures.html?highlight=list%20append#more-on-lists\n"
   ],
   "metadata": {}
  }
 ],
 "metadata": {
  "kernelspec": {
   "name": "python3",
   "display_name": "Python 3.9.6 64-bit"
  },
  "language_info": {
   "codemirror_mode": {
    "name": "ipython",
    "version": 3
   },
   "file_extension": ".py",
   "mimetype": "text/x-python",
   "name": "python",
   "nbconvert_exporter": "python",
   "pygments_lexer": "ipython3",
   "version": "3.9.6"
  },
  "interpreter": {
   "hash": "d2152fd7f0bbc62aa1baff8c990435d1e2c7175d001561303988032604c11a48"
  }
 },
 "nbformat": 4,
 "nbformat_minor": 5
}