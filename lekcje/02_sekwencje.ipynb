{
 "cells": [
  {
   "cell_type": "markdown",
   "id": "plastic-immigration",
   "metadata": {},
   "source": [
    "# Sekwencje - zmienne grupowe\n",
    "\n",
    "## Co to jest sekwencja?\n",
    "\n",
    "Sekwencja (*ang. sequence*) to uporządkowana grupa wartości (kolejność elementów ma znaczenie).\n",
    "\n",
    "Najprostszym przykładem może być np. lista uczniów w szkolnym dzienniku. Uczniowie w dzienniku mają kolejność alfabetyczną, każdy uczeń ma swój numer w dzienniku i za każdym razem jak pomyślimy o uczniu nr 1 to mamy na myśli tego samego ucznia."
   ]
  },
  {
   "cell_type": "markdown",
   "id": "listed-introduction",
   "metadata": {},
   "source": [
    "### Listy"
   ]
  },
  {
   "cell_type": "markdown",
   "id": "ultimate-headset",
   "metadata": {},
   "source": [
    "Lista w pythonie to uporządkowana grupa elementów. Elementy mogą przyjmować wartości różnych typów."
   ]
  },
  {
   "cell_type": "code",
   "execution_count": 36,
   "id": "fewer-certification",
   "metadata": {},
   "outputs": [],
   "source": [
    "hours = [1, 2, 3, 4, 5, 6, 7, 8, 9, 10, 11, 12] # Lista o wartościach całkowitych (int)\n",
    "temperatures = [12.5, 16.1, 18.9, 14.2, 10.6] # Lista o wartościach ułakowych (float)\n",
    "kids = ['Ala', 'Jacek', 'Marysia'] # Lista, której wartościami sa napisy\n",
    "\n",
    "student = ['Ala', 15, 4.75] # Lista o wartościach różnych typów"
   ]
  },
  {
   "cell_type": "markdown",
   "id": "incoming-myrtle",
   "metadata": {},
   "source": [
    "#### Operacje na listach\n",
    "\n",
    "##### Indeksowanie listy\n",
    "Indeksowanie listy to inaczej pobranie z niej elementu. Możemy pobierać 1 lub likla elementów listy, np"
   ]
  },
  {
   "cell_type": "code",
   "execution_count": 37,
   "id": "friendly-timing",
   "metadata": {},
   "outputs": [
    {
     "name": "stdout",
     "output_type": "stream",
     "text": [
      "Ala\n"
     ]
    }
   ],
   "source": [
    "ala = kids[0] # pobranie 1 elementu listy kids. Elementy listy zawsze numerujemy od 0.\n",
    "print(ala)"
   ]
  },
  {
   "cell_type": "code",
   "execution_count": 38,
   "id": "twelve-atlantic",
   "metadata": {},
   "outputs": [
    {
     "name": "stdout",
     "output_type": "stream",
     "text": [
      "Jacek Marysia\n",
      "14.2\n"
     ]
    }
   ],
   "source": [
    "jacek = kids[1] # pobranie 2 elementu kids\n",
    "marysia = kids[-1] # pobranie ostatniego elementu kids\n",
    "\n",
    "print(jacek, marysia)\n",
    "\n",
    "afternoon_temperature = temperatures[-2] # pobranie przedostatniego elementu z listy temperatur\n",
    "print(afternoon_temperature)"
   ]
  },
  {
   "cell_type": "markdown",
   "id": "future-cooperative",
   "metadata": {},
   "source": [
    "Elementy z listy pobiera się za pomocą nawiasów klamrowych i maksymalnie 3 wartości oddzielonych dwukropkami: `[start:stop:step]`."
   ]
  },
  {
   "cell_type": "code",
   "execution_count": 39,
   "id": "domestic-courage",
   "metadata": {},
   "outputs": [
    {
     "name": "stdout",
     "output_type": "stream",
     "text": [
      "0\n",
      "1\n",
      "5\n",
      "4\n",
      "[0, 1]\n",
      "[2, 3]\n",
      "[0, 2, 4]\n",
      "[1, 3]\n",
      "[2, 3, 4, 5] [2, 3, 4, 5]\n",
      "[0, 1] [0, 1]\n",
      "[0, 1, 2, 3, 4, 5] [0, 1, 2, 3, 4, 5]\n",
      "[0, 1, 2, 3, 4]\n",
      "[5, 4, 3, 2, 1]\n",
      "[5, 3, 1]\n",
      "[3, 4, 5]\n"
     ]
    }
   ],
   "source": [
    "a = [0, 1, 2, 3, 4, 5]\n",
    "\n",
    "# Aby pobrać 1 element użyjemy a[i], gdzie i to *indeks* (\"numer w dzienniku\") elementu, np:\n",
    "print(a[0])\n",
    "print(a[1])\n",
    "print(a[-1])\n",
    "print(a[-2])\n",
    "\n",
    "# Aby pobrać elementy od i do j, używamy a[i:j]\n",
    "print(a[0:2])\n",
    "print(a[2:4])\n",
    "\n",
    "# Aby pobrać co 2 element użyjemy a[i:j:2]\n",
    "print(a[0:5:2]) # parzyste indeksy\n",
    "print(a[1:5:2]) # nieparzyste indeksy\n",
    "\n",
    "# Można pominąć start, stop lub step\n",
    "print(a[2::], a[2:])\n",
    "print(a[:2:], a[:2])\n",
    "print(a[::1], a[0:6:1])\n",
    "\n",
    "# start, stop i step mogą być liczbami ujemnymi\n",
    "print(a[0:-1]) # od pierwszej do ostatniej\n",
    "print(a[-1:0:-1]) # od ostatniej do pierwszej co minus jedną\n",
    "print(a[-1:0:-2]) # od ostatniej do pierwszej co minus dwie\n",
    "print(a[-3:]) # od 3 od końca do ostatniej"
   ]
  },
  {
   "cell_type": "code",
   "execution_count": 40,
   "id": "superior-attempt",
   "metadata": {},
   "outputs": [],
   "source": [
    "# Zadanie - Wybierz z listy hours godziny które uważasz za poranne i przypisz do zmiennej morning_hours\n"
   ]
  },
  {
   "cell_type": "markdown",
   "id": "protecting-sweet",
   "metadata": {},
   "source": [
    "##### Dodanie elementu do listy\n"
   ]
  },
  {
   "cell_type": "code",
   "execution_count": 53,
   "id": "particular-logic",
   "metadata": {},
   "outputs": [
    {
     "name": "stdout",
     "output_type": "stream",
     "text": [
      "[1, 2, 3, 4, 5, 6, 7, 8, 9, 10, 11, 12, 13]\n",
      "[1, 2, 3, 4, 5, 6, 7, 8, 9, 10, 11, 12, 13, 14, 15, 16, 17, 18, 19, 20]\n",
      "[1, 2, 3, 4, 5, 6, 7, 8, 9, 10, 11, 12, 13, 14, 15, 16, 17, 18, 19, 20, 21, 22, 23, 24]\n",
      "11\n",
      "10:30\n",
      "[1, 2, 3, 4, 5, 6, 7, 8, 9, 10, '10:30', 11, 12, 13, 14, 15, 16, 17, 18, 19, 20, 21, 22, 23, 24]\n"
     ]
    }
   ],
   "source": [
    "hours = [1, 2, 3, 4, 5, 6, 7, 8, 9, 10, 11, 12] \n",
    "\n",
    "# Dodanie pojedynczego elementu\n",
    "hours.append(13)\n",
    "print(hours)\n",
    "\n",
    "# dodanie wielu elementów, dodanie \n",
    "hours.extend([14, 15, 16, 17, 18, 19, 20])\n",
    "print(hours)\n",
    "\n",
    "late_hours = [21, 22, 23, 24]\n",
    "hours.extend(late_hours)\n",
    "print(hours)\n",
    "\n",
    "# wlożenie elementu na n-tą pozycję \n",
    "print(hours[10]) # przed operacją na indeksie 10 mamy wartość '11'\n",
    "\n",
    "hours.insert(10, '10:30') # na 10 indeksie teraz będziemy mieć wartość '10:30'\n",
    "print(hours[10])\n",
    "print(hours)"
   ]
  },
  {
   "cell_type": "code",
   "execution_count": 54,
   "id": "tutorial-surgery",
   "metadata": {},
   "outputs": [
    {
     "name": "stdout",
     "output_type": "stream",
     "text": [
      "['Ala', 'Ola', 'Kasia']\n",
      "['Tomek', 'Maciek']\n",
      "['Tomek', 'Maciek', 'Ala', 'Ola', 'Kasia']\n"
     ]
    }
   ],
   "source": [
    "# Można również z 2 list stworzyć nową listę\n",
    "girls = ['Ala', 'Ola', 'Kasia']\n",
    "boys = ['Tomek', 'Maciek']\n",
    "kids = boys + girls \n",
    "\n",
    "# używając + nie zmieniamy istniejących wcześniej list\n",
    "print(girls)\n",
    "print(boys)\n",
    "print(kids)"
   ]
  },
  {
   "cell_type": "markdown",
   "id": "light-aquarium",
   "metadata": {},
   "source": [
    "##### Usunięcie elementu z listy"
   ]
  },
  {
   "cell_type": "code",
   "execution_count": 57,
   "id": "ceramic-peoples",
   "metadata": {},
   "outputs": [
    {
     "name": "stdout",
     "output_type": "stream",
     "text": [
      "['jabłko', 'banan', 'gruszka', 'śliwka']\n",
      "['jabłko', 'gruszka', 'śliwka']\n",
      "['jabłko', 'śliwka']\n",
      "[]\n"
     ]
    }
   ],
   "source": [
    "# kilka sposobów na usunięcie elementów z listy\n",
    "fruits = ['jabłko', 'banan', 'gruszka', 'śliwka', 'nektaryna']\n",
    "\n",
    "fruits.pop() # Usuwamy ostatni element\n",
    "print(fruits)\n",
    "\n",
    "fruits.pop(1) # usuwamy element o indeksie 1 (drugi element listy)\n",
    "print(fruits)\n",
    "\n",
    "# Usunięcie elementu o zadanej wartości\n",
    "fruits.remove('gruszka')\n",
    "print(fruits)\n",
    "\n",
    "# Wyczyszczenie listy\n",
    "fruits.clear()\n",
    "print(fruits)"
   ]
  },
  {
   "cell_type": "markdown",
   "id": "passing-tattoo",
   "metadata": {},
   "source": [
    "Więcej o operacjach, które można wykonać na listach przeczytasz [tutaj](https://docs.python.org/3/tutorial/datastructures.html#more-on-lists)\n"
   ]
  },
  {
   "cell_type": "markdown",
   "id": "light-shopper",
   "metadata": {},
   "source": [
    "##### Wyszukiwanie elementu w liście"
   ]
  },
  {
   "cell_type": "code",
   "execution_count": 72,
   "id": "impaired-individual",
   "metadata": {},
   "outputs": [
    {
     "name": "stdout",
     "output_type": "stream",
     "text": [
      "True\n",
      "False\n",
      "True\n"
     ]
    }
   ],
   "source": [
    "# sposób 1 - za pomocą operatora in\n",
    "fruits = ['jabłko', 'banan', 'gruszka', 'śliwka', 'nektaryna']\n",
    "\n",
    "print('jabłko' in fruits)\n",
    "print('truskawka' in fruits)\n",
    "\n",
    "has_banana = 'banan' in fruits\n",
    "print(has_banana)"
   ]
  },
  {
   "cell_type": "code",
   "execution_count": 75,
   "id": "representative-sustainability",
   "metadata": {},
   "outputs": [
    {
     "name": "stdout",
     "output_type": "stream",
     "text": [
      "3\n",
      "1\n",
      "0\n"
     ]
    }
   ],
   "source": [
    "# Sposób 2 - za pomocą list.count\n",
    "fruits = ['jabłko', 'banan', 'gruszka', 'śliwka', 'nektaryna', 'jabłko', 'jabłko']\n",
    "print(fruits.count('jabłko'))\n",
    "print(fruits.count('banan'))\n",
    "print(fruits.count('truskawka'))"
   ]
  },
  {
   "cell_type": "code",
   "execution_count": 77,
   "id": "suspended-uniform",
   "metadata": {},
   "outputs": [
    {
     "name": "stdout",
     "output_type": "stream",
     "text": [
      "0\n",
      "1\n"
     ]
    },
    {
     "ename": "ValueError",
     "evalue": "'truskawka' is not in list",
     "output_type": "error",
     "traceback": [
      "\u001b[0;31m---------------------------------------------------------------------------\u001b[0m",
      "\u001b[0;31mValueError\u001b[0m                                Traceback (most recent call last)",
      "\u001b[0;32m<ipython-input-77-ea4b40263113>\u001b[0m in \u001b[0;36m<module>\u001b[0;34m\u001b[0m\n\u001b[1;32m      3\u001b[0m \u001b[0mprint\u001b[0m\u001b[0;34m(\u001b[0m\u001b[0mfruits\u001b[0m\u001b[0;34m.\u001b[0m\u001b[0mindex\u001b[0m\u001b[0;34m(\u001b[0m\u001b[0;34m'jabłko'\u001b[0m\u001b[0;34m)\u001b[0m\u001b[0;34m)\u001b[0m \u001b[0;31m# zwróci pozycję (indeks) pierwszego jabłka w liście\u001b[0m\u001b[0;34m\u001b[0m\u001b[0;34m\u001b[0m\u001b[0m\n\u001b[1;32m      4\u001b[0m \u001b[0mprint\u001b[0m\u001b[0;34m(\u001b[0m\u001b[0mfruits\u001b[0m\u001b[0;34m.\u001b[0m\u001b[0mindex\u001b[0m\u001b[0;34m(\u001b[0m\u001b[0;34m'banan'\u001b[0m\u001b[0;34m)\u001b[0m\u001b[0;34m)\u001b[0m\u001b[0;34m\u001b[0m\u001b[0;34m\u001b[0m\u001b[0m\n\u001b[0;32m----> 5\u001b[0;31m \u001b[0mprint\u001b[0m\u001b[0;34m(\u001b[0m\u001b[0mfruits\u001b[0m\u001b[0;34m.\u001b[0m\u001b[0mindex\u001b[0m\u001b[0;34m(\u001b[0m\u001b[0;34m'truskawka'\u001b[0m\u001b[0;34m)\u001b[0m\u001b[0;34m)\u001b[0m \u001b[0;31m# zwróci ValueError i następne operacje nie zostaną wykonane\u001b[0m\u001b[0;34m\u001b[0m\u001b[0;34m\u001b[0m\u001b[0m\n\u001b[0m\u001b[1;32m      6\u001b[0m \u001b[0mprint\u001b[0m\u001b[0;34m(\u001b[0m\u001b[0mfruits\u001b[0m\u001b[0;34m)\u001b[0m\u001b[0;34m\u001b[0m\u001b[0;34m\u001b[0m\u001b[0m\n",
      "\u001b[0;31mValueError\u001b[0m: 'truskawka' is not in list"
     ]
    }
   ],
   "source": [
    "# Sposób 3 - za pomocą list.index\n",
    "fruits = ['jabłko', 'banan', 'gruszka', 'śliwka', 'nektaryna', 'jabłko', 'jabłko']\n",
    "print(fruits.index('jabłko')) # zwróci pozycję (indeks) pierwszego jabłka w liście\n",
    "print(fruits.index('banan'))\n",
    "print(fruits.index('truskawka')) # zwróci ValueError i następne operacje nie zostaną wykonane\n",
    "print(fruits)"
   ]
  },
  {
   "cell_type": "markdown",
   "id": "formed-azerbaijan",
   "metadata": {},
   "source": [
    "##### Operacje wbudowane (build-in)"
   ]
  },
  {
   "cell_type": "markdown",
   "id": "decreased-oliver",
   "metadata": {},
   "source": [
    "Dodatkowo python ma kilka wbudowanych funkcji, które ułatwią działania matematyczne.\n",
    "(Funkcji wbudowanych nie wywołujemy `nazwa_listy.operacja`, tylko `operacja(nazwa_listy)`. \n",
    "\n",
    "Przykładami funkcji wbudowanych, które można uruchomić na liście są:\n",
    "- min - element o najniższej element\n",
    "- max - element o największej wartości\n",
    "- sum - suma wartości elementów\n",
    "- sorted - posortowana lista elementów\n",
    "- len - długość listy, liczba elementów\n",
    "\n",
    "Pełną listę wbudowanych funkcji znajdziesz [tutaj](https://docs.python.org/3/library/functions.html?highlight=min#built-in-functions). Nie wszystkie można wywołać na listach, więc na razie omówimy tylko wybrane."
   ]
  },
  {
   "cell_type": "code",
   "execution_count": 79,
   "id": "temporal-junction",
   "metadata": {},
   "outputs": [
    {
     "name": "stdout",
     "output_type": "stream",
     "text": [
      "5 1 16.5\n",
      "[1, 2, 2, 3, 3.5, 5]\n",
      "6\n",
      "[1, 3, 3.5, 2, 2, 5]\n"
     ]
    }
   ],
   "source": [
    "notes = [1, 3, 3.5, 2, 2, 5]\n",
    "worst_note = min(notes)\n",
    "best_note = max(notes)\n",
    "notes_sum = sum(notes)\n",
    "\n",
    "print(best_note, worst_note, notes_sum)\n",
    "print(sorted(notes))\n",
    "print(len(notes))\n",
    "\n",
    "# oryginalna lista nie została zmieniona!\n",
    "print(notes)"
   ]
  },
  {
   "cell_type": "code",
   "execution_count": 69,
   "id": "fundamental-professional",
   "metadata": {},
   "outputs": [],
   "source": [
    "# Zadanie 1 - policz średnią ucznia z ocenami z listy notes, zdefiniowanej powyżej.\n"
   ]
  },
  {
   "cell_type": "code",
   "execution_count": null,
   "id": "subsequent-playlist",
   "metadata": {},
   "outputs": [],
   "source": [
    "# Zadanie 2 - uczeń dostał 5 z zadania domowego. Dodaj nową ocenę do listy ocen i policz nową średnią.\n"
   ]
  },
  {
   "cell_type": "code",
   "execution_count": null,
   "id": "manufactured-cocktail",
   "metadata": {},
   "outputs": [],
   "source": [
    "# Zadanie 3 - uczeń poprawił ocenę 1 na 4. Zastąp jedynkę średnią z 1 i 4, a następnie policz nową średnią.\n"
   ]
  },
  {
   "cell_type": "markdown",
   "id": "useful-environment",
   "metadata": {},
   "source": [
    "### Napisy jako sekwencje"
   ]
  },
  {
   "cell_type": "markdown",
   "id": "dirty-throat",
   "metadata": {},
   "source": [
    "Podobnie jak lista, napis może być traktowany jako sekwencja.\n",
    "Możemy zmierzyć liczbę znaków w napisie używając funkcji len.\n",
    "\n",
    "Możemy pobierać pojedyńcze znaki bądź fragmenty napisu (indeksować napis). "
   ]
  },
  {
   "cell_type": "code",
   "execution_count": 80,
   "id": "independent-morrison",
   "metadata": {},
   "outputs": [
    {
     "name": "stdout",
     "output_type": "stream",
     "text": [
      "Długość alfabetu : 24\n",
      "A\n",
      "B\n",
      "C\n",
      "ABCDE\n",
      "Z\n",
      "Y\n",
      "TUWXY\n",
      "ACEGIKMORTWY\n",
      "ACEGIKMORTWY\n",
      "BDFHJLNPSUX\n",
      "ABCDEFGHIJKLMNOPRSTUWXYZ\n",
      "ACEGIKMORTWY\n",
      "ZYXWUTSRPONMLKJIHGFEDCBA\n"
     ]
    }
   ],
   "source": [
    "alphabet = 'ABCDEFGHIJKLMNOPRSTUWXYZ'\n",
    "print(\"Długość alfabetu :\", len(alphabet)) # len mierzy liczbę znaków w stringu\n",
    "\n",
    "# Pobranie pojedynczej wartości z napisu\n",
    "print(alphabet[0]) # Liczymy zawsze od 0, 0 to pierwszy element napisu\n",
    "print(alphabet[1]) # 1 to 2 element napisu\n",
    "print(alphabet[2])\n",
    "\n",
    "# Pobranie pierwszych 5 elementów z napisu\n",
    "print(alphabet[0:5])\n",
    "\n",
    "# Indeksowanie ujemne\n",
    "print(alphabet[-1]) # Ostatni znak\n",
    "print(alphabet[-2]) # Przedostatni znak\n",
    "print(alphabet[-6:-1]) # 5 ostatnich znaków\n",
    "\n",
    "# Indeksowanie z przeskokiem\n",
    "print(alphabet[0:-1:2]) # Co 2 litera z całego napisu\n",
    "print(alphabet[::2]) # Co 2 litera z całego napisu\n",
    "print(alphabet[1:-2:2]) # Co 2 litera napisu od 2 do przedostatniego znaku\n",
    "\n",
    "# Skrótowe zapisy indeksowania\n",
    "print(alphabet[:])  # Cały alfabet, równoważne z alphabet[0:-1]\n",
    "print(alphabet[::2])  # Cały alfabet, co 2 litera, równoważne z alphabet[0:-1:2]\n",
    "print(alphabet[::-1])  # Cały alfabet od końca"
   ]
  },
  {
   "cell_type": "code",
   "execution_count": 29,
   "id": "cordless-circuit",
   "metadata": {},
   "outputs": [
    {
     "name": "stdout",
     "output_type": "stream",
     "text": [
      "ABCDEFGHIJKLMNOPRSTUWXYZ ABCDEFGHIJKLMNOPRSTUWXYZ1234567890\n",
      "ABCDEFGHIJKLMNOPRSTUWXYZabcdef\n"
     ]
    }
   ],
   "source": [
    "alphabet = 'ABCDEFGHIJKLMNOPRSTUWXYZ'\n",
    "\n",
    "# Możemy dodać nowe znaki do napisu\n",
    "nums = '1234567890'\n",
    "aplhanums = alphabet + nums # operacja + zwraca nowy obiekt, musimy go przypisać do nowej zmiennej, stara nie zostanie nadpisana\n",
    "print(alphabet, aplhanums)\n",
    "\n",
    "\n",
    "alphabet += 'abcdef' # Operacja += nadpisuje zmienną\n",
    "print(alphabet)"
   ]
  },
  {
   "cell_type": "markdown",
   "id": "adverse-lexington",
   "metadata": {},
   "source": [
    "Listę operacji sekwencyjnych na napisach znajdziesz [tutaj](https://docs.python.org/3/library/stdtypes.html#common-sequence-operations)\n",
    "        "
   ]
  },
  {
   "cell_type": "code",
   "execution_count": 81,
   "id": "welsh-chase",
   "metadata": {},
   "outputs": [],
   "source": [
    "# Zadanie 1: Zmierz długość swojego imienia i utwórz zmienną email zawierającą imię.<długść imienia>@nazwisko.com, np. mając dane 'Jan Kowalski' mail ma wyglądać tak 'jan.3@kowalski.pl'\n",
    "name = 'Jan Kowalski'\n",
    "# email = ??"
   ]
  },
  {
   "cell_type": "code",
   "execution_count": 86,
   "id": "round-virtue",
   "metadata": {},
   "outputs": [],
   "source": [
    "# Zadanie 2: Policz wystąpienia litery p w nastepujących tutułach\n",
    "title1 = 'Przygody Tomka Sawyera' # powinno wyjść 1\n",
    "title2 = 'Pippi Pończoszanka' # powinno wyjść 4\n"
   ]
  }
 ],
 "metadata": {
  "kernelspec": {
   "display_name": "Python 3",
   "language": "python",
   "name": "python3"
  },
  "language_info": {
   "codemirror_mode": {
    "name": "ipython",
    "version": 3
   },
   "file_extension": ".py",
   "mimetype": "text/x-python",
   "name": "python",
   "nbconvert_exporter": "python",
   "pygments_lexer": "ipython3",
   "version": "3.9.3"
  }
 },
 "nbformat": 4,
 "nbformat_minor": 5
}
