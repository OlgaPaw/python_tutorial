{
 "cells": [
  {
   "cell_type": "markdown",
   "source": [
    "# Sekwencje - zmienne grupowe\n",
    "\n",
    "## Co to jest sekwencja?\n",
    "\n",
    "Sekwencja (*ang. sequence*) to uporządkowana grupa wartości (kolejność elementów ma znaczenie).\n",
    "\n",
    "Najprostszym przykładem może być np. lista uczniów w szkolnym dzienniku. Uczniowie w dzienniku mają kolejność alfabetyczną, każdy uczeń ma swój numer w dzienniku i za każdym razem jak pomyślimy o uczniu nr 1 to mamy na myśli tego samego ucznia."
   ],
   "metadata": {}
  },
  {
   "cell_type": "markdown",
   "source": [
    "### Listy"
   ],
   "metadata": {}
  },
  {
   "cell_type": "markdown",
   "source": [
    "Lista w pythonie to uporządkowana grupa elementów. Elementy mogą być różnych typów, np. `int`, `float`, `str`."
   ],
   "metadata": {}
  },
  {
   "cell_type": "code",
   "execution_count": 8,
   "source": [
    "hours = [1, 2, 3, 4, 5, 6, 7, 8, 9, 10, 11, 12] # Lista z elementami całkowitymi (int)\n",
    "temperatures = [12.5, 16.1, 18.9, 14.2, 10.6] # Lista z elementami ułamkowymi (float)\n",
    "kids = ['Ala', 'Jacek', 'Marysia'] # Lista, której elementami sa napisy\n",
    "\n",
    "student = ['Ala', 15, 4.75] # Lista o elementach różnych typów"
   ],
   "outputs": [],
   "metadata": {}
  },
  {
   "cell_type": "markdown",
   "source": [
    "#### Operacje na listach\n",
    "\n",
    "##### Indeksowanie listy\n",
    "Indeksowanie listy to inaczej pobranie z niej elementu. Możemy pobierać 1 lub likla elementów listy. Elementy listy zawsze numerujemy od 0."
   ],
   "metadata": {}
  },
  {
   "cell_type": "code",
   "execution_count": 24,
   "source": [
    "ala = kids[0]  # pobranie 1. elementu kids i przypisanie do zmiennej ala\n",
    "print(ala)  # wypisanie wartości zmiennej ala\n"
   ],
   "outputs": [
    {
     "output_type": "stream",
     "name": "stdout",
     "text": [
      "Ala\n"
     ]
    }
   ],
   "metadata": {}
  },
  {
   "cell_type": "code",
   "execution_count": 26,
   "source": [
    "jacek = kids[1]  # pobranie 2. elementu kids\n",
    "marysia = kids[-1]  # pobranie ostatniego elementu kids\n",
    "\n",
    "print(jacek, marysia) # jeśli do fukcji print podamy więcej argumentów wyświetli je oddzielone spacjami.\n",
    "print(\"Drugie dziecko to\", jacek, \"a trzecie\", marysia) # możemy to wykorzystać do zwiększenia czytelności wyświetlanych wyników \n"
   ],
   "outputs": [
    {
     "output_type": "stream",
     "name": "stdout",
     "text": [
      "Jacek Marysia\n",
      "Drugie dziecko to Jacek a trzecie Marysia\n"
     ]
    }
   ],
   "metadata": {}
  },
  {
   "cell_type": "code",
   "execution_count": 29,
   "source": [
    "afternoon_temperature = temperatures[-2] # pobranie przedostatniego elementu z listy temperatur\n",
    "print(\"Po południu było\", afternoon_temperature, \"stopni.\")"
   ],
   "outputs": [
    {
     "output_type": "stream",
     "name": "stdout",
     "text": [
      "Po południu było 14.2 stopni.\n"
     ]
    }
   ],
   "metadata": {}
  },
  {
   "cell_type": "markdown",
   "source": [
    "Elementy z listy pobiera się za pomocą nawiasów klamrowych i maksymalnie 3 wartości oddzielonych dwukropkami: `[start:stop:step]`."
   ],
   "metadata": {}
  },
  {
   "cell_type": "code",
   "execution_count": 35,
   "source": [
    "a = [1, 2, 3, 4, 5, 6] # definicja listy\n",
    "\n",
    "# Aby pobrać 1 element użyjemy a[i], gdzie i to *indeks* (\"numer w dzienniku\") elementu, np:\n",
    "print(a[0]) # pobieramy i wyświetlamy element o indeksie 0\n",
    "print(a[1])\n",
    "print(a[-1])\n",
    "print(a[-2])\n"
   ],
   "outputs": [
    {
     "output_type": "stream",
     "name": "stdout",
     "text": [
      "1\n",
      "2\n",
      "6\n",
      "5\n"
     ]
    }
   ],
   "metadata": {}
  },
  {
   "cell_type": "code",
   "execution_count": 36,
   "source": [
    "# Aby pobrać elementy od i do j, używamy a[i:j]\n",
    "print(a[0:2])\n",
    "print(a[2:4])"
   ],
   "outputs": [
    {
     "output_type": "stream",
     "name": "stdout",
     "text": [
      "[1, 2]\n",
      "[3, 4]\n"
     ]
    }
   ],
   "metadata": {}
  },
  {
   "cell_type": "code",
   "execution_count": 39,
   "source": [
    "# Pobieranie od start do stop co step elementów\n",
    " \n",
    "# Aby pobrać co 2 element użyjemy a[i:j:2]\n",
    "print(a[0:5:2])  # parzyste indeksy\n",
    "print(a[1:5:2])  # nieparzyste indeksy\n"
   ],
   "outputs": [
    {
     "output_type": "stream",
     "name": "stdout",
     "text": [
      "[1, 3, 5]\n",
      "[2, 4]\n"
     ]
    }
   ],
   "metadata": {}
  },
  {
   "cell_type": "code",
   "execution_count": 38,
   "source": [
    "# Można pominąć start, stop lub step\n",
    "print(a[2::], a[2:])\n",
    "print(a[:2:], a[:2])\n",
    "print(a[::1], a[0:6:1])\n"
   ],
   "outputs": [
    {
     "output_type": "stream",
     "name": "stdout",
     "text": [
      "[3, 4, 5, 6] [3, 4, 5, 6]\n",
      "[1, 2] [1, 2]\n",
      "[1, 2, 3, 4, 5, 6] [1, 2, 3, 4, 5, 6]\n"
     ]
    }
   ],
   "metadata": {}
  },
  {
   "cell_type": "code",
   "execution_count": 40,
   "source": [
    "# start, stop i step mogą być liczbami ujemnymi\n",
    "print(a[0:-1])  # od pierwszej do ostatniej\n",
    "print(a[-1:0:-1])  # od ostatniej do pierwszej co minus jedną\n",
    "print(a[-1:0:-2])  # od ostatniej do pierwszej co minus dwie\n",
    "print(a[-3:])  # od 3 od końca do ostatniej\n"
   ],
   "outputs": [
    {
     "output_type": "stream",
     "name": "stdout",
     "text": [
      "[1, 2, 3, 4, 5]\n",
      "[6, 5, 4, 3, 2]\n",
      "[6, 4, 2]\n",
      "[4, 5, 6]\n"
     ]
    }
   ],
   "metadata": {}
  },
  {
   "cell_type": "code",
   "execution_count": 42,
   "source": [
    "# Zadanie 2.1 - Wybierz z listy hours godziny które uważasz za poranne i przypisz do zmiennej morning_hours\n",
    "# Przykładowy wynik: [5, 6, 7, 8, 9]\n"
   ],
   "outputs": [],
   "metadata": {}
  },
  {
   "cell_type": "markdown",
   "source": [
    "##### Dodanie elementu do listy\n"
   ],
   "metadata": {}
  },
  {
   "cell_type": "code",
   "execution_count": 55,
   "source": [
    "hours = [1, 2, 3, 4, 5, 6, 7, 8, 9, 10, 11, 12] \n",
    "\n",
    "# Dodanie pojedynczego elementu\n",
    "hours.append(13)\n",
    "print(hours)\n",
    "\n",
    "# dodanie wielu elementów, inaczej dodanie listy do listy\n",
    "hours.extend([14, 15, 16, 17, 18, 19, 20])\n",
    "print(hours)\n",
    "\n",
    "late_hours = [21, 22, 23, 24]\n",
    "hours.extend(late_hours)\n",
    "print(hours)"
   ],
   "outputs": [
    {
     "output_type": "stream",
     "name": "stdout",
     "text": [
      "[1, 2, 3, 4, 5, 6, 7, 8, 9, 10, 11, 12, 13]\n",
      "[1, 2, 3, 4, 5, 6, 7, 8, 9, 10, 11, 12, 13, 14, 15, 16, 17, 18, 19, 20]\n",
      "[1, 2, 3, 4, 5, 6, 7, 8, 9, 10, 11, 12, 13, 14, 15, 16, 17, 18, 19, 20, 21, 22, 23, 24]\n"
     ]
    }
   ],
   "metadata": {}
  },
  {
   "cell_type": "code",
   "execution_count": 50,
   "source": [
    "# wlożenie elementu na n-tą pozycję\n",
    "print(hours[10])  # przed operacją na indeksie 10 mamy wartość '11'\n",
    "\n",
    "hours.insert(10, '10:30')  # na 10 indeksie teraz będziemy mieć wartość '10:30'\n",
    "print(hours[10])\n",
    "print(hours)"
   ],
   "outputs": [
    {
     "output_type": "stream",
     "name": "stdout",
     "text": [
      "11\n",
      "10:30\n",
      "[1, 2, 3, 4, 5, 6, 7, 8, 9, 10, '10:30', 11, 12, 13, 14, 15, 16, 17, 18, 19, 20, 21, 22, 23, 24]\n"
     ]
    }
   ],
   "metadata": {}
  },
  {
   "cell_type": "code",
   "execution_count": 54,
   "source": [
    "# Można również z 2 list stworzyć nową listę\n",
    "girls = ['Ala', 'Ola', 'Kasia']\n",
    "boys = ['Tomek', 'Maciek']\n",
    "kids = boys + girls \n",
    "\n",
    "# używając + nie zmieniamy istniejących wcześniej list\n",
    "print(girls)\n",
    "print(boys)\n",
    "print(kids)"
   ],
   "outputs": [
    {
     "output_type": "stream",
     "name": "stdout",
     "text": [
      "['Ala', 'Ola', 'Kasia']\n",
      "['Tomek', 'Maciek']\n",
      "['Tomek', 'Maciek', 'Ala', 'Ola', 'Kasia']\n"
     ]
    }
   ],
   "metadata": {}
  },
  {
   "cell_type": "markdown",
   "source": [
    "##### Usunięcie elementu z listy"
   ],
   "metadata": {}
  },
  {
   "cell_type": "code",
   "execution_count": 56,
   "source": [
    "# kilka sposobów na usunięcie elementów z listy\n",
    "fruits = ['jabłko', 'banan', 'gruszka', 'śliwka', 'nektaryna']\n",
    "\n",
    "fruits.pop() # Usuwamy ostatni element\n",
    "print(fruits)\n",
    "\n",
    "fruits.pop(1) # usuwamy element o indeksie 1 (drugi element listy)\n",
    "print(fruits)\n",
    "\n",
    "# Usunięcie elementu o zadanej wartości\n",
    "fruits.remove('gruszka')\n",
    "print(fruits)\n",
    "\n",
    "# Wyczyszczenie listy\n",
    "fruits.clear()\n",
    "print(fruits)"
   ],
   "outputs": [
    {
     "output_type": "stream",
     "name": "stdout",
     "text": [
      "['jabłko', 'banan', 'gruszka', 'śliwka']\n",
      "['jabłko', 'gruszka', 'śliwka']\n",
      "['jabłko', 'śliwka']\n",
      "[]\n"
     ]
    }
   ],
   "metadata": {}
  },
  {
   "cell_type": "markdown",
   "source": [
    "Więcej o operacjach, które można wykonać na listach przeczytasz [tutaj](https://docs.python.org/3/tutorial/datastructures.html#more-on-lists)\n"
   ],
   "metadata": {}
  },
  {
   "cell_type": "markdown",
   "source": [
    "##### Wyszukiwanie elementu w liście"
   ],
   "metadata": {}
  },
  {
   "cell_type": "code",
   "execution_count": 61,
   "source": [
    "# sposób 1 - za pomocą operatora in\n",
    "fruits = ['jabłko', 'banan', 'gruszka', 'śliwka', 'nektaryna']\n",
    "\n",
    "print('truskawka' in fruits)\n",
    "print('Czy jabłko jest na liście owoców?', 'jabłko' in fruits)\n",
    "\n",
    "has_banana = 'banan' in fruits\n",
    "print(has_banana)"
   ],
   "outputs": [
    {
     "output_type": "stream",
     "name": "stdout",
     "text": [
      "False\n",
      "Czy jabłko jest na liście owoców? True\n",
      "True\n"
     ]
    }
   ],
   "metadata": {}
  },
  {
   "cell_type": "code",
   "execution_count": 62,
   "source": [
    "# Sposób 2 - za pomocą list.count\n",
    "fruits = ['jabłko', 'banan', 'gruszka', 'śliwka', 'nektaryna', 'jabłko', 'jabłko']\n",
    "print(fruits.count('jabłko'))\n",
    "print(fruits.count('banan'))\n",
    "print(fruits.count('truskawka'))"
   ],
   "outputs": [
    {
     "output_type": "stream",
     "name": "stdout",
     "text": [
      "3\n",
      "1\n",
      "0\n"
     ]
    }
   ],
   "metadata": {}
  },
  {
   "cell_type": "code",
   "execution_count": 63,
   "source": [
    "# Sposób 3 - za pomocą list.index\n",
    "fruits = ['jabłko', 'banan', 'gruszka', 'śliwka', 'nektaryna', 'jabłko', 'jabłko']\n",
    "print(fruits.index('jabłko')) # zwróci pozycję (indeks) pierwszego jabłka w liście\n",
    "print(fruits.index('banan'))\n",
    "print(fruits.index('truskawka')) # zwróci ValueError i następne operacje nie zostaną wykonane\n",
    "print(fruits)"
   ],
   "outputs": [
    {
     "output_type": "stream",
     "name": "stdout",
     "text": [
      "0\n",
      "1\n"
     ]
    },
    {
     "output_type": "error",
     "ename": "ValueError",
     "evalue": "'truskawka' is not in list",
     "traceback": [
      "\u001b[0;31m---------------------------------------------------------------------------\u001b[0m",
      "\u001b[0;31mValueError\u001b[0m                                Traceback (most recent call last)",
      "\u001b[0;32m<ipython-input-63-ea4b40263113>\u001b[0m in \u001b[0;36m<module>\u001b[0;34m\u001b[0m\n\u001b[1;32m      3\u001b[0m \u001b[0mprint\u001b[0m\u001b[0;34m(\u001b[0m\u001b[0mfruits\u001b[0m\u001b[0;34m.\u001b[0m\u001b[0mindex\u001b[0m\u001b[0;34m(\u001b[0m\u001b[0;34m'jabłko'\u001b[0m\u001b[0;34m)\u001b[0m\u001b[0;34m)\u001b[0m \u001b[0;31m# zwróci pozycję (indeks) pierwszego jabłka w liście\u001b[0m\u001b[0;34m\u001b[0m\u001b[0;34m\u001b[0m\u001b[0m\n\u001b[1;32m      4\u001b[0m \u001b[0mprint\u001b[0m\u001b[0;34m(\u001b[0m\u001b[0mfruits\u001b[0m\u001b[0;34m.\u001b[0m\u001b[0mindex\u001b[0m\u001b[0;34m(\u001b[0m\u001b[0;34m'banan'\u001b[0m\u001b[0;34m)\u001b[0m\u001b[0;34m)\u001b[0m\u001b[0;34m\u001b[0m\u001b[0;34m\u001b[0m\u001b[0m\n\u001b[0;32m----> 5\u001b[0;31m \u001b[0mprint\u001b[0m\u001b[0;34m(\u001b[0m\u001b[0mfruits\u001b[0m\u001b[0;34m.\u001b[0m\u001b[0mindex\u001b[0m\u001b[0;34m(\u001b[0m\u001b[0;34m'truskawka'\u001b[0m\u001b[0;34m)\u001b[0m\u001b[0;34m)\u001b[0m \u001b[0;31m# zwróci ValueError i następne operacje nie zostaną wykonane\u001b[0m\u001b[0;34m\u001b[0m\u001b[0;34m\u001b[0m\u001b[0m\n\u001b[0m\u001b[1;32m      6\u001b[0m \u001b[0mprint\u001b[0m\u001b[0;34m(\u001b[0m\u001b[0mfruits\u001b[0m\u001b[0;34m)\u001b[0m\u001b[0;34m\u001b[0m\u001b[0;34m\u001b[0m\u001b[0m\n",
      "\u001b[0;31mValueError\u001b[0m: 'truskawka' is not in list"
     ]
    }
   ],
   "metadata": {}
  },
  {
   "cell_type": "code",
   "execution_count": 65,
   "source": [
    "# Zadanie 2.3 - oceny\n",
    "# a. Uczeń ma aktualnie oceny 2, 4, 3. Zdefiniuj listę ocen ucznia. \n",
    "# b. Następnie do ocen ucznia dodaj nową ocenę: 5. \n",
    "# c. Następnie z ocen ucznia usuń ocenę 2.\n",
    "# d. Wyświetl oceny. Oczekiwany wynik: [4, 3, 5]\n"
   ],
   "outputs": [],
   "metadata": {}
  },
  {
   "cell_type": "markdown",
   "source": [
    "##### Operacje wbudowane (build-in)"
   ],
   "metadata": {}
  },
  {
   "cell_type": "markdown",
   "source": [
    "Python ma kilka wbudowanych funkcji, które ułatwią działania matematyczne.\n",
    "(Funkcji wbudowanych nie wywołujemy `nazwa_listy.operacja`, tylko `operacja(nazwa_listy)`. \n",
    "\n",
    "Przykładami funkcji wbudowanych, które można uruchomić na liście są:\n",
    "- min - element o najniższej element\n",
    "- max - element o największej wartości\n",
    "- sum - suma wartości elementów\n",
    "- sorted - posortowana lista elementów\n",
    "- len - długość listy, liczba elementów\n",
    "\n",
    "Pełną listę wbudowanych funkcji znajdziesz [tutaj](https://docs.python.org/3/library/functions.html?highlight=min#built-in-functions). Nie wszystkie można wywołać na listach, więc na razie omówimy tylko wybrane."
   ],
   "metadata": {}
  },
  {
   "cell_type": "code",
   "execution_count": 72,
   "source": [
    "notes = [1, 3, 3.5, 2, 2, 5]\n",
    "worst_note = min(notes)\n",
    "best_note = max(notes)\n",
    "notes_sum = sum(notes)\n",
    "\n",
    "print(best_note, worst_note, notes_sum)\n",
    "print(sorted(notes))\n",
    "print(len(notes))\n",
    "\n",
    "# oryginalna lista nie została zmieniona!\n",
    "print(notes)"
   ],
   "outputs": [
    {
     "output_type": "stream",
     "name": "stdout",
     "text": [
      "5 1 16.5\n",
      "[1, 2, 2, 3, 3.5, 5]\n",
      "6\n",
      "[1, 3, 3.5, 2, 2, 5]\n"
     ]
    }
   ],
   "metadata": {}
  },
  {
   "cell_type": "code",
   "execution_count": 78,
   "source": [
    "# Zadanie 2.4 - policz średnią ucznia z ocenami z listy notes.\n",
    "# Oczekiwany wynik: 2.75\n",
    "notes = [1, 3, 3.5, 2, 2, 5]\n",
    "\n"
   ],
   "outputs": [],
   "metadata": {}
  },
  {
   "cell_type": "code",
   "execution_count": 77,
   "source": [
    "# Zadanie 2.5 - uczeń dostał 5 z zadania domowego. Dodaj nową ocenę do listy ocen i policz nową średnią.\n",
    "# Oczekiwany wynik: 3.0714285714285716\n",
    "notes = [1, 3, 3.5, 2, 2, 5]\n",
    "\n"
   ],
   "outputs": [],
   "metadata": {}
  },
  {
   "cell_type": "code",
   "execution_count": 80,
   "source": [
    "# Zadanie 2.6 - uczeń poprawił ocenę 1 na 4. Zastąp jedynkę średnią z 1 i 4, a następnie policz nową średnią.\n",
    "# Oczekiwany wynik: 3.2857142857142856\n",
    "notes = [1, 3, 3.5, 2, 2, 5, 5]\n",
    "\n"
   ],
   "outputs": [],
   "metadata": {}
  },
  {
   "cell_type": "markdown",
   "source": [
    "### Napisy jako sekwencje"
   ],
   "metadata": {}
  },
  {
   "cell_type": "markdown",
   "source": [
    "Podobnie jak lista, napis może być traktowany jako sekwencja.\n",
    "Możemy zmierzyć liczbę znaków w napisie używając funkcji len."
   ],
   "metadata": {}
  },
  {
   "cell_type": "code",
   "execution_count": 82,
   "source": [
    "alphabet = 'ABCDEFGHIJKLMNOPRSTUWXYZ'\n",
    "# len mierzy liczbę znaków w stringu (napisie)\n",
    "print(\"Długość alfabetu :\", len(alphabet))"
   ],
   "outputs": [
    {
     "output_type": "stream",
     "name": "stdout",
     "text": [
      "Długość alfabetu : 24\n"
     ]
    }
   ],
   "metadata": {}
  },
  {
   "cell_type": "markdown",
   "source": [
    "Możemy pobierać pojedyńcze znaki bądź fragmenty napisu (indeksować napis). "
   ],
   "metadata": {}
  },
  {
   "cell_type": "code",
   "execution_count": 84,
   "source": [
    "# Pobranie pojedynczej wartości z napisu\n",
    "print(alphabet[0]) # Liczymy zawsze od 0, 0 to pierwszy element napisu\n",
    "print(alphabet[1]) # 1 to 2 element napisu\n",
    "print(alphabet[2])"
   ],
   "outputs": [
    {
     "output_type": "stream",
     "name": "stdout",
     "text": [
      "A\n",
      "B\n",
      "C\n"
     ]
    }
   ],
   "metadata": {}
  },
  {
   "cell_type": "code",
   "execution_count": 85,
   "source": [
    "# Pobranie pierwszych 5 elementów z napisu\n",
    "print(alphabet[0:5])"
   ],
   "outputs": [
    {
     "output_type": "stream",
     "name": "stdout",
     "text": [
      "ABCDE\n"
     ]
    }
   ],
   "metadata": {}
  },
  {
   "cell_type": "code",
   "execution_count": 86,
   "source": [
    "# Indeksowanie ujemne\n",
    "print(alphabet[-1])  # Ostatni znak\n",
    "print(alphabet[-2])  # Przedostatni znak\n",
    "print(alphabet[-6:-1])  # 5 ostatnich znaków"
   ],
   "outputs": [
    {
     "output_type": "stream",
     "name": "stdout",
     "text": [
      "Z\n",
      "Y\n",
      "TUWXY\n"
     ]
    }
   ],
   "metadata": {}
  },
  {
   "cell_type": "code",
   "execution_count": 87,
   "source": [
    "# Indeksowanie z przeskokiem\n",
    "print(alphabet[0:-1:2])  # Co 2 litera z całego napisu\n",
    "print(alphabet[::2])  # Co 2 litera z całego napisu\n",
    "print(alphabet[1:-2:2])  # Co 2 litera napisu od 2 do przedostatniego znaku"
   ],
   "outputs": [
    {
     "output_type": "stream",
     "name": "stdout",
     "text": [
      "ACEGIKMORTWY\n",
      "ACEGIKMORTWY\n",
      "BDFHJLNPSUX\n"
     ]
    }
   ],
   "metadata": {}
  },
  {
   "cell_type": "code",
   "execution_count": 88,
   "source": [
    "# Skrótowe zapisy indeksowania\n",
    "print(alphabet[:])  # Cały alfabet, równoważne z alphabet[0:-1]\n",
    "# Cały alfabet, co 2 litera, równoważne z alphabet[0:-1:2]\n",
    "print(alphabet[::2])\n",
    "print(alphabet[::-1])  # Cały alfabet od końca"
   ],
   "outputs": [
    {
     "output_type": "stream",
     "name": "stdout",
     "text": [
      "ABCDEFGHIJKLMNOPRSTUWXYZ\n",
      "ACEGIKMORTWY\n",
      "ZYXWUTSRPONMLKJIHGFEDCBA\n"
     ]
    }
   ],
   "metadata": {}
  },
  {
   "cell_type": "code",
   "execution_count": 90,
   "source": [
    "alphabet = 'ABCDEFGHIJKLMNOPRSTUWXYZ'\n",
    "\n",
    "# Możemy dodać nowe znaki do napisu\n",
    "nums = '1234567890'\n",
    "aplhanums = alphabet + nums # operacja + zwraca nowy obiekt, musimy go przypisać do nowej zmiennej, stara nie zostanie nadpisana\n",
    "print(alphabet, aplhanums)\n",
    "\n",
    "alphabet += 'abcdef'  # Operacja += nadpisuje zmienną alphabet\n",
    "print(alphabet)\n"
   ],
   "outputs": [
    {
     "output_type": "stream",
     "name": "stdout",
     "text": [
      "ABCDEFGHIJKLMNOPRSTUWXYZ ABCDEFGHIJKLMNOPRSTUWXYZ1234567890\n",
      "ABCDEFGHIJKLMNOPRSTUWXYZabcdef\n"
     ]
    }
   ],
   "metadata": {}
  },
  {
   "cell_type": "markdown",
   "source": [
    "Listę operacji sekwencyjnych na napisach znajdziesz [tutaj](https://docs.python.org/3/library/stdtypes.html#common-sequence-operations)\n",
    "        "
   ],
   "metadata": {}
  },
  {
   "cell_type": "code",
   "execution_count": null,
   "source": [
    "# Zadanie 2.7: \n",
    "# a. Uwtórz zmienne imie, nazwisko zawierające twoje imię i nazwisko\n",
    "# b. Zmierz długość swojego imienia\n",
    "# c. Utwórz zmienną email zawierającą wartość imie.<długść imienia>@nazwisko.com używając zadeklarowanych wcześniej zmiennych\n",
    "# np. mając dane 'Jan Kowalski' mail ma wyglądać tak 'jan.3@kowalski.com'\n",
    "imie =\n",
    "nazwisko =\n",
    "\n",
    "email = \n",
    "print(email)"
   ],
   "outputs": [],
   "metadata": {}
  },
  {
   "cell_type": "code",
   "execution_count": 86,
   "source": [
    "# Zadanie 2.8: Policz wystąpienia litery p w nastepujących tutułach\n",
    "title1 = 'Przygody Tomka Sawyera' # powinno wyjść 1\n",
    "title2 = 'Pippi Pończoszanka' # powinno wyjść 4\n"
   ],
   "outputs": [],
   "metadata": {}
  }
 ],
 "metadata": {
  "kernelspec": {
   "name": "python3",
   "display_name": "Python 3.9.6 64-bit"
  },
  "language_info": {
   "codemirror_mode": {
    "name": "ipython",
    "version": 3
   },
   "file_extension": ".py",
   "mimetype": "text/x-python",
   "name": "python",
   "nbconvert_exporter": "python",
   "pygments_lexer": "ipython3",
   "version": "3.9.6"
  },
  "interpreter": {
   "hash": "e7370f93d1d0cde622a1f8e1c04877d8463912d04d973331ad4851f04de6915a"
  }
 },
 "nbformat": 4,
 "nbformat_minor": 5
}