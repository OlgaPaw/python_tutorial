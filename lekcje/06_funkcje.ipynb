{
 "cells": [
  {
   "cell_type": "markdown",
   "source": [
    "# Funkcje"
   ],
   "metadata": {}
  },
  {
   "cell_type": "markdown",
   "source": [
    "## Co to jest fukncja"
   ],
   "metadata": {}
  },
  {
   "cell_type": "markdown",
   "source": [
    "W rozumieniu matematycznym funkcja `y = f(x)` to przyporządkowanie każdemu parametrowi `x` wartości `y`. \n",
    "\n",
    "Najprostszym przykładem będzie funkcja przyporządkowania uczniom numerów w dzienniku. `x` to uczeń, a `y` to numerek, który uczeń otrzymał. \n",
    "\n",
    "Podobnie, możemy zdefiniować funkcję zliczającą liczbę znaków w imieniu - `y = len(x)`, gdzie `x` to imię, czyli `parametr` funkcji, a `y` to `wartość`, czyli wynik obliczeń wewnątrz funkcji. Taką funkcję w pythonie zapiszemy \n",
    "\n",
    "```python\n",
    "def y(x):\n",
    "    return len(x)\n",
    "```\n",
    "\n",
    "lub w bardziej czytelny sposób:\n",
    "\n",
    "```python\n",
    "def name_length(name):\n",
    "    return len(name)\n",
    "```"
   ],
   "metadata": {}
  },
  {
   "cell_type": "code",
   "execution_count": 15,
   "source": [
    "def name_length(name):\n",
    "    return len(name)"
   ],
   "outputs": [],
   "metadata": {}
  },
  {
   "cell_type": "markdown",
   "source": [
    "Jak pewnie zauważyłeś uruchomienie powyższego kodu nie wypisało żadnego wyniku. To dlatego, że fukncję należy nie tylko **zdefiniować**, ale także **wywołać**. \n",
    "\n",
    "Co to definicja, a co to wywołanie? Wytłumaczymy to sobie na przykładzie. \n",
    "Wyobraź sobie że kupiłeś termomixa. Termomix to robot, który umie gotować. Wraz z termomixem dostajesz kilka **gotowych przepisów**, ale także możesz **dodać** swoje. Samo dodanie przepisu nie sprawia, że mamy gotową potrawę, trzeba jeszcze nasz termomix **uruchomić**. Każdy przepis składa się także ze **składników**. W momencie dodawania nowego przepisu, wprowadzamy że potrzeba np. 2 jajka, szklankę mąki itp. \n",
    "\n",
    "Przepis to taki **szablon**, złożony ze **składników** oraz **instrukcji**. \n",
    "\n",
    "I tak przenosząc analogię na kod:\n",
    "Termomix to Python. W pythonie jest kilka funkcji **wbudowanych** (np. `min`, `max`, `len`) - to gotowe funkcje (przepisy), z których możesz korzystać. Dodawanie nowych przepisów to analogia do **definiowania** nowych funkcji. A **uruchomienie** termomixa, żeby zrobił potrawę wg. jakiegoś przepisu to analogia do **wywołania** funkcji. Żeby uruchomić termomixa wrzucamy do środka składniki, a do funkcji **przekazujemy parametry**. \n",
    "\n",
    "I tak, jakbyśmy chcieli zapisać instrukcje pieczenia chleba kodem, mielibyśmy coś takiego:\n",
    "\n",
    "```python\n",
    "def piecz_chleb(woda, drożdże, mąka):\n",
    "    wymieszaj(woda, drożdże, mąka)\n",
    "    poczekaj_do_wyrośnięcia(120)\n",
    "    piecz(120)\n",
    "```\n",
    "Przy założeniu że termomix ma wbudowane funkcje `wymieszaj`, `poczekaj_do_wyrośnięcia` i `piecz`."
   ],
   "metadata": {}
  },
  {
   "cell_type": "markdown",
   "source": [
    "Wróćmy jednak do pierwszego przykładu - funkcji liczącej ilość znaków w imieniu. \n",
    "\n",
    "Pisząc funkcję pamiętaj, że piszesz zestaw instrukcji dla pythona, które on potem wykona linia po linii. \n",
    "\n",
    "Jakie są więc kroki do policzenia długości imienia? Wiemy już że python ma wbudowaną funkcję `len`, którą możemy wykorzystać do obliczenia długości imienia. Krok jest jeden - wywołaj funkcję `len` na argumencie `name`.\n",
    "\n",
    "Zapiszmy więc definicję tej funckji, a następnie wywołajmy naszą funkcję, podając jej różne parametry (imiona)."
   ],
   "metadata": {}
  },
  {
   "cell_type": "code",
   "execution_count": 16,
   "source": [
    "# Definicja funkcji liczącej ilość znaków w imieniu\n",
    "def name_length(name):\n",
    "    return len(name)\n",
    "\n",
    "# Przykłady wywołania funkcji\n",
    "l = name_length('Ala')\n",
    "print(l)\n",
    "\n",
    "name = \"Aleksandra\"\n",
    "print(name_length(name))"
   ],
   "outputs": [
    {
     "output_type": "stream",
     "name": "stdout",
     "text": [
      "3\n",
      "10\n"
     ]
    }
   ],
   "metadata": {}
  },
  {
   "cell_type": "markdown",
   "source": [
    "To teraz napiszmy jakąś bardziej skomplikowaną funkcję, taką dla której będziemy musieli opisać kroki - np. policzmy średnią ocen.\n",
    "\n",
    "Jakie są dane wejściowe dla funkcji liczącej średnią ocen (co potrzebujemy żeby policzyć średnią)? - Oczywiście oceny!\n",
    "Dane wejściowe (oceny) staną się **argumentem** funkcji. \n",
    "\n",
    "Jakie kroki musimy wykonać żeby policzyć średnią?\n",
    "1. Zsumować wszystkie oceny\n",
    "2. Policzyć ile jest ocen\n",
    "3. Podzielić sumę ocen przez liczbę ocen\n",
    "\n",
    "No to teraz zapiszemy to w postaci **definicji** funkcji.   "
   ],
   "metadata": {}
  },
  {
   "cell_type": "code",
   "execution_count": 17,
   "source": [
    "def srednia(oceny): # nazwa funkcji: srednia, przymowane parametry (dane wejściowe): lista o nazwie oceny\n",
    "    suma = sum(oceny) # do zmiennej suma przypisujemy wynik wyowłania fukcji sum na zmiennej oceny\n",
    "    ilosc = len(oceny) # do zmiennej ilosc przypisujemy wynik wyowłania fukcji len na zmiennej oceny\n",
    "    return suma / ilosc # return określa co jest wynikiem działania funkcji, czyli daną wyjściową"
   ],
   "outputs": [],
   "metadata": {}
  },
  {
   "cell_type": "markdown",
   "source": [
    "Słowo kluczowe `return` określa wynik funkcji. Cokolwiek znajdzie się po słowie `return` zostanie `zwrócone` jako wynik funkcji i może zostać przypisane do zmiennej, bądź wyświetlone."
   ],
   "metadata": {}
  },
  {
   "cell_type": "code",
   "execution_count": 7,
   "source": [
    "print(srednia([2,4,3]))\n",
    "\n",
    "wynik = srednia([1, 2, 3, 4, 5, 6, 7, 8, 9])\n",
    "print(wynik)"
   ],
   "outputs": [
    {
     "output_type": "stream",
     "name": "stdout",
     "text": [
      "3.0\n",
      "5.0\n"
     ]
    }
   ],
   "metadata": {}
  },
  {
   "cell_type": "markdown",
   "source": [
    "Zobaczmy więc co się stanie jak nie damy `return` w funkcji."
   ],
   "metadata": {}
  },
  {
   "cell_type": "code",
   "execution_count": 8,
   "source": [
    "def srednia(oceny):\n",
    "    suma = sum(oceny)\n",
    "    ilosc = len(oceny)\n",
    "    wynik = suma / ilosc\n",
    "\n",
    "print(srednia([1, 3]))"
   ],
   "outputs": [
    {
     "output_type": "stream",
     "name": "stdout",
     "text": [
      "None\n"
     ]
    }
   ],
   "metadata": {}
  },
  {
   "cell_type": "markdown",
   "source": [
    "Gdy fukncja nie ma słowa kluczowego `return`, wtedy domyślnie zwraca wartość `None`. `None` to specjalny typ w pythonie, używany do zaznaczenia, że czegoś nie ma."
   ],
   "metadata": {}
  },
  {
   "cell_type": "markdown",
   "source": [
    "Wszystkie instrukcje znajdujące się wewnątrz definicji funkcji stanowią **ciało** funkcji. \n",
    "To, że instrukcja jest wewnątrz poznajemy po **wcięciu** (ang. *indent*, zwyczajowo 4 są to spacje)"
   ],
   "metadata": {}
  },
  {
   "cell_type": "markdown",
   "source": [
    "No dobra, ale po co nam te funkcje? Przecież mogę zapisać to tak:"
   ],
   "metadata": {}
  },
  {
   "cell_type": "code",
   "execution_count": 9,
   "source": [
    "oceny = [1, 2, 3, 4, 5, 6, 7, 8, 9]\n",
    "suma = sum(oceny)\n",
    "ilosc = len(oceny)\n",
    "print(suma / ilosc)\n"
   ],
   "outputs": [
    {
     "output_type": "stream",
     "name": "stdout",
     "text": [
      "5.0\n"
     ]
    }
   ],
   "metadata": {}
  },
  {
   "cell_type": "markdown",
   "source": [
    "To oczywiście prawda, większość rzeczy można zapisać bez funkcji. Funkcje pełnią jednak 2 ważne role:\n",
    "1. Nazywają kod\n",
    "2. Pozwalają na ponowne wywołanie\n",
    "\n",
    "W przypadku prostego kodu zysk z nazwania funkcji jest może niewielki, ale jeśli mamy kod, który realizuje skomplikowane operacje albo ma wiele kroków, to utworzenie funkcji o dobrej nazwie zdecydowanie zwiększa czytelność. \n",
    "\n",
    "Drugi argument wyjaśnimy sobie na przykładzie liczenia średniej dla wszystkich uczniów w klasie, a także średniej całej klasy"
   ],
   "metadata": {}
  },
  {
   "cell_type": "code",
   "execution_count": 10,
   "source": [
    "def srednia(oceny):\n",
    "    suma = sum(oceny)\n",
    "    ilosc = len(oceny)\n",
    "    return suma / ilosc\n",
    "\n",
    "oceny = {\n",
    "    'Andrzejczak Adam': [1, 3, 4, 2, 5],\n",
    "    'Borkowska Katarzyna': [2, 4, 5, 6, 3, 2],\n",
    "    'Kowalski Jan': [5, 4, 2, 3, 1, 6],\n",
    "    'Zimniewicz Aleksandra': [3, 2, 4, 2, 5]\n",
    "}\n",
    "\n",
    "# średnie dla każdego ucznia\n",
    "srednie = {}\n",
    "for uczen, oceny_ucznia in oceny.items():\n",
    "    srednie[uczen] = srednia(oceny_ucznia)\n",
    "print(srednie)  # słownik zawierający klucz - nazwisko i imię ucznia oraz wartość - średnią ocen\n",
    "\n",
    "# średnia ocena klasy\n",
    "print(srednia(srednie.values()))\n"
   ],
   "outputs": [
    {
     "output_type": "stream",
     "name": "stdout",
     "text": [
      "{'Andrzejczak Adam': 3.0, 'Borkowska Katarzyna': 3.6666666666666665, 'Kowalski Jan': 3.5, 'Zimniewicz Aleksandra': 3.2}\n",
      "3.341666666666667\n"
     ]
    }
   ],
   "metadata": {}
  },
  {
   "cell_type": "code",
   "execution_count": 11,
   "source": [
    "oceny = {\n",
    "    'Andrzejczak Adam': [1, 3, 4, 2, 5],\n",
    "    'Borkowska Katarzyna': [2, 4, 5, 6, 3, 2],\n",
    "    'Kowalski Jan': [5, 4, 2, 3, 1, 6],\n",
    "    'Zimniewicz Aleksandra': [3, 2, 4, 2, 5]\n",
    "}\n",
    "\n",
    "# średnie dla każdego ucznia\n",
    "srednie = {}\n",
    "for uczen, oceny_ucznia in oceny.items():\n",
    "    suma = sum(oceny_ucznia)\n",
    "    ilosc = len(oceny_ucznia)\n",
    "    srednie[uczen] = suma / ilosc\n",
    "print(srednie)\n",
    "\n",
    "# średnia ocena klasy\n",
    "suma_srednich = sum(srednie.values())\n",
    "ilosc_srednich = len(srednie.values())\n",
    "srednia_klasy = suma_srednich / ilosc_srednich\n",
    "\n",
    "print(srednia_klasy)\n"
   ],
   "outputs": [
    {
     "output_type": "stream",
     "name": "stdout",
     "text": [
      "{'Andrzejczak Adam': 3.0, 'Borkowska Katarzyna': 3.6666666666666665, 'Kowalski Jan': 3.5, 'Zimniewicz Aleksandra': 3.2}\n",
      "3.341666666666667\n"
     ]
    }
   ],
   "metadata": {}
  },
  {
   "cell_type": "markdown",
   "source": [
    "Jak widzicie w obu przypadkach wynik jest ten sam, ale w 2 musieliśmy skopiować kod liczący średnią. Pół biedy jeśli kod, który duplikujemy ma 3 linie i wklejamy go tylko w 2 miejscach, ale jeśli ma wiele linii i chcemy go użyć w wielu miejscach to zysk jest ogromny. "
   ],
   "metadata": {}
  },
  {
   "cell_type": "code",
   "execution_count": 12,
   "source": [
    "# Zadanie 6.1\n",
    "# Napisz funkcję brutto_vat_a doliczającą 23% do ceny netto\n",
    "\n",
    "def brutto_vat_a(net):\n",
    "    # Tu wpisz ciało funkcji\n",
    "    return\n",
    "\n",
    "\n",
    "# Testy wywołania, jeśli pojawi się AssertionError to znaczy że źle zdefiniowałeś funkcję.\n",
    "print(\"Wg twojej funckji cena brutto to\", brutto_vat_a(1), \"a powinno być 1.23\")\n",
    "print(\"Wg twojej funckji cena brutto to\", brutto_vat_a(10), \"a powinno być 12.3\")\n",
    "print(\"Wg twojej funckji cena brutto to\", brutto_vat_a(100), \"a powinno być 123.0\")\n"
   ],
   "outputs": [
    {
     "output_type": "stream",
     "name": "stdout",
     "text": [
      "Wg twojej funckji cena brutto to None a powinno być 1.23\n",
      "Wg twojej funckji cena brutto to None a powinno być 12.3\n",
      "Wg twojej funckji cena brutto to None a powinno być 123.0\n"
     ]
    }
   ],
   "metadata": {}
  },
  {
   "cell_type": "markdown",
   "source": [
    "## Wiele parametrów w jednej funkcji\n",
    "\n",
    "Jak pewnie się domyślasz, funkcja może mieć więcej parametrów. \n",
    "\n",
    "Funkcję liczącą cenę brutto można przepisać tak, by była bardziej generyczna, tzn. obsługiwała więcej stawek VAT. Stawki VAT oznaczamy literkami A (23%), B (8%), C (5%) oraz D (0%). Napiszemy funkcję, która przyjmie 2 parametry: kwotę netto oraz oznaczenie stawki VAT i policzy cenę brutto.\n",
    "\n"
   ],
   "metadata": {}
  },
  {
   "cell_type": "code",
   "execution_count": 18,
   "source": [
    "def brutto(netto, vat): # parametry: cena netto oraz stawka VAT (A, B, C lub D)\n",
    "    vat_map = {\n",
    "        'A': 0.23,\n",
    "        'B': 0.08,\n",
    "        'C': 0.05,\n",
    "        'D': 0,\n",
    "    }\n",
    "    return netto * (1 + vat_map[vat])\n",
    "\n",
    "# Powinno wyprintować 4x True\n",
    "print(brutto(1, 'A') == 1.23)\n",
    "print(brutto(1, 'B') == 1.08)\n",
    "print(brutto(1, 'C') == 1.05)\n",
    "print(brutto(1, 'D') == 1)\n"
   ],
   "outputs": [
    {
     "output_type": "stream",
     "name": "stdout",
     "text": [
      "True\n",
      "True\n",
      "True\n",
      "True\n"
     ]
    }
   ],
   "metadata": {}
  },
  {
   "cell_type": "markdown",
   "source": [
    "W pythonie domyślnie parametry są przekazywane do fukcji po pozycji. \n",
    "\n",
    "Oznacza to, że gdy wywołamy `brutto(1, 'A')` python \"weźmie\" kolejne argumenty z definicji `def brutto(netto, vat)` i przypisze do nich kolejne wartości z wywołania. Do parametru  `netto` trafi wartość `1`, a do parametru `vat` trafi wartość `'A'`. \n"
   ],
   "metadata": {}
  },
  {
   "cell_type": "code",
   "execution_count": 14,
   "source": [
    "# Zadanie 6.2\n",
    "# Wykorzystaj funkcję brutto do policzenia sumy kosztów brutto poniższych zakupów\n",
    "\n",
    "zakupy = [\n",
    "    # nazwa, netto, stawka VAT,\n",
    "    ['woda', 3.50, 'B'],\n",
    "    ['chleb', 5.00, 'B'],\n",
    "    ['cukierki', 12.50, 'A'],\n",
    "    ['mydło', 7.99, 'C'],\n",
    "    ['ziemniaki', 4.99, 'D'],\n",
    "]\n",
    "\n",
    "# napisz kod tak, aby wynik trafił do zmiennej do_zaplaty\n",
    "do_zaplaty = 0\n",
    "\n",
    "print(do_zaplaty, 'powinno wynieść', 37.9345)\n"
   ],
   "outputs": [
    {
     "output_type": "stream",
     "name": "stdout",
     "text": [
      "0 powinno wynieść 37.9345\n"
     ]
    }
   ],
   "metadata": {}
  },
  {
   "cell_type": "code",
   "execution_count": 27,
   "source": [
    "# Zadanie 6.3 - Podzielność liczb\n",
    "\n",
    "# Napisz funkcję która sprawdzi czy dana liczba (dzielna), jest podzielna przez 2. \n",
    "# Sprawdź działanie wywołując funkcję z dzielną = 10 (oczekiwany wynik True) i dzielną = 9 (oczekiwany wynik False)\n",
    "\n",
    "\n",
    "# Następnie zmodyfikuj tę funkcję, żeby sprawdzała podzielność przez dowolny dzielnik\n",
    "# Sprawdź działanie wywołując z różnymi parametrami, np:\n",
    "#   dzielna = 10, dzielnik = 2, oczekiwany wynik = True\n",
    "#   dzielna = 10, dzielnik = 3, oczekiwany wynik = False\n",
    "#   dzielna = 12, dzielnik = 4, oczekiwany wynik = True\n",
    "#   dzielna = 121, dzielnik = 11, oczekiwany wynik = True\n",
    "\n",
    "\n",
    "# Następnie wykorzystaj funkcję do wypisania wszystkich dzielników liczby 24.\n",
    "# Oczekiwany wynik: [1, 2, 3, 4, 6, 8, 12, 24]\n",
    "\n",
    "\n",
    "# Następnie przekształć powyższy kod w funkcję, która wypisze wszystkie dzielniki dowonlej liczby.\n",
    "# Sprawdź napisaną fukcję wywołując ją na liczbach:\n",
    "#    24: oczekiwany wynik jak powyżej\n",
    "#    36: oczekiwany wynik: [1, 2, 3, 4, 6, 9, 12, 18, 36]\n",
    "#    37: oczekiwany wynik: [1, 37]\n",
    "\n"
   ],
   "outputs": [],
   "metadata": {}
  },
  {
   "cell_type": "markdown",
   "source": [
    "## Parametr domyślny\n",
    "\n",
    "Fukcja może mieć tzw. parametry domyślne. Oznacza to, że nie musimy do jej wywołania przekazać wszystkich parametrów. \n",
    "\n",
    "Przykładem może być np. gotowanie wody w czajniku z regulowaną temperaturą. \n",
    "Domyślnie włączamy czajnik na 100 stopni (i pewnie 9/10 razy kiedy wstawiamy czajnik, chcemy aby ugotował wodę do wrzenia), ale mamy też opcję wstawienia na inną temperaturę, np. 40, 70, 80 i 90 stopni. "
   ],
   "metadata": {}
  },
  {
   "cell_type": "code",
   "execution_count": 31,
   "source": [
    "import time\n",
    "import random\n",
    "\n",
    "def measure_temp():\n",
    "    # Zmierz temperature. Na potrzeby demonstracji wylosujemy liczbę z zakresu 0 - 100\n",
    "    temperature = random.randrange(0, 101, 10)\n",
    "    return temperature\n",
    "\n",
    "def boil_water(temparature=100):    # wartość domyślna - 100 stopni\n",
    "    current_temp = measure_temp()\n",
    "    while current_temp != temparature:\n",
    "        current_temp = measure_temp()\n",
    "        time.sleep(0.1)\n",
    "    return current_temp\n",
    "\n",
    "\n",
    "temp1 = boil_water(70)  # wywołanie z podaniem argumentu\n",
    "print(temp1)\n",
    "\n",
    "temp1 = boil_water()    # wywołanie z domyślną wartością parametru\n",
    "print(temp1)\n"
   ],
   "outputs": [
    {
     "output_type": "stream",
     "name": "stdout",
     "text": [
      "70\n",
      "100\n"
     ]
    }
   ],
   "metadata": {}
  },
  {
   "cell_type": "code",
   "execution_count": 36,
   "source": [
    "# Zadanie 6.4 - potęgi\n",
    "# Napisz funkcję do liczenia potęgi liczby. Niech domyślną potegą będzie 2. Funkcja powinna pozwalać na liczenie potęgi dowolnego stopnia. \n",
    "# Oczekiwane wyniki:\n",
    "#    pow(10, 2) = 100\n",
    "#    pow(10) = 100\n",
    "#    pow(10, 3) = 1000\n",
    "#    pow(5) = 25\n",
    "#    pow(5) = 25\n",
    "#    pow(2) = 4\n",
    "#    pow(2, 10) = 1024\n"
   ],
   "outputs": [],
   "metadata": {}
  }
 ],
 "metadata": {
  "kernelspec": {
   "name": "python3",
   "display_name": "Python 3.9.6 64-bit"
  },
  "language_info": {
   "codemirror_mode": {
    "name": "ipython",
    "version": 3
   },
   "file_extension": ".py",
   "mimetype": "text/x-python",
   "name": "python",
   "nbconvert_exporter": "python",
   "pygments_lexer": "ipython3",
   "version": "3.9.6"
  },
  "interpreter": {
   "hash": "d2152fd7f0bbc62aa1baff8c990435d1e2c7175d001561303988032604c11a48"
  }
 },
 "nbformat": 4,
 "nbformat_minor": 5
}