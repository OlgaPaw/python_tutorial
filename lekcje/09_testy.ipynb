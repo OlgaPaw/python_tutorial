{
 "cells": [
  {
   "cell_type": "markdown",
   "source": [
    "# Testy\n",
    "\n",
    "Testy to kod, który ma na celu zweryfikowanie poprawności działania innego kodu oraz ochronę tego kodu przed późniejszymi zmianami.\n",
    "\n",
    "Jest wiele poziomów i strategii testowania, można by o tym pisać całe elaboraty. Dla uproszczenia przyjmiemy najbardziej rozpowszechniony podział, czyli na 4 poziomy:\n",
    "- testy modułowe (jednostkowych) - testują działanie małych fragmentów kodu, pojedynczych klas, funkcji lub modułów.\n",
    "- testy integracyjne - testują interakcje między modułami wewnątrz systemu lub między podsystemami (np. API - frontend)\n",
    "- testy systemowe (e2e - end to end) - testy sprawdzające czy system jako całość (od interfejsu użytkownika przez wszystkie wewnętrzne elementy systemu) spełnia wymagania.\n",
    "- testy akceptacyjne - testy sprawdzające przydatność systemu przez użytkownika końcowego\n",
    "\n",
    "To jakie poziomy testowania zostaną wprowadzone w projekcie zależy wielkości projektu, jego ważności oraz liczby zaangażowanych ludzi. Tu skupimy się jednak na 1 rodzaju testów, tym najbliżej kodu - testach modułowych."
   ],
   "metadata": {}
  },
  {
   "cell_type": "markdown",
   "source": [
    "Testy jednostkowe / modułowe powinny powstawać razem z kodem. Stanowią one niejako gwarancję, że kod który piszemy zgadza się z założeniami. Dodatkowo, testy chronią kod przed przypadkowymi zmianami - jeśli pracujesz w projekcie z innymi ludźmi, to może się zdarzyć że będziesz modyfikować czyjś kod, a ktoś Twój. W takim przypadku możesz nie być w 100% pewny swoich zmian i jeśli testy zostały wcześniej napisane to czujesz się pewniej - jeśli coś zmieniłeś i testy nadal przechodzą, to prawdopodobnie nie zepsułeś już działającej funkcjonalności. "
   ],
   "metadata": {}
  },
  {
   "cell_type": "markdown",
   "source": [
    "Jako przykład napiszemy sobie testy jednostkowe do funkcji dzielenia - najpierw zdefiniujemy sobie funkję `divide`"
   ],
   "metadata": {}
  },
  {
   "cell_type": "code",
   "execution_count": 3,
   "source": [
    "def divide(dividend, divisor):\n",
    "    return dividend/divisor"
   ],
   "outputs": [],
   "metadata": {}
  },
  {
   "cell_type": "markdown",
   "source": [
    "A następnie napiszemy do niej 2 testy:\n",
    "- scenariusz pozytywny `test_divide` - wybieramy jakieś dane wejściowe (10 będziemy dzielić przez 2) i definiujemy oczekiwany wynik (5). Następnie wywołujemy funkcję `divide` i sprawdzamy, czy wynik wywołania jest tożsamy z oczekiwanym wynikiem.\n",
    "\n",
    "- scenariusz negatywny `test_divide_zero` - każdy wie że nie można dzielić przez zero. Oczekiwanym rezultatem wywołania funkcji `divide` z dzieleniem przez 0 jest wyjątek `ZeroDivisionError` (o wyjątkach będzie w późniejszych lekcjach)"
   ],
   "metadata": {}
  },
  {
   "cell_type": "code",
   "execution_count": 11,
   "source": [
    "import unittest\n",
    "\n",
    "\n",
    "class TestDivision(unittest.TestCase):\n",
    "    def test_divide(self):\n",
    "        self.assertEqual(divide(10, 2), 5)\n",
    "        \n",
    "    def test_divide_zero(self):\n",
    "        with self.assertRaises(ZeroDivisionError):\n",
    "            divide(10, 0)\n",
    "\n",
    "\n",
    "unittest.main(argv=[''], verbosity=2, exit=False)"
   ],
   "outputs": [
    {
     "output_type": "stream",
     "name": "stderr",
     "text": [
      "test_divide (__main__.TestDivision) ... ok\n",
      "test_divide_zero (__main__.TestDivision) ... ok\n",
      "\n",
      "----------------------------------------------------------------------\n",
      "Ran 2 tests in 0.002s\n",
      "\n",
      "OK\n"
     ]
    },
    {
     "output_type": "execute_result",
     "data": {
      "text/plain": [
       "<unittest.main.TestProgram at 0x7faceb9a3370>"
      ]
     },
     "metadata": {},
     "execution_count": 11
    }
   ],
   "metadata": {}
  },
  {
   "cell_type": "markdown",
   "source": [
    "## Jak pisać dobre testy\n",
    "\n",
    "Każdy test powinien składać się z 3 części:\n",
    "- przygotowanie - ustawienie warunków wstępnych, symulacja sytuacji w której chcemy przetestować nasz kod\n",
    "- wywołanie testowanego kodu\n",
    "- sprawdzenie rezultatów wywołania (*assert*).\n",
    "\n",
    "Warto rozdzielić powyższe fazy np. dodatkową wolną linią, np.\n",
    "```python\n",
    "def test_division(self):\n",
    "    dividend = 10\n",
    "    division = 2\n",
    "\n",
    "    result = divide(divident, division)\n",
    "\n",
    "    expected_result = 5\n",
    "    self.assertEqual(result, expected_result)\n",
    "```\n",
    "\n",
    "Testy mają na celu sprawdzanie, czy kod działa zgodnie ze specyfikacją - dobrze jest więc przed napisaniem testu określić wymagania dla pisanego kodu. Np, inaczej napiszemy test, jeśli w przypadku dzielenia przez zero oczekiwany jest wyjątek, a inaczej, jeśli funkcja ma wtedy zwracać np. `None`.\n",
    "\n",
    "```python\n",
    "def test_zero_division_should_raise_exception(self):\n",
    "    with self.assertRaises(ZeroDivisionError):\n",
    "        divide(10, 0)\n",
    "```\n",
    "\n",
    "\n",
    "```python\n",
    "def test_zero_division_should_return_none(self):\n",
    "    result = divide(10, 0)\n",
    "    self.assertEqual(result, None)\n",
    "```\n",
    "\n",
    "Pisząc test zwróć również uwagę na jego nazwę - powinna jasno i zwięźle opisywać przypadek testowy, np nazwa `test_zero_division_should_return_none` od razu nam określa wymagania - już czytając nazwę wiadomo co kod powinien robić. To bardzo pomaga przy większym zestawie testów - jeśli jakiś test nie przejdzie, widzimy jego nazwę i już wiemy w jakim obszarze mamy problem."
   ],
   "metadata": {}
  },
  {
   "cell_type": "markdown",
   "source": [
    "## Pytest\n",
    "\n",
    "W pythonie najpopularniejszym frameworkiem testowym jest `pytest`. Zanim zaczniemy go używać, należy go zainstalować\n",
    "```bash\n",
    "pip install --user pytest\n",
    "pytest -V\n",
    "```\n",
    "\n",
    "# Binder nie obsługuje pytesta :("
   ],
   "metadata": {}
  },
  {
   "cell_type": "markdown",
   "source": [],
   "metadata": {}
  }
 ],
 "metadata": {
  "kernelspec": {
   "name": "python3",
   "display_name": "Python 3.9.7 64-bit"
  },
  "language_info": {
   "name": "python",
   "version": "3.9.7",
   "mimetype": "text/x-python",
   "codemirror_mode": {
    "name": "ipython",
    "version": 3
   },
   "pygments_lexer": "ipython3",
   "nbconvert_exporter": "python",
   "file_extension": ".py"
  },
  "interpreter": {
   "hash": "e7370f93d1d0cde622a1f8e1c04877d8463912d04d973331ad4851f04de6915a"
  }
 },
 "nbformat": 4,
 "nbformat_minor": 5
}