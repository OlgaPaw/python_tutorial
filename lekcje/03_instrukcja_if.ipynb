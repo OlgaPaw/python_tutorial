{
 "cells": [
  {
   "cell_type": "markdown",
   "id": "0c60ac01",
   "metadata": {},
   "source": [
    "# Instrukcje sterujące - część 1 (if)"
   ]
  },
  {
   "cell_type": "markdown",
   "id": "da879536",
   "metadata": {},
   "source": [
    "Każda linia kodu to instrukcja, którą wykonuje program `python`. \n",
    "Linie rozpoczynające się znakiem `#` to `komentarze` i nie są one wykonywane (`python` je pomija). \n",
    "\n",
    "Wyobraź sobie że masz robota i każesz mu wykonać obowiązki domowe. \n",
    "Każdy rozkaz wydany robotowi, np. Pojedź do kuchni to instrukcja, którą robot wykonuje. \n",
    "Programowanie polega na przekazaniu robotowi takich instrukcji, które zrozumie i będzie umiał wykonać.\n",
    "\n",
    "Normalnie `python` wykonuje linijki kodu (instrukcje) linia po linii, w kolejności w jakiej kod jest napisany.\n",
    "Czasem potrzebujemy jednak nakazać programowi, żeby wykonał jakąś operację tak długo w zależności od jakiegoś **warunku** lub wykonać jakąś operację wielokrotnie (**w pętli**). \n",
    "\n",
    "Przykładowemu robotowi domowemu możemy nakazać sprzątać, jeśli jest brudno (warunek = jest brudno, operacja = sprzątanie), lub wykonywać jakąś czynność w pętli (np. kołysz wózkiem dopóki dziecko nie zaśnie)."
   ]
  },
  {
   "cell_type": "code",
   "execution_count": 2,
   "id": "293165a8",
   "metadata": {},
   "outputs": [
    {
     "output_type": "stream",
     "name": "stdout",
     "text": [
      "1\n2\n3\n"
     ]
    }
   ],
   "source": [
    "# Kod sekwencyjny, wykonany linia po linii\n",
    "print(1)\n",
    "print(2)\n",
    "print(3)"
   ]
  },
  {
   "cell_type": "code",
   "execution_count": 3,
   "id": "bb47295a",
   "metadata": {},
   "outputs": [
    {
     "output_type": "stream",
     "name": "stdout",
     "text": [
      "TAK\n"
     ]
    }
   ],
   "source": [
    "# Kod z warunkiem\n",
    "if True:\n",
    "    print(\"TAK\")\n",
    "else:\n",
    "    print(\"NIE\")"
   ]
  },
  {
   "cell_type": "code",
   "execution_count": 4,
   "id": "7b3e1f88",
   "metadata": {},
   "outputs": [
    {
     "output_type": "stream",
     "name": "stdout",
     "text": [
      "Iteracja nr 0\nIteracja nr 1\nIteracja nr 2\nIteracja nr 3\nIteracja nr 4\nIteracja nr 5\nIteracja nr 6\nIteracja nr 7\nIteracja nr 8\nIteracja nr 9\n"
     ]
    }
   ],
   "source": [
    "# Kod z pętlą while\n",
    "i = 0\n",
    "while i<10:\n",
    "    print(\"Iteracja nr\", i)\n",
    "    i += 1"
   ]
  },
  {
   "cell_type": "code",
   "execution_count": 5,
   "id": "14ce9239",
   "metadata": {},
   "outputs": [
    {
     "output_type": "stream",
     "name": "stdout",
     "text": [
      "Aktualnie przetwarzamy element 9\nAktualnie przetwarzamy element 6\nAktualnie przetwarzamy element 5\nAktualnie przetwarzamy element 3\nAktualnie przetwarzamy element 8\nAktualnie przetwarzamy element 1\n"
     ]
    }
   ],
   "source": [
    "# Kod z pętlą for\n",
    "for element in [9, 6, 5, 3, 8, 1]:\n",
    "    print(\"Aktualnie przetwarzamy element\", element)"
   ]
  },
  {
   "cell_type": "markdown",
   "id": "5bbeb7a8",
   "metadata": {},
   "source": [
    "## Instrukcja warunkowa (if)"
   ]
  },
  {
   "cell_type": "markdown",
   "id": "d0522b6e",
   "metadata": {},
   "source": [
    "Instrukcję **if** używamy jeśli chcemy wykonać operację (lub jej nie wykonać) w zależności od jakiegoś **warunku**. \n",
    "\n",
    "**Warunek** to dowolna zmienna lub instrukcja, której wartość lub wynik można przyrównać do `True`/`False`, np."
   ]
  },
  {
   "cell_type": "code",
   "execution_count": 29,
   "id": "ea7aa192",
   "metadata": {},
   "outputs": [
    {
     "data": {
      "text/plain": [
       "True"
      ]
     },
     "execution_count": 29,
     "metadata": {},
     "output_type": "execute_result"
    }
   ],
   "source": [
    "'a' == \"a\" # True\n",
    "'a' == \"A\" # False\n",
    "\n",
    "'k' in 'Ala ma kota' # True \n",
    "\n",
    "7 in [1, 2, 4, 5] # False\n",
    "\n",
    "3 > 5 # True\n",
    "\n",
    "a = 7\n",
    "a >= 7.0 # True\n",
    "a != 7   # False\n",
    "\n",
    "isinstance(7, float) # False\n",
    "\n",
    "def is_valid_number(number):\n",
    "    if isinstance(number, (int, float)):\n",
    "        return True\n",
    "    else:\n",
    "        return False\n",
    "                  \n",
    "is_valid_number(7) # True\n",
    "is_valid_number(7.0) # True\n",
    "is_valid_number(\"Ala\") # False\n",
    "\n",
    "1 < a < 8  # True\n",
    "1 < a < 5  # False\n",
    "\n",
    "# Kombinacje warunków za pomocą and (oba warunki muszą być spełnione) i or (co najmniej 1 warunek musi być spełniony)\n",
    "isinstance(a, int) and a > 5 # True\n",
    "isinstance(a, str) or a > 5 # True"
   ]
  },
  {
   "cell_type": "markdown",
   "id": "43fd9027",
   "metadata": {},
   "source": [
    "Każdy z powyższych warunków można zapisać w postaci \n",
    "```python\n",
    "if warunek:\n",
    "    wykonaj jeśli warunek jest prawdziwy (True)\n",
    "else:\n",
    "    wykonaj jeśli warunek jest nieprawdziwy (False)\n",
    "```\n",
    "\n",
    "\n",
    "Instrukcja if wewnątrz kodu odpowiada następującemu diagramowi:\n",
    "\n",
    "![image.png](images/03_if.png)"
   ]
  },
  {
   "cell_type": "markdown",
   "id": "66a0d9e4-3d52-4a0f-ac84-89661fb8ddbf",
   "metadata": {},
   "source": [
    "Teraz wyobraźmy sobie że chcemy napisać program, który oceni na podtsawie wieku jaki bilet powinien kupić klient.\n",
    "\n",
    "Oto nasz algorytm:\n",
    "\n",
    "![image.png](images/03_if_wiek.png)"
   ]
  },
  {
   "cell_type": "code",
   "execution_count": 33,
   "id": "52be96ff",
   "metadata": {},
   "outputs": [
    {
     "name": "stdout",
     "output_type": "stream",
     "text": [
      "Potrzebujesz bilet ulgowy\n"
     ]
    }
   ],
   "source": [
    "# Powyższy algorytm zapiszemy w następujący sposób\n",
    "age = int(input(\"Podaj wiek \"))\n",
    "\n",
    "if age >= 18:\n",
    "    ticket_type = \"normalny\"\n",
    "else:\n",
    "    ticket_type = \"ulgowy\"\n",
    "\n",
    "print(\"Potrzebujesz bilet\", ticket_type)    "
   ]
  },
  {
   "cell_type": "markdown",
   "id": "24710fb9",
   "metadata": {},
   "source": [
    "**UWAGA: Jeśli nie pojawiło się pole do wpisania wieku, kliknij Kernel > Restart na pasku zadań**"
   ]
  },
  {
   "cell_type": "code",
   "execution_count": 32,
   "id": "f4205b10",
   "metadata": {},
   "outputs": [
    {
     "name": "stdout",
     "output_type": "stream",
     "text": [
      "Potrzebujesz bilet ulgowy\n"
     ]
    }
   ],
   "source": [
    "# Ale możemy też zapisać krócej (można przypisać wartość do zmiennej używając ifa w 1 linii)\n",
    "age = int(input(\"Podaj wiek \"))\n",
    "\n",
    "ticket_type = \"normalny\" if age >= 18 else \"ulgowy\"\n",
    "\n",
    "print(\"Potrzebujesz bilet\", ticket_type)"
   ]
  },
  {
   "cell_type": "markdown",
   "id": "47cc9da4-b373-4336-b845-3cbc03a11df1",
   "metadata": {},
   "source": [
    "Teraz skomplikujemy trochę sprawę i dodamy więcej opcji. Bilet dziecięcy - poniżej 7 lat, ulgowy - 7 - 18, normalny powyżej 18 lat. \n",
    "\n",
    "Najpierw wyobraźmy sobie algorytm, który to robi. \n",
    "\n",
    "![image.png](images/03_if_in_if.png)\n",
    "\n",
    "Możemy zapisać to w następujący sposób:"
   ]
  },
  {
   "cell_type": "code",
   "execution_count": 16,
   "id": "04146633-80a5-4769-aa65-d29f8c04977a",
   "metadata": {},
   "outputs": [
    {
     "name": "stdout",
     "output_type": "stream",
     "text": [
      "Potrzebujesz bilet dziecięcy\n"
     ]
    }
   ],
   "source": [
    "age = int(input(\"Podaj wiek \"))\n",
    "\n",
    "if age < 7:\n",
    "    ticket_type = \"dziecięcy\"\n",
    "else:\n",
    "    if age < 18:\n",
    "        ticket_type = \"ulgowy\"\n",
    "    else: \n",
    "        ticket_type = \"normalny\"\n",
    "\n",
    "print(\"Potrzebujesz bilet\", ticket_type)  "
   ]
  },
  {
   "cell_type": "markdown",
   "id": "37dc4d7f-7148-41fb-a053-3d846564444a",
   "metadata": {},
   "source": [
    "Lub z wykorzystaniem słowa-klucz **elif**:"
   ]
  },
  {
   "cell_type": "code",
   "execution_count": 18,
   "id": "24522f9c",
   "metadata": {},
   "outputs": [
    {
     "name": "stdout",
     "output_type": "stream",
     "text": [
      "Potrzebujesz bilet dziecięcy\n"
     ]
    }
   ],
   "source": [
    "age = int(input(\"Podaj wiek \"))\n",
    "\n",
    "if age < 7:\n",
    "    ticket_type = \"dziecięcy\"\n",
    "elif age < 18:\n",
    "    ticket_type = \"ulgowy\"\n",
    "else: \n",
    "    ticket_type = \"normalny\"\n",
    "\n",
    "print(\"Potrzebujesz bilet\", ticket_type)  \n"
   ]
  },
  {
   "cell_type": "code",
   "execution_count": 20,
   "id": "df05cd4e",
   "metadata": {},
   "outputs": [],
   "source": [
    "# Zadanie 1 - napisz kod pozwalający określić rodzaj biletu: \n",
    "# dziecięcy < 7 lat,\n",
    "# ulgowy: 7 - 18 lat, \n",
    "# normalny: 18 - 65 lat, \n",
    "# emeryt: powyżej 65 lat "
   ]
  },
  {
   "cell_type": "code",
   "execution_count": 22,
   "id": "99b9bb0a",
   "metadata": {},
   "outputs": [],
   "source": [
    "# Zadanie 2 - napisz kod pozwalający określić rodzaj biletu: \n",
    "# ulgowy: poniżej 18 lat, powyżej 65 lat \n",
    "# normalny: 18 - 65 lat"
   ]
  },
  {
   "cell_type": "code",
   "execution_count": 24,
   "id": "d3184490",
   "metadata": {},
   "outputs": [],
   "source": [
    "# Zadanie 3 - napisz program który: \n",
    "# 1. losuje wiek z zakresu 0 - 100 (https://docs.python.org/3/library/random.html#random.randrange)\n",
    "# 2. następnie pyta użytkownika o wprowadzenie wieku (https://docs.python.org/3/library/functions.html?highlight=open#input)\n",
    "# 3. wypisuje \n",
    "#   a. \"Jesteś starszy\", jeśli powany wiek jest większy od wylosowanego,\n",
    "#   b. \"Jesteś młodzy\", jeśli podany wiek jest mniejszy od wylosowanego,\n",
    "#   c. \"Jesteś w tym samym wieku\", jeśli podany wiek jest równy wylosowanemu"
   ]
  }
 ],
 "metadata": {
  "kernelspec": {
   "display_name": "Python 3.9.3 64-bit",
   "language": "python",
   "name": "python39364bitb81baa253c354ce996d64fa3977c9df5"
  },
  "language_info": {
   "codemirror_mode": {
    "name": "ipython",
    "version": 3
   },
   "file_extension": ".py",
   "mimetype": "text/x-python",
   "name": "python",
   "nbconvert_exporter": "python",
   "pygments_lexer": "ipython3",
   "version": "3.9.3-final"
  }
 },
 "nbformat": 4,
 "nbformat_minor": 5
}