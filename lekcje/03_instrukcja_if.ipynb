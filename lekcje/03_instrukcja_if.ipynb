{
 "cells": [
  {
   "cell_type": "markdown",
   "source": [
    "# Instrukcje sterujące - część 1 (if)"
   ],
   "metadata": {}
  },
  {
   "cell_type": "markdown",
   "source": [
    "Każda linia kodu to instrukcja, którą wykonuje program `python`. \n",
    "Linie rozpoczynające się znakiem `#` to `komentarze` i nie są one wykonywane (`python` je pomija). \n",
    "\n",
    "Wyobraź sobie że masz robota i każesz mu wykonać obowiązki domowe. \n",
    "Każdy rozkaz wydany robotowi, np. Pojedź do kuchni to instrukcja, którą robot wykonuje. \n",
    "Programowanie polega na przekazaniu robotowi takich instrukcji, które zrozumie i będzie umiał wykonać.\n",
    "\n",
    "Normalnie `python` wykonuje linijki kodu (instrukcje) linia po linii, w kolejności w jakiej kod jest napisany.\n",
    "Czasem potrzebujemy jednak nakazać programowi, żeby wykonał jakąś operację w zależności od jakiegoś **warunku** lub wykonać jakąś operację wielokrotnie (**w pętli**). \n",
    "\n",
    "Przykładowemu robotowi domowemu możemy nakazać sprzątać, jeśli jest brudno (warunek = jest brudno, operacja = sprzątanie), lub wykonywać jakąś czynność w pętli (np. kołysz wózkiem dopóki dziecko nie zaśnie). Te 2 sytuacje zapiszemy pseudokodem w następujący sposób.\n",
    "\n",
    "```python\n",
    "jeśli jest_brudno:\n",
    "    robot.sprzataj()\n",
    "```\n",
    "\n",
    "```python\n",
    "dopóki dziecko.nie_śpi:\n",
    "    kołysz_wózkiem()\n",
    "```\n"
   ],
   "metadata": {}
  },
  {
   "cell_type": "markdown",
   "source": [
    "Zobaczmy jednak najprostsze możliwe przykłady - kod sekwencyjny, kod warunkowy (z instrukcjami `if` i `else`) oraz kod wykonany w pętli (`while` oraz `for`)"
   ],
   "metadata": {}
  },
  {
   "cell_type": "code",
   "execution_count": 1,
   "source": [
    "# Kod sekwencyjny, wykonany linia po linii\n",
    "print(1)\n",
    "print(2)\n",
    "print(3)"
   ],
   "outputs": [
    {
     "output_type": "stream",
     "name": "stdout",
     "text": [
      "1\n",
      "2\n",
      "3\n"
     ]
    }
   ],
   "metadata": {}
  },
  {
   "cell_type": "code",
   "execution_count": 3,
   "source": [
    "# Kod z warunkiem\n",
    "if True:\n",
    "    print(\"TAK\")\n",
    "else:\n",
    "    print(\"NIE\") # NIE nie zostało wypisane, ponieważ warunek w if został spełniony. "
   ],
   "outputs": [
    {
     "output_type": "stream",
     "name": "stdout",
     "text": [
      "TAK\n"
     ]
    }
   ],
   "metadata": {}
  },
  {
   "cell_type": "code",
   "execution_count": 4,
   "source": [
    "# Kod z pętlą while\n",
    "i = 0\n",
    "while i<10:\n",
    "    print(\"Iteracja nr\", i)\n",
    "    i += 1"
   ],
   "outputs": [
    {
     "output_type": "stream",
     "name": "stdout",
     "text": [
      "Iteracja nr 0\n",
      "Iteracja nr 1\n",
      "Iteracja nr 2\n",
      "Iteracja nr 3\n",
      "Iteracja nr 4\n",
      "Iteracja nr 5\n",
      "Iteracja nr 6\n",
      "Iteracja nr 7\n",
      "Iteracja nr 8\n",
      "Iteracja nr 9\n"
     ]
    }
   ],
   "metadata": {}
  },
  {
   "cell_type": "code",
   "execution_count": 5,
   "source": [
    "# Kod z pętlą for\n",
    "for element in [9, 6, 5, 3, 8, 1]:\n",
    "    print(\"Aktualnie przetwarzamy element\", element)"
   ],
   "outputs": [
    {
     "output_type": "stream",
     "name": "stdout",
     "text": [
      "Aktualnie przetwarzamy element 9\n",
      "Aktualnie przetwarzamy element 6\n",
      "Aktualnie przetwarzamy element 5\n",
      "Aktualnie przetwarzamy element 3\n",
      "Aktualnie przetwarzamy element 8\n",
      "Aktualnie przetwarzamy element 1\n"
     ]
    }
   ],
   "metadata": {}
  },
  {
   "cell_type": "markdown",
   "source": [
    "## Instrukcja warunkowa (if)"
   ],
   "metadata": {}
  },
  {
   "cell_type": "markdown",
   "source": [
    "Instrukcję **if** używamy jeśli chcemy wykonać operację (lub jej nie wykonać) w zależności od jakiegoś **warunku**. \n",
    "\n",
    "**Warunek** to dowolna zmienna, działanie lub instrukcja, której wartość lub wynik można przyrównać do `True`/`False`, np."
   ],
   "metadata": {}
  },
  {
   "cell_type": "code",
   "execution_count": 5,
   "source": [
    "'a' == \"a\" # True\n",
    "'a' == \"A\" # False\n",
    "\n",
    "'k' in 'Ala ma kota' # True \n",
    "\n",
    "7 in [1, 2, 4, 5] # False\n",
    "\n",
    "3 > 5 # True\n",
    "\n",
    "a = 7\n",
    "a >= 7.0 # True\n",
    "a != 7   # False\n",
    "\n",
    "isinstance(7, float) # False\n",
    "\n",
    "1 < a < 8  # True\n",
    "1 < a < 5  # False\n",
    "\n",
    "# Kombinacje warunków za pomocą and (oba warunki muszą być spełnione) i or (co najmniej 1 warunek musi być spełniony)\n",
    "isinstance(a, int) and a > 5 # True\n",
    "isinstance(a, str) or a > 5 # True"
   ],
   "outputs": [
    {
     "output_type": "execute_result",
     "data": {
      "text/plain": [
       "True"
      ]
     },
     "metadata": {},
     "execution_count": 5
    }
   ],
   "metadata": {}
  },
  {
   "cell_type": "markdown",
   "source": [
    "Każdy z powyższych warunków możemy użyć w instrukcji if, np:\n",
    "\n",
    "```python\n",
    "if warunek:\n",
    "    kod do wykonania jeśli warunek jest prawdziwy (True)\n",
    "else:\n",
    "    kod do wykonania jeśli warunek jest nieprawdziwy (False)\n",
    "```\n",
    "\n",
    "\n",
    "Instrukcja if wewnątrz kodu odpowiada następującemu diagramowi:\n",
    "\n",
    "![image.png](images/03_if.png)"
   ],
   "metadata": {}
  },
  {
   "cell_type": "markdown",
   "source": [
    "Blok `else` możemy też pominąć, jeśli nie chcemy wykonywać żadej operacji gdy warunek nie jest spełniony. \n",
    "\n",
    "Uruchom poniższy kod kilka razy, żeby zobaczyć jak się zachowuje w zależności od wartości wylosowanej oceny."
   ],
   "metadata": {}
  },
  {
   "cell_type": "code",
   "execution_count": 47,
   "source": [
    "# random.randrange nie jest funkcją wbudowaną, więc żeby jej użyć musimy ją \"wczytać\" (zaimportować).\n",
    "# O importowaniu i modułach dowiesz się więcej w lekcji 7.\n",
    "import random\n",
    " \n",
    "note = random.randrange(1, 7)   # losujemy ocenę od 1 do 6\n",
    "print(\"Uczeń dostał ocenę\", note)\n",
    "\n",
    "if note > 3:\n",
    "    print(\"Dobra ocena\")    # uruchomi się tylko wtedy, jeśli ocena > 4.\n",
    "\n",
    "print(\"Kod po if\")\n"
   ],
   "outputs": [
    {
     "output_type": "stream",
     "name": "stdout",
     "text": [
      "Uczeń dostał ocenę 5\n",
      "Dobra ocena\n",
      "Kod po if\n"
     ]
    }
   ],
   "metadata": {}
  },
  {
   "cell_type": "markdown",
   "source": [
    "Teraz wyobraźmy sobie że chcemy napisać program, który na podstawie wieku oceni jaki bilet powinien kupić klient.\n",
    "\n",
    "Oto nasz algorytm:\n",
    "\n",
    "![image.png](images/03_if_wiek.png)"
   ],
   "metadata": {}
  },
  {
   "cell_type": "code",
   "execution_count": 14,
   "source": [
    "# Powyższy algorytm zapiszemy w następujący sposób\n",
    "age_str = input(\"Podaj wiek \")  # Prosimy o wprowadzenie danych.\n",
    "age = int(age_str)  # Funkcja input zawsze zwraca dane typu str. Musimy je zamienić na int aby móc je porównac z liczbą.\n",
    "\n",
    "if age >= 18:   # >= to większy lub równy\n",
    "    ticket_type = \"normalny\"\n",
    "else:\n",
    "    ticket_type = \"ulgowy\"\n",
    "\n",
    "print(\"Potrzebujesz bilet\", ticket_type)    "
   ],
   "outputs": [
    {
     "output_type": "stream",
     "name": "stdout",
     "text": [
      "Potrzebujesz bilet ulgowy\n"
     ]
    }
   ],
   "metadata": {}
  },
  {
   "cell_type": "markdown",
   "source": [
    "**UWAGA: Jeśli nie pojawiło się pole do wpisania wieku, kliknij Kernel > Restart na pasku zadań**"
   ],
   "metadata": {}
  },
  {
   "cell_type": "code",
   "execution_count": 15,
   "source": [
    "# Powyższy kod możemy zapisać krócej\n",
    "age = int(input(\"Podaj wiek \")) # python wywoła najpierw fukcję w wewnętrznych nawiasach - jak kolejność wykonywania działań w matematyce ;)\n",
    "\n",
    "# można przypisać wartość do zmiennej używając ifa w 1 linii\n",
    "ticket_type = \"normalny\" if age >= 18 else \"ulgowy\"\n",
    "\n",
    "print(\"Potrzebujesz bilet\", ticket_type)\n"
   ],
   "outputs": [
    {
     "output_type": "stream",
     "name": "stdout",
     "text": [
      "Potrzebujesz bilet normalny\n"
     ]
    }
   ],
   "metadata": {}
  },
  {
   "cell_type": "markdown",
   "source": [
    "Teraz skomplikujemy trochę sprawę i dodamy więcej opcji. Bilet dziecięcy - poniżej 7 lat, ulgowy - 7 - 18, normalny powyżej 18 lat. \n",
    "\n",
    "Najpierw wyobraźmy sobie algorytm, który to robi. \n",
    "\n",
    "![image.png](images/03_if_in_if.png)\n",
    "\n",
    "Możemy zapisać to w następujący sposób:"
   ],
   "metadata": {}
  },
  {
   "cell_type": "code",
   "execution_count": 16,
   "source": [
    "age = int(input(\"Podaj wiek \"))\n",
    "\n",
    "if age < 7:\n",
    "    ticket_type = \"dziecięcy\"\n",
    "else:\n",
    "    if age < 18:\n",
    "        ticket_type = \"ulgowy\"\n",
    "    else: \n",
    "        ticket_type = \"normalny\"\n",
    "\n",
    "print(\"Potrzebujesz bilet\", ticket_type)  "
   ],
   "outputs": [
    {
     "output_type": "stream",
     "name": "stdout",
     "text": [
      "Potrzebujesz bilet dziecięcy\n"
     ]
    }
   ],
   "metadata": {}
  },
  {
   "cell_type": "markdown",
   "source": [
    "Lub z wykorzystaniem słowa-klucz **elif**:"
   ],
   "metadata": {}
  },
  {
   "cell_type": "code",
   "execution_count": 18,
   "source": [
    "age = int(input(\"Podaj wiek \"))\n",
    "\n",
    "if age < 7:\n",
    "    ticket_type = \"dziecięcy\"\n",
    "elif age < 18:\n",
    "    ticket_type = \"ulgowy\"\n",
    "else: \n",
    "    ticket_type = \"normalny\"\n",
    "\n",
    "print(\"Potrzebujesz bilet\", ticket_type)  \n"
   ],
   "outputs": [
    {
     "output_type": "stream",
     "name": "stdout",
     "text": [
      "Potrzebujesz bilet dziecięcy\n"
     ]
    }
   ],
   "metadata": {}
  },
  {
   "cell_type": "code",
   "execution_count": 18,
   "source": [
    "# Zadanie 3.1 - napisz kod pozwalający określić rodzaj biletu: \n",
    "# dziecięcy < 7 lat,\n",
    "# ulgowy: 7 - 18 lat, \n",
    "# normalny: 18 - 65 lat, \n",
    "# emeryt: powyżej 65 lat "
   ],
   "outputs": [],
   "metadata": {}
  },
  {
   "cell_type": "code",
   "execution_count": 17,
   "source": [
    "# Zadanie 3.2 - napisz kod pozwalający określić rodzaj biletu: \n",
    "# ulgowy: poniżej 18 lat, powyżej 65 lat \n",
    "# normalny: 18 - 65 lat"
   ],
   "outputs": [],
   "metadata": {}
  },
  {
   "cell_type": "code",
   "execution_count": 16,
   "source": [
    "# Zadanie 3.3 - napisz program który: \n",
    "# 1. losuje wiek z zakresu 0 - 100 (https://docs.python.org/3/library/random.html#random.randrange)\n",
    "# 2. następnie pyta użytkownika o wprowadzenie wieku (https://docs.python.org/3/library/functions.html?highlight=open#input)\n",
    "# 3. wypisuje \n",
    "#   a. \"Jesteś starszy\", jeśli powany wiek jest większy od wylosowanego,\n",
    "#   b. \"Jesteś młodzy\", jeśli podany wiek jest mniejszy od wylosowanego,\n",
    "#   c. \"Jesteś w tym samym wieku\", jeśli podany wiek jest równy wylosowanemu"
   ],
   "outputs": [],
   "metadata": {}
  }
 ],
 "metadata": {
  "kernelspec": {
   "name": "python3",
   "display_name": "Python 3.9.6 64-bit"
  },
  "language_info": {
   "codemirror_mode": {
    "name": "ipython",
    "version": 3
   },
   "file_extension": ".py",
   "mimetype": "text/x-python",
   "name": "python",
   "nbconvert_exporter": "python",
   "pygments_lexer": "ipython3",
   "version": "3.9.6"
  },
  "interpreter": {
   "hash": "d2152fd7f0bbc62aa1baff8c990435d1e2c7175d001561303988032604c11a48"
  }
 },
 "nbformat": 4,
 "nbformat_minor": 5
}