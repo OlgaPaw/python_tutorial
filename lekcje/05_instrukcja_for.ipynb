{
 "cells": [
  {
   "cell_type": "markdown",
   "id": "0c60ac01",
   "metadata": {},
   "source": [
    "# Instrukcje sterujące - część 2 (pętla for)"
   ]
  },
  {
   "cell_type": "markdown",
   "id": "5bbeb7a8",
   "metadata": {},
   "source": [
    "## Instrukcja pętli for"
   ]
  },
  {
   "cell_type": "markdown",
   "id": "d0522b6e",
   "metadata": {},
   "source": [
    "Pętla **for** jest najczęściej używana do **iteracji** po elementach jakiejś sekwencji. Dla przypomnienia sekwencja to więcej niż 1 elent, np lista lub string. Iteracja to wykonanie operacji na kolejnych elementach sekwencji. \n"
   ]
  },
  {
   "cell_type": "code",
   "execution_count": 4,
   "metadata": {},
   "outputs": [
    {
     "output_type": "stream",
     "name": "stdout",
     "text": [
      "Student Ala\nStudent Ola\nStudent Bartek\nStudent Janek\n"
     ]
    }
   ],
   "source": [
    "# Iteracja po tablicy\n",
    "students = ['Ala', 'Ola', 'Bartek', 'Janek']\n",
    "for name in students:\n",
    "    print(\"Student\", name)"
   ]
  },
  {
   "cell_type": "code",
   "execution_count": 6,
   "metadata": {},
   "outputs": [
    {
     "output_type": "stream",
     "name": "stdout",
     "text": [
      "litera K\nlitera u\nlitera b\nlitera u\nlitera ś\nlitera  \nlitera p\nlitera u\nlitera c\nlitera h\nlitera a\nlitera t\nlitera e\nlitera k\n"
     ]
    }
   ],
   "source": [
    "# Iteracja po napisie\n",
    "title = 'Kubuś puchatek'\n",
    "for char in title:\n",
    "    print(\"litera\", char)"
   ]
  },
  {
   "source": [
    "Rozłóżmy teraz pętlę for na czynniki pierwsze. \n",
    "\n",
    "```\n",
    "names = ['Ala', 'Ola', 'Bartek', 'Janek']\n",
    "for name in names:\n",
    "    print(name)\n",
    "```\n",
    "\n",
    "Pętla for przypisuje kolejne elementy z sekwencji `names` do zmiennej `name`. \n",
    "W pierwszej iteracji pętli do zmiennej `name` trafi wartość 'Ala', następnie 'Ola', potem 'Bartek' i tak aż do wyczerpania elementów w liście `names`. \n",
    "\n",
    "Do zmiennej `name` możemy się odwoływać wewnątrz **ciała** pętli, czyli w całym kodzie wciętym o 4 spacje lub więcej.\n",
    "\n",
    "W kodzie znajdującym się poza pętlą zmienna `name` będzie miała zawsze wartość ostatniego elementu sekwencji."
   ],
   "cell_type": "markdown",
   "metadata": {}
  },
  {
   "cell_type": "code",
   "execution_count": 44,
   "metadata": {},
   "outputs": [
    {
     "output_type": "stream",
     "name": "stdout",
     "text": [
      "Początek ciała funkcji\nW danej iteracji zmienna name ma wartość Ala\nKoniec ciała funkcji\n\nPoczątek ciała funkcji\nW danej iteracji zmienna name ma wartość Ola\nKoniec ciała funkcji\n\nPoczątek ciała funkcji\nW danej iteracji zmienna name ma wartość Bartek\nKoniec ciała funkcji\n\nPoczątek ciała funkcji\nW danej iteracji zmienna name ma wartość Janek\nKoniec ciała funkcji\n\nPoza pętlą zmienna name ma warość Janek\n"
     ]
    }
   ],
   "source": [
    "names = ['Ala', 'Ola', 'Bartek', 'Janek']\n",
    "for name in names:\n",
    "    print(\"Początek ciała funkcji\")\n",
    "    print(\"W danej iteracji zmienna name ma wartość\", name)\n",
    "    print(\"Koniec ciała funkcji\")\n",
    "    print(\"\") # Nowa linia, dla wizualnego oddzielenia  iteracji\n",
    "\n",
    "print('Poza pętlą zmienna name ma warość', name)"
   ]
  },
  {
   "source": [
    "Algorytm pętli for możemy przedstawić za pomocą poniższego diagramu blokowego:\n",
    "\n",
    "![image.png](images/05_for.png)"
   ],
   "cell_type": "markdown",
   "metadata": {}
  },
  {
   "source": [
    "Wewnątrz ciała pętli możemy umieszczać (zagnieżdżać) dowolne instrukcje, np. `if`"
   ],
   "cell_type": "markdown",
   "metadata": {}
  },
  {
   "cell_type": "code",
   "execution_count": 76,
   "metadata": {},
   "outputs": [
    {
     "output_type": "stream",
     "name": "stdout",
     "text": [
      "Godzina 0 jest w nocy\nGodzina 1 jest w nocy\nGodzina 2 jest w nocy\nGodzina 3 jest w nocy\nGodzina 4 jest w nocy\nGodzina 5 jest w nocy\nGodzina 6 jest rano\nGodzina 7 jest rano\nGodzina 8 jest rano\nGodzina 9 jest rano\nGodzina 10 jest rano\nGodzina 11 jest rano\nGodzina 12 jest w południe\nGodzina 13 jest po południu\nGodzina 14 jest po południu\nGodzina 15 jest po południu\nGodzina 16 jest po południu\nGodzina 17 jest po południu\nGodzina 18 jest po południu\nGodzina 19 jest wieczorem\nGodzina 20 jest wieczorem\nGodzina 21 jest wieczorem\nGodzina 22 jest w nocy\nGodzina 23 jest w nocy\n"
     ]
    }
   ],
   "source": [
    "hours = range(0, 24)    # range(0, 24) generuje liczby z zakresu od zera do 23 włącznie\n",
    "for hour in hours:\n",
    "    if 0 < hour < 6:\n",
    "        print(\"Godzina\", hour, \"jest w nocy\")\n",
    "    elif 6 <= hour <= 11:\n",
    "        print(\"Godzina\", hour, \"jest rano\")\n",
    "    elif hour == 12:\n",
    "        print(\"Godzina\", hour, \"jest w południe\")\n",
    "    elif 12 < hour < 19:\n",
    "        print(\"Godzina\", hour, \"jest po południu\")\n",
    "    elif 19 <= hour < 22:\n",
    "        print(\"Godzina\", hour, \"jest wieczorem\")\n",
    "    else:\n",
    "        print(\"Godzina\", hour, \"jest w nocy\")"
   ]
  },
  {
   "cell_type": "code",
   "execution_count": 77,
   "metadata": {},
   "outputs": [
    {
     "output_type": "stream",
     "name": "stdout",
     "text": [
      "Max: 327\nMin: 0\n"
     ]
    }
   ],
   "source": [
    "# Zadanie - przykład\n",
    "# Znajdź największy i najmniejszy elemnt w liście numbers\n",
    "\n",
    "# Dane\n",
    "numbers = [1, 4, 23.7, 90, 4, 26, 327, 2, 0, 0, 3, 67]\n",
    "\n",
    "# Przed pętlą incjujemy wartości początkowe, które będziemy zmieniać w pętli \n",
    "maximal = 0\n",
    "minimal = 99999\n",
    "\n",
    "for number in numbers: # Dla każdego elementu z listy numbers\n",
    "    # Wykonaj następujące polecenia\n",
    "    if number > maximal: # Sprawdź czy aktualnie przetwarzany element jest większy niż maksymalny\n",
    "        maximal = number # Jeśli tak to nowym maksymalnym elementem jest aktualny element\n",
    "    elif number < minimal: # Sprawdź czy aktualnie przetwarzany element jest mniejszy niż minimalny\n",
    "        minimal = number # Jeśli tak to nowym minimalnym elementem jest aktualny element\n",
    "\n",
    "# Wypisz wyniki\n",
    "print(\"Max:\", maximal)\n",
    "print(\"Min:\", minimal)\n"
   ]
  },
  {
   "source": [
    "# Zadanie 1\n",
    "# Dana jest lista imion. Dla każdego imienia wyświetl ile liter ma imię.\n",
    "names = ['Ala', 'Ola', 'Bartek', 'Janek']"
   ],
   "cell_type": "code",
   "metadata": {},
   "execution_count": 78,
   "outputs": []
  },
  {
   "cell_type": "code",
   "execution_count": 79,
   "metadata": {},
   "outputs": [],
   "source": [
    "# Zadanie 2\n",
    "# Dana jest lista imion. Znajdź najdłuższe imię\n",
    "names = ['Ala', 'Ola', 'Bartek', 'Janek', 'Marta', 'Anastazja']"
   ]
  },
  {
   "cell_type": "code",
   "execution_count": 80,
   "metadata": {},
   "outputs": [],
   "source": [
    "# Zadanie 3\n",
    "# Dana jest lista liczb, wyświetl tylko parzyste elementy\n",
    "numbers = [1, 3, 4, 12, 4, 2, 5, 17, 6, 28]"
   ]
  },
  {
   "source": [
    "Przy iteracji przydatna jest funkcja `enumerate`. Pozwala ona przypisać indeksy kolejnym elementom sekwencji.\n",
    "Użwamy jej w następujący sposób:"
   ],
   "cell_type": "markdown",
   "metadata": {}
  },
  {
   "cell_type": "code",
   "execution_count": 67,
   "metadata": {},
   "outputs": [
    {
     "output_type": "stream",
     "name": "stdout",
     "text": [
      "W iteracji 0 zmienna name ma wartość Ala i jest równa Ala\nW iteracji 1 zmienna name ma wartość Ola i jest równa Ola\nW iteracji 2 zmienna name ma wartość Bartek i jest równa Bartek\nW iteracji 3 zmienna name ma wartość Janek i jest równa Janek\n"
     ]
    }
   ],
   "source": [
    "names = ['Ala', 'Ola', 'Bartek', 'Janek']\n",
    "for index, name in enumerate(names):\n",
    "    print(\"W iteracji\", index, \"zmienna name ma wartość\", name, \"i jest równa\", names[index])\n"
   ]
  },
  {
   "source": [
    "Zauważ że w for tworzymy teraz 2 zmienne: `index` - do której przypisujemy numer iteracji oraz `name`, do której przypisujemy koeljne elementy pobrane z listy.\n",
    "\n",
    "Numer iteracji (indeks) jest jednocześnie pozycją elementu w sekwencji, dlatego możemy go użyć do pobrania elementu z listy, np. `names[index]`"
   ],
   "cell_type": "markdown",
   "metadata": {}
  },
  {
   "cell_type": "code",
   "execution_count": 68,
   "metadata": {},
   "outputs": [],
   "source": [
    "# Zadanie 4\n",
    "# Dana jest lista liczb, wyświetl indeksy (pozycje) elementów nieparzystych\n",
    "numbers = [1, 3, 4, 12, 4, 2, 5, 17, 6, 28]\n",
    "\n",
    "# Prawidłowa odpowiedź to: 0 1 6 7"
   ]
  },
  {
   "source": [
    "Przykładem bardziej z życia będzie sytuacja, kiedy na koniec roku nauczycielka liczy średnią ocen każdemu uczniowi w klasie. \n",
    "\n",
    "Zapiszmy algorytm dla pani nauczycielki w krokach:\n",
    "\n",
    "1. Pobierz oceny pierwszego ucznia\n",
    "1. Policz średnią ocen (suma ocen / liczba ocen)\n",
    "1. Pobierz oceny kolejnego ucznia, jeśli są jeszcze uczniowie z niepoliczoną średnią i wróć do punktu 2.\n",
    "\n",
    "\n",
    "![image.png](images/05_for_srednia.png)"
   ],
   "cell_type": "markdown",
   "metadata": {}
  },
  {
   "source": [
    "Do zapisania ocen uczniów użyjemy **słownika** (`dict`). \n",
    "Słownik to struktura danych `klucz: wartość`.  Klucze zazwyczaj są napisami lub liczbami, wartości mogą być dowolnego typu. \n",
    "\n",
    "W naszym przypadku kluczami słownika będą imiona uczniów, a wartościami listy ocen. \n",
    "\n",
    "Wartość ze słowika pobieramy za pomocą nawiasów kwadratowych, np `students_notes['Ala']` zwróci listę ocen Ali."
   ],
   "cell_type": "markdown",
   "metadata": {}
  },
  {
   "cell_type": "code",
   "execution_count": 69,
   "metadata": {},
   "outputs": [
    {
     "output_type": "stream",
     "name": "stdout",
     "text": [
      "Oceny Ali: [2, 3, 4, 2.5, 6]\nOceny Maćka: [2, 4, 5, 4.5, 2, 2]\n"
     ]
    }
   ],
   "source": [
    "students_notes = {\n",
    "    'Ala': [2, 3, 4, 2.5, 6],\n",
    "    'Ola': [4, 5, 5.5, 3],\n",
    "    'Maciej': [2, 4, 5, 4.5, 2, 2],\n",
    "    'Krzysiek': [2]\n",
    "}\n",
    "\n",
    "print(\"Oceny Ali:\", students_notes['Ala'])\n",
    "print(\"Oceny Maćka:\", students_notes['Maciej'])\n"
   ]
  },
  {
   "source": [
    "Teraz napiszemy program, który będzie liczył średnią za panią nauczycielkę"
   ],
   "cell_type": "markdown",
   "metadata": {}
  },
  {
   "cell_type": "code",
   "execution_count": 70,
   "id": "52be96ff",
   "metadata": {},
   "outputs": [
    {
     "output_type": "stream",
     "name": "stdout",
     "text": [
      "Oceny ucznia Ala : [2, 3, 4, 2.5, 6]\nŚrednia ucznia Ala : 3.5 \n\nOceny ucznia Ola : [4, 5, 5.5, 3]\nŚrednia ucznia Ola : 4.375 \n\nOceny ucznia Maciej : [2, 4, 5, 4.5, 2, 2]\nŚrednia ucznia Maciej : 3.25 \n\nOceny ucznia Krzysiek : [2]\nŚrednia ucznia Krzysiek : 2.0 \n\n"
     ]
    }
   ],
   "source": [
    "students_notes = {\n",
    "    'Ala': [2, 3, 4, 2.5, 6],\n",
    "    'Ola': [4, 5, 5.5, 3],\n",
    "    'Maciej': [2, 4, 5, 4.5, 2, 2],\n",
    "    'Krzysiek': [2]\n",
    "}\n",
    "\n",
    "for name, notes in students_notes.items():\n",
    "    print(\"Oceny ucznia\", name, \":\", notes)\n",
    "    average = sum(notes)/len(notes)\n",
    "    print(\"Średnia ucznia\", name, \":\", average, \"\\n\")"
   ]
  },
  {
   "source": [
    "Przyjrzyjmy się na chwilę co się dzieje w linii `for name, notes in students_notes.items()`. \n",
    "\n",
    "`students_notes.items()` zwraca pary (klucz, wartość) dla każdego elementu w naszym słowniku `students_notes`. \n",
    "Będą to kolejno:\n",
    "- `'Ala'` i  `[2, 3, 4, 2.5, 6]`\n",
    "- `'Ola'` i `[4, 5, 5.5, 3]`\n",
    "- `'Maciej'` i `[2, 4, 5, 4.5, 2, 2]`\n",
    "- `'Krzysiek'` i `[2]`\n",
    "\n",
    "Z każdej kolejnej pary klucz przypisujemy do zmiennej `name`, a wartość do zmiennej `notes`. \n",
    "\n",
    "Przykładowo w pierwszej iteracji `name = \"Ala\"` a `notes = [2, 3, 4, 2.5, 6]`\n",
    "\n",
    "Następnie w ciele funkcji liczymy z dostępnych w danej iteracji ocen średnią i wypisujemy wynik. \n"
   ],
   "cell_type": "markdown",
   "metadata": {}
  },
  {
   "cell_type": "code",
   "execution_count": 75,
   "metadata": {},
   "outputs": [],
   "source": [
    "# Zadanie 5\n",
    "# Dany jest słownik zawierający pomiary temperatury w ciągu tygodnia. \n",
    "# A. Wypisz minimalną temperaturę dla każdego dnia.\n",
    "# B. Wypisz minimalną temperaturę z całego tygodnia.\n",
    "\n",
    "temperatures = {\n",
    "    'monday': [14, 16, 18, 17, 10],\n",
    "    'tuesday': [10, 11, 10, 12, 10],\n",
    "    'wednesday': [9, 7, 5, 3, 1, -1, 1],\n",
    "    'thursday': [5.5, 2.3, 8.1, 10],\n",
    "    'friday': [0],\n",
    "    'saturday': [0, 0, -1, 1, 0],\n",
    "    'sunday': [1, 1, 1, 1, 1, -2, 2],\n",
    "}\n",
    "\n"
   ]
  },
  {
   "source": [
    "### Linki do dokumentacji\n",
    "\n",
    "1. `dict.items()` https://docs.python.org/3/tutorial/datastructures.html#looping-techniques"
   ],
   "cell_type": "markdown",
   "metadata": {}
  }
 ],
 "metadata": {
  "kernelspec": {
   "display_name": "Python 3.9.3 64-bit",
   "language": "python",
   "name": "python39364bitb81baa253c354ce996d64fa3977c9df5"
  },
  "language_info": {
   "codemirror_mode": {
    "name": "ipython",
    "version": 3
   },
   "file_extension": ".py",
   "mimetype": "text/x-python",
   "name": "python",
   "nbconvert_exporter": "python",
   "pygments_lexer": "ipython3",
   "version": "3.9.3-final"
  }
 },
 "nbformat": 4,
 "nbformat_minor": 5
}