{
 "cells": [
  {
   "cell_type": "markdown",
   "source": [
    "# Instrukcje sterujące - część 2 (pętla for)"
   ],
   "metadata": {}
  },
  {
   "cell_type": "markdown",
   "source": [
    "## Instrukcja pętli for"
   ],
   "metadata": {}
  },
  {
   "cell_type": "markdown",
   "source": [
    "Pętla **for** jest najczęściej używana do **iteracji** po **elementach** jakiejś sekwencji. Dla przypomnienia sekwencja to więcej niż 1 elent, np lista lub string. Iteracja to wykonanie operacji na kolejnych elementach sekwencji. \n"
   ],
   "metadata": {}
  },
  {
   "cell_type": "code",
   "execution_count": 4,
   "source": [
    "# Iteracja po tablicy\n",
    "students = ['Ala', 'Ola', 'Bartek', 'Janek']\n",
    "for name in students:\n",
    "    print(\"Student\", name)"
   ],
   "outputs": [
    {
     "output_type": "stream",
     "name": "stdout",
     "text": [
      "Student Ala\n",
      "Student Ola\n",
      "Student Bartek\n",
      "Student Janek\n"
     ]
    }
   ],
   "metadata": {}
  },
  {
   "cell_type": "markdown",
   "source": [
    "Kolejne elementy listy trafiają do zmiennej `name` i możemy ich używać (np wyświetlić) wewnątrz ciała pętli.\n",
    "\n",
    "W przypadku napisu kolejnymi elementami, które trafią do zmiennej wewnątrz ciała pętli będą litery."
   ],
   "metadata": {}
  },
  {
   "cell_type": "code",
   "execution_count": 6,
   "source": [
    "# Iteracja po napisie\n",
    "title = 'Kubuś puchatek'\n",
    "for char in title:\n",
    "    print(\"litera\", char)"
   ],
   "outputs": [
    {
     "output_type": "stream",
     "name": "stdout",
     "text": [
      "litera K\n",
      "litera u\n",
      "litera b\n",
      "litera u\n",
      "litera ś\n",
      "litera  \n",
      "litera p\n",
      "litera u\n",
      "litera c\n",
      "litera h\n",
      "litera a\n",
      "litera t\n",
      "litera e\n",
      "litera k\n"
     ]
    }
   ],
   "metadata": {}
  },
  {
   "cell_type": "markdown",
   "source": [
    "Rozłóżmy teraz pętlę for na czynniki pierwsze. \n",
    "\n",
    "```\n",
    "names = ['Ala', 'Ola', 'Bartek', 'Janek']\n",
    "for name in names:\n",
    "    print(name)\n",
    "```\n",
    "\n",
    "Pętla for przypisuje kolejne elementy z sekwencji `names` do zmiennej `name`. \n",
    "W pierwszej iteracji pętli do zmiennej `name` trafi wartość 'Ala', następnie 'Ola', potem 'Bartek' i tak aż do wyczerpania elementów w liście `names`. \n",
    "\n",
    "Do zmiennej `name` możemy się odwoływać wewnątrz **ciała** pętli, czyli w całym kodzie wciętym o 4 spacje lub więcej.\n",
    "\n",
    "W kodzie znajdującym się poza pętlą zmienna `name` będzie miała zawsze wartość ostatniego elementu sekwencji, jednak dobre praktyki nie zalecają używania takiej zmiennej poza pętlą."
   ],
   "metadata": {}
  },
  {
   "cell_type": "code",
   "execution_count": 44,
   "source": [
    "names = ['Ala', 'Ola', 'Bartek', 'Janek']\n",
    "for name in names:\n",
    "    print(\"Początek ciała funkcji\")\n",
    "    print(\"W danej iteracji zmienna name ma wartość\", name)\n",
    "    print(\"Koniec ciała funkcji\")\n",
    "    print(\"\") # Nowa linia, dla wizualnego oddzielenia  iteracji\n",
    "\n",
    "print('Poza pętlą zmienna name ma warość', name)"
   ],
   "outputs": [
    {
     "output_type": "stream",
     "name": "stdout",
     "text": [
      "Początek ciała funkcji\n",
      "W danej iteracji zmienna name ma wartość Ala\n",
      "Koniec ciała funkcji\n",
      "\n",
      "Początek ciała funkcji\n",
      "W danej iteracji zmienna name ma wartość Ola\n",
      "Koniec ciała funkcji\n",
      "\n",
      "Początek ciała funkcji\n",
      "W danej iteracji zmienna name ma wartość Bartek\n",
      "Koniec ciała funkcji\n",
      "\n",
      "Początek ciała funkcji\n",
      "W danej iteracji zmienna name ma wartość Janek\n",
      "Koniec ciała funkcji\n",
      "\n",
      "Poza pętlą zmienna name ma warość Janek\n"
     ]
    }
   ],
   "metadata": {}
  },
  {
   "cell_type": "markdown",
   "source": [
    "Algorytm pętli for możemy przedstawić za pomocą poniższego diagramu blokowego:\n",
    "\n",
    "![image.png](images/05_for.png)"
   ],
   "metadata": {}
  },
  {
   "cell_type": "markdown",
   "source": [
    "Wewnątrz ciała pętli możemy umieszczać (zagnieżdżać) dowolne instrukcje, np. `if`"
   ],
   "metadata": {}
  },
  {
   "cell_type": "code",
   "execution_count": 76,
   "source": [
    "hours = range(0, 24)    # range(0, 24) generuje liczby z zakresu od zera do 23 włącznie\n",
    "for hour in hours:\n",
    "    if 0 < hour < 6:\n",
    "        print(\"Godzina\", hour, \"jest w nocy\")\n",
    "    elif 6 <= hour <= 11:\n",
    "        print(\"Godzina\", hour, \"jest rano\")\n",
    "    elif hour == 12:\n",
    "        print(\"Godzina\", hour, \"jest w południe\")\n",
    "    elif 12 < hour < 19:\n",
    "        print(\"Godzina\", hour, \"jest po południu\")\n",
    "    elif 19 <= hour < 22:\n",
    "        print(\"Godzina\", hour, \"jest wieczorem\")\n",
    "    else:\n",
    "        print(\"Godzina\", hour, \"jest w nocy\")"
   ],
   "outputs": [
    {
     "output_type": "stream",
     "name": "stdout",
     "text": [
      "Godzina 0 jest w nocy\n",
      "Godzina 1 jest w nocy\n",
      "Godzina 2 jest w nocy\n",
      "Godzina 3 jest w nocy\n",
      "Godzina 4 jest w nocy\n",
      "Godzina 5 jest w nocy\n",
      "Godzina 6 jest rano\n",
      "Godzina 7 jest rano\n",
      "Godzina 8 jest rano\n",
      "Godzina 9 jest rano\n",
      "Godzina 10 jest rano\n",
      "Godzina 11 jest rano\n",
      "Godzina 12 jest w południe\n",
      "Godzina 13 jest po południu\n",
      "Godzina 14 jest po południu\n",
      "Godzina 15 jest po południu\n",
      "Godzina 16 jest po południu\n",
      "Godzina 17 jest po południu\n",
      "Godzina 18 jest po południu\n",
      "Godzina 19 jest wieczorem\n",
      "Godzina 20 jest wieczorem\n",
      "Godzina 21 jest wieczorem\n",
      "Godzina 22 jest w nocy\n",
      "Godzina 23 jest w nocy\n"
     ]
    }
   ],
   "metadata": {}
  },
  {
   "cell_type": "code",
   "execution_count": 1,
   "source": [
    "# Zadanie - przykład\n",
    "# Znajdź największy i najmniejszy elemnt w liście numbers\n",
    "\n",
    "# Dane\n",
    "numbers = [1, 4, 23.7, 90, 4, 26, 327, 2, 0, 0, 3, 67]\n",
    "\n",
    "# Przed pętlą incjujemy wartości początkowe, które będziemy zmieniać w pętli \n",
    "maximal = 0 # Definiujemy max jako coś na pewno mniejszego od najmniejszego z elementów listy\n",
    "minimal = 99999 # A min jako coś na pewno większego od największego z elementów listy\n",
    "\n",
    "for number in numbers: # Dla każdego elementu z listy numbers\n",
    "    # Wykonaj następujące polecenia\n",
    "    if number > maximal: # Sprawdź czy aktualnie przetwarzany element jest większy niż maksymalny\n",
    "        maximal = number # Jeśli tak to nowym maksymalnym elementem jest aktualny element\n",
    "    elif number < minimal: # Sprawdź czy aktualnie przetwarzany element jest mniejszy niż minimalny\n",
    "        minimal = number # Jeśli tak to nowym minimalnym elementem jest aktualny element\n",
    "\n",
    "# Wypisz wyniki\n",
    "print(\"Max:\", maximal)\n",
    "print(\"Min:\", minimal)\n"
   ],
   "outputs": [
    {
     "output_type": "stream",
     "name": "stdout",
     "text": [
      "Max: 327\n",
      "Min: 0\n"
     ]
    }
   ],
   "metadata": {}
  },
  {
   "cell_type": "code",
   "execution_count": 78,
   "source": [
    "# Zadanie 5.1\n",
    "# Dana jest lista imion. Dla każdego imienia wyświetl w pętli for ile liter ma imię.\n",
    "names = ['Ala', 'Ola', 'Bartek', 'Janek']"
   ],
   "outputs": [],
   "metadata": {}
  },
  {
   "cell_type": "code",
   "execution_count": 2,
   "source": [
    "# Zadanie 5.2\n",
    "# Dana jest lista imion. Użyj pętli for do znaleznienia najdłuższego imienia.\n",
    "names = ['Ala', 'Ola', 'Bartek', 'Janek', 'Marta', 'Anastazja']"
   ],
   "outputs": [],
   "metadata": {}
  },
  {
   "cell_type": "code",
   "execution_count": 4,
   "source": [
    "# Zadanie 5.3\n",
    "# Dana jest lista liczb, używając pętli for wyświetl tylko parzyste elementy\n",
    "numbers = [1, 3, 4, 12, 4, 2, 5, 17, 6, 28]"
   ],
   "outputs": [],
   "metadata": {}
  },
  {
   "cell_type": "markdown",
   "source": [
    "Przy iteracji przydatna jest funkcja `enumerate`. Pozwala ona przypisać indeksy kolejnym elementom sekwencji.\n",
    "Użwamy jej w następujący sposób:"
   ],
   "metadata": {}
  },
  {
   "cell_type": "code",
   "execution_count": 67,
   "source": [
    "names = ['Ala', 'Ola', 'Bartek', 'Janek']\n",
    "for index, name in enumerate(names):\n",
    "    print(\"W iteracji\", index, \"zmienna name ma wartość\", name, \"i jest równa\", names[index])\n"
   ],
   "outputs": [
    {
     "output_type": "stream",
     "name": "stdout",
     "text": [
      "W iteracji 0 zmienna name ma wartość Ala i jest równa Ala\n",
      "W iteracji 1 zmienna name ma wartość Ola i jest równa Ola\n",
      "W iteracji 2 zmienna name ma wartość Bartek i jest równa Bartek\n",
      "W iteracji 3 zmienna name ma wartość Janek i jest równa Janek\n"
     ]
    }
   ],
   "metadata": {}
  },
  {
   "cell_type": "markdown",
   "source": [
    "Zauważ że w for tworzymy teraz 2 zmienne: `index` - do której przypisujemy numer iteracji oraz `name`, do której przypisujemy koeljne elementy pobrane z listy.\n",
    "\n",
    "Numer iteracji (indeks) jest jednocześnie pozycją elementu w sekwencji, dlatego możemy go użyć do pobrania elementu z listy, np. `names[index]`"
   ],
   "metadata": {}
  },
  {
   "cell_type": "markdown",
   "source": [
    "Zobaczmy jednak co się stanie jeśli użyjemy pętli for i fuknkcji enumerate z jedną zmienną"
   ],
   "metadata": {}
  },
  {
   "cell_type": "code",
   "execution_count": 1,
   "source": [
    "names = ['Ala', 'Ola', 'Bartek', 'Janek']\n",
    "for element in enumerate(names):\n",
    "    print(element)"
   ],
   "outputs": [
    {
     "output_type": "stream",
     "name": "stdout",
     "text": [
      "(0, 'Ala')\n",
      "(1, 'Ola')\n",
      "(2, 'Bartek')\n",
      "(3, 'Janek')\n"
     ]
    }
   ],
   "metadata": {}
  },
  {
   "cell_type": "markdown",
   "source": [
    "Jak widać, w każdej iteracji do zmiennej `element` trafia obiekt typu `tuple` o dwóch wartościach - pierwsza z nuch to indeks, a druga wartość iterowanej listy. \n",
    "\n",
    "Jeśli zamiast konstrukcji `for element in enumerate(x)` użyjemy `for indeks, value in enumerate(x)` to do zmiennej `indeks` trafi ta sama wartość, która jest w `element[0]`, a do zmiennej `value` trafi `element[1]`."
   ],
   "metadata": {}
  },
  {
   "cell_type": "code",
   "execution_count": 68,
   "source": [
    "# Zadanie 5.4\n",
    "# Dana jest lista liczb, wyświetl indeksy (pozycje) elementów nieparzystych\n",
    "numbers = [1, 3, 4, 12, 4, 2, 5, 17, 6, 28]\n",
    "\n",
    "# Prawidłowa odpowiedź to: 0 1 6 7"
   ],
   "outputs": [],
   "metadata": {}
  },
  {
   "cell_type": "markdown",
   "source": [
    "Przykładem bardziej z życia będzie sytuacja, kiedy na koniec roku nauczycielka liczy średnią ocen każdemu uczniowi w klasie. \n",
    "\n",
    "Zapiszmy algorytm dla pani nauczycielki w krokach:\n",
    "\n",
    "1. Pobierz oceny pierwszego ucznia\n",
    "1. Policz średnią ocen (suma ocen / liczba ocen)\n",
    "1. Pobierz oceny kolejnego ucznia, jeśli są jeszcze uczniowie z niepoliczoną średnią i wróć do punktu 2.\n",
    "\n",
    "\n",
    "![image.png](images/05_for_srednia.png)"
   ],
   "metadata": {}
  },
  {
   "cell_type": "markdown",
   "source": [
    "Do zapisania ocen uczniów użyjemy **słownika** (`dict`). \n",
    "Słownik to struktura danych `klucz: wartość`.  Klucze zazwyczaj są napisami lub liczbami, wartości mogą być dowolnego typu. \n",
    "\n",
    "W naszym przypadku kluczami słownika będą imiona uczniów, a wartościami listy ocen. \n",
    "\n",
    "Wartość ze słowika pobieramy za pomocą nawiasów kwadratowych, np `students_notes['Ala']` zwróci listę ocen Ali."
   ],
   "metadata": {}
  },
  {
   "cell_type": "code",
   "execution_count": 69,
   "source": [
    "students_notes = {\n",
    "    'Ala': [2, 3, 4, 2.5, 6],\n",
    "    'Ola': [4, 5, 5.5, 3],\n",
    "    'Maciej': [2, 4, 5, 4.5, 2, 2],\n",
    "    'Krzysiek': [2]\n",
    "}\n",
    "\n",
    "print(\"Oceny Ali:\", students_notes['Ala'])\n",
    "print(\"Oceny Maćka:\", students_notes['Maciej'])\n"
   ],
   "outputs": [
    {
     "output_type": "stream",
     "name": "stdout",
     "text": [
      "Oceny Ali: [2, 3, 4, 2.5, 6]\n",
      "Oceny Maćka: [2, 4, 5, 4.5, 2, 2]\n"
     ]
    }
   ],
   "metadata": {}
  },
  {
   "cell_type": "markdown",
   "source": [
    "Teraz napiszemy program, który będzie liczył średnią za panią nauczycielkę"
   ],
   "metadata": {}
  },
  {
   "cell_type": "code",
   "execution_count": 70,
   "source": [
    "students_notes = {\n",
    "    'Ala': [2, 3, 4, 2.5, 6],\n",
    "    'Ola': [4, 5, 5.5, 3],\n",
    "    'Maciej': [2, 4, 5, 4.5, 2, 2],\n",
    "    'Krzysiek': [2]\n",
    "}\n",
    "\n",
    "for name, notes in students_notes.items():\n",
    "    print(\"Oceny ucznia\", name, \":\", notes)\n",
    "    average = sum(notes)/len(notes)\n",
    "    print(\"Średnia ucznia\", name, \":\", average, \"\\n\")"
   ],
   "outputs": [
    {
     "output_type": "stream",
     "name": "stdout",
     "text": [
      "Oceny ucznia Ala : [2, 3, 4, 2.5, 6]\n",
      "Średnia ucznia Ala : 3.5 \n",
      "\n",
      "Oceny ucznia Ola : [4, 5, 5.5, 3]\n",
      "Średnia ucznia Ola : 4.375 \n",
      "\n",
      "Oceny ucznia Maciej : [2, 4, 5, 4.5, 2, 2]\n",
      "Średnia ucznia Maciej : 3.25 \n",
      "\n",
      "Oceny ucznia Krzysiek : [2]\n",
      "Średnia ucznia Krzysiek : 2.0 \n",
      "\n"
     ]
    }
   ],
   "metadata": {}
  },
  {
   "cell_type": "markdown",
   "source": [
    "Przyjrzyjmy się na chwilę co się dzieje w linii `for name, notes in students_notes.items()`. \n",
    "\n",
    "`students_notes.items()` zwraca pary (klucz, wartość) dla każdego elementu w naszym słowniku `students_notes`. \n",
    "Będą to kolejno:\n",
    "- `'Ala'` i  `[2, 3, 4, 2.5, 6]`\n",
    "- `'Ola'` i `[4, 5, 5.5, 3]`\n",
    "- `'Maciej'` i `[2, 4, 5, 4.5, 2, 2]`\n",
    "- `'Krzysiek'` i `[2]`\n",
    "\n",
    "Z każdej kolejnej pary klucz przypisujemy do zmiennej `name`, a wartość do zmiennej `notes`. \n",
    "\n",
    "Przykładowo w pierwszej iteracji `name = \"Ala\"` a `notes = [2, 3, 4, 2.5, 6]`\n",
    "\n",
    "Następnie w ciele funkcji liczymy z dostępnych w danej iteracji ocen średnią i wypisujemy wynik. \n"
   ],
   "metadata": {}
  },
  {
   "cell_type": "code",
   "execution_count": 75,
   "source": [
    "# Zadanie 5.5\n",
    "# Dany jest słownik zawierający pomiary temperatury w ciągu tygodnia. \n",
    "# A. Wypisz minimalną temperaturę dla każdego dnia.\n",
    "# B. Wypisz minimalną temperaturę z całego tygodnia.\n",
    "\n",
    "temperatures = {\n",
    "    'monday': [14, 16, 18, 17, -10],\n",
    "    'tuesday': [10, 11, 10, 12, 10],\n",
    "    'wednesday': [9, 7, 5, 3, 1, -1, 1],\n",
    "    'thursday': [5.5, 2.3, 8.1, 10],\n",
    "    'friday': [0],\n",
    "    'saturday': [0, 0, -1, 1, 0],\n",
    "    'sunday': [1, 1, 1, 1, 1, -2, 2],\n",
    "}\n",
    "\n"
   ],
   "outputs": [],
   "metadata": {}
  },
  {
   "cell_type": "markdown",
   "source": [
    "### Linki do dokumentacji\n",
    "\n",
    "1. `dict.items()` https://docs.python.org/3/tutorial/datastructures.html#looping-techniques"
   ],
   "metadata": {}
  }
 ],
 "metadata": {
  "kernelspec": {
   "name": "python3",
   "display_name": "Python 3.9.6 64-bit"
  },
  "language_info": {
   "codemirror_mode": {
    "name": "ipython",
    "version": 3
   },
   "file_extension": ".py",
   "mimetype": "text/x-python",
   "name": "python",
   "nbconvert_exporter": "python",
   "pygments_lexer": "ipython3",
   "version": "3.9.6"
  },
  "interpreter": {
   "hash": "d2152fd7f0bbc62aa1baff8c990435d1e2c7175d001561303988032604c11a48"
  }
 },
 "nbformat": 4,
 "nbformat_minor": 5
}