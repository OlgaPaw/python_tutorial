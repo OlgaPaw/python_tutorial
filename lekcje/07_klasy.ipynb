{
 "cells": [
  {
   "cell_type": "markdown",
   "source": [
    "# Klasy i programowanie obiektowe"
   ],
   "metadata": {}
  },
  {
   "cell_type": "markdown",
   "source": [
    "## Wprowadzenie do programowania obiektowego"
   ],
   "metadata": {}
  },
  {
   "cell_type": "markdown",
   "source": [
    "**Programowanie obiektowe** to obok **programowania funkcyjnego** jedna z bardziej popularnych metod programowania. O funkcjach już trochę wiesz, teraz pora na **klasy** i **obiekty**. \n",
    "\n",
    "Najłatwiej będzie na przykładzie. Zastanów się chwilę co pojawia się w Twojej głowie kiedy myślisz \"samochód\". Za pewne jest to definicja w stylu: pojazd napędzany silnikiem, służący do przewozu osób. Samochód ma silnik, koła, drzwi i potrafi jechać do przodu, to tyłu skręcać itp. A teraz pomyśl o konkretnym samochodzie - np. mój samochód, samochód rodziców, samochód kolegi/koleżanki. Wtedy na myśli masz konkretny egzemplarz samochodu. \n",
    "\n",
    "Przekładając na język programowania - samochód - czyli definicja jakiejś określonej grupy (czy też szablonu, do którego \"pasują\" poszczególne egzemplarze) to **klasa**. Pojedynczy egzemplarz z danej grupy (np. mój samochód) będzie nazywany **obiektem** lub też **instancją**.\n",
    "\n",
    "Trochę bardziej formalnie **klasa** to struktura, która przechowuje zarówno stan obiektu (np. aktualny przebieg w kilomentrach) jak i **metody** (fukcje \"przypisane\" do obiektu, np. odpal silnik, jedź). \n",
    "\n",
    "Na stan obiektu składają się wszystkie przypisanie do obiektu zmienne, zwane **atrybutami** (np. `przebieg`).\n"
   ],
   "metadata": {}
  },
  {
   "cell_type": "code",
   "execution_count": 4,
   "source": [
    "class Samochod: # definicja klasy\n",
    "    def __init__(self):     # pierwsza metoda klasy - konstruktor\n",
    "        self.przebieg = 0   # inicjalizacja stanu - nadajemy stan początkowy - każdy nowy obiekt typu Samochód będzie miał przebieg 0\n",
    "    \n",
    "    def jedz(self, odleglosc):  # definicja metody jedź - przemieszczenia o odległość\n",
    "        self.przebieg += odleglosc  # zmiana stanu obiektu\n",
    "        \n",
    "        \n",
    "moj_samochod = Samochod()   # utworzenie nowego obiektu typu Samochod. Pod spodem wołana jest metoda __init__. Do parametru self trafia zmienna moj_samochod\n",
    "print(\"Mój samochod przejechał\", moj_samochod.przebieg)    # odczyt stanu obiektu moj_samochod\n",
    "\n",
    "inny_samochod = Samochod()  # tworzymy drugi obiekt typu Samochod\n",
    "print(\"Inny samochod przejechał\", inny_samochod.przebieg)\n",
    "\n",
    "moj_samochod.jedz(20)   # uruchamiamy metodę jedź na obiekcie moj_samochod. Zauważ, że podajemy tylko 2 parametr\n",
    "print(\"Mój samochod przejechał\", moj_samochod.przebieg) # Stan obiektu moj_samochod sie zmienił\n",
    "\n",
    "# Stan obiektu inny_samochod się nie zmienił, bo jak jadę swoim samochodem to sąsiadowi nie nabija się przebieg ;)\n",
    "print(\"Inny samochod przejechał\", inny_samochod.przebieg)\n"
   ],
   "outputs": [
    {
     "output_type": "stream",
     "name": "stdout",
     "text": [
      "Mój samochod przejechał 0\n",
      "Inny samochod przejechał 0\n",
      "Mój samochod przejechał 20\n",
      "Inny samochod przejechał 0\n"
     ]
    }
   ],
   "metadata": {}
  },
  {
   "cell_type": "markdown",
   "source": [
    "## Przykład - konta bankowe\n",
    "\n",
    "Pobawimy się teraz trochę bardziej skomplikowanym przykładem. \n",
    "\n",
    "Utworzymy klasy pozwalające na uproszczoną obsługę kont bankowych w jednym banku. \n",
    "\n",
    "Załóżmy że chcemy umożliwić wykonanie następujących operacji:\n",
    "- utworzenie konta bankowego\n",
    "- przelew na inne konto\n",
    "- wypłata pieniędzy\n",
    "- wpłata pieniędzy\n",
    "\n",
    "Teraz przeanalizujmy co się dzieje w każdej z tych operacji.\n",
    "\n",
    "1. *Utwórz* konto bankowe: Idziesz do **banku**, podpisujesz umowę, **bank** otwiera **konto** i nadaje mu **numer**\n",
    "2. *Przelej* pieniądze na inne konto: Od **stanu twojego konta** odejmujemy **kwotę** X zł i dodajemy ją do **stanu konta docelowego**\n",
    "3. *Wypłać* pieniądze: Udajesz się do banku lub bankomatu, gdzie dostajesz gotówkę, a od **stanu twojego konta** jest odejmowana **kwota wypłaty**\n",
    "4. *Wpłać* pieniędzy: Udajesz się do banku lub bankomatu, oddajesz gotówkę, a **stan twojego konta** zwiększa się o **kwotę wpłaty**\n",
    "\n",
    "Jak widzisz, we wszystkich operacjach powtarzają się pewne słowa kluczowe (słowa pogrubione) - wykoszystamy je do utworzenia klas i ich atrybutów. \n",
    "\n",
    "Operacje (słowa kursywą) staną się metodami klas.\n",
    "\n",
    "Poniżej znajduje się przykładowa implementacja kodu rozwiązującego ten problem. Postaraj się przeczytać go dokładnie. \n",
    "\n",
    "Nie przejmuj się, że czegoś nie rozumiesz, wyjaśnimy sobie ten kod krok po kroku poniżej."
   ],
   "metadata": {}
  },
  {
   "cell_type": "code",
   "execution_count": 1,
   "source": [
    "class Konto:\n",
    "    def __init__(self, wlasciciel, bank, nr_rachunku):\n",
    "        self.wlasciciel = wlasciciel\n",
    "        self.nr_rachunku = nr_rachunku\n",
    "        self.stan_konta = 0\n",
    "        self.bank = bank\n",
    "        \n",
    "    def wplac(self, kwota):\n",
    "        self.stan_konta += kwota\n",
    "\n",
    "    def wyplac(self, kwota):\n",
    "        self.stan_konta -= kwota\n",
    "        return kwota\n",
    "    \n",
    "    def przelej(self, nr_rachunku, kwota):\n",
    "        self.bank.przelej(self, nr_rachunku, kwota)\n",
    "\n",
    "class Bank:\n",
    "    def __init__(self, nazwa_banku):\n",
    "        self.nazwa = nazwa_banku\n",
    "        self.konta = {}\n",
    "    \n",
    "    def otworz_konto(self, wlasciciel):\n",
    "        nr_rachunku = len(self.konta)\n",
    "        konto = Konto(wlasciciel, self, nr_rachunku)\n",
    "        self.konta[nr_rachunku] = konto\n",
    "        return konto\n",
    "\n",
    "    def przelej(self, konto_zrodlowe, nr_docelowy, kwota):\n",
    "        konto_docelowe = self.konta[nr_docelowy]\n",
    "        konto_zrodlowe.stan_konta -= kwota\n",
    "        konto_docelowe.stan_konta += kwota\n",
    "        \n",
    "\n",
    "ing_bank = Bank('ING')\n",
    "konto1 = ing_bank.otworz_konto(\"Anna Maria\")\n",
    "print(\"Utworzono konto o nr rachunku\", konto1.nr_rachunku, \"dla\", \n",
    "      konto1.wlasciciel, \". Stan konta:\", konto1.stan_konta)\n",
    "\n",
    "print(\"Bank\", ing_bank.nazwa, \"ma teraz następujące konta\", list(ing_bank.konta.keys()))\n",
    "\n",
    "konto2 = ing_bank.otworz_konto(\"Jan Adam\")\n",
    "print(\"Utworzono konto o nr rachunku\", konto2.nr_rachunku, \"dla\",\n",
    "      konto2.wlasciciel, \". Stan konta:\", konto2.stan_konta)\n",
    "\n",
    "print(\"Bank\", ing_bank.nazwa, \"ma teraz następujące konta\",\n",
    "      list(ing_bank.konta.keys()))\n",
    "\n",
    "print(\"Bank\", ing_bank.nazwa, \"ma teraz następujące konta\", ing_bank.konta)\n",
    "\n",
    "konto1.wplac(100)\n",
    "print(\"stan konta 1 po wplacie 100zł:\", konto1.stan_konta)\n",
    "konto1.przelej(1, 25)\n",
    "print(\"stan konta 1 po przelewie wychodzącym 25zł:\", konto1.stan_konta)\n",
    "print(\"stan konta 2 po przelewie przychodzącym 25zł:\", konto2.stan_konta)\n",
    "\n",
    "gotowka = konto2.wyplac(20)\n",
    "print(\"stan konta 2 po wyplacie 20zł:\", konto2.stan_konta)\n"
   ],
   "outputs": [
    {
     "output_type": "stream",
     "name": "stdout",
     "text": [
      "Utworzono konto o nr rachunku 0 dla Anna Maria . Stan konta: 0\n",
      "Bank ING ma teraz następujące konta [0]\n",
      "Utworzono konto o nr rachunku 1 dla Jan Adam . Stan konta: 0\n",
      "Bank ING ma teraz następujące konta [0, 1]\n",
      "Bank ING ma teraz następujące konta {0: <__main__.Konto object at 0x7f415abfdf40>, 1: <__main__.Konto object at 0x7f415abfda30>}\n",
      "stan konta 1 po wplacie 100zł: 100\n",
      "stan konta 1 po przelewie wychodzącym 25zł: 75\n",
      "stan konta 2 po przelewie przychodzącym 25zł: 25\n",
      "stan konta 2 po wyplacie 20zł: 5\n"
     ]
    }
   ],
   "metadata": {}
  },
  {
   "cell_type": "markdown",
   "source": [
    "Omówmy powyższy krok linia po linii, zaczynając od klasy `Bank`\n",
    "\n",
    "```python\n",
    "class Bank:\n",
    "    def __init__(self, nazwa_banku):\n",
    "        self.nazwa = nazwa_banku\n",
    "        self.konta = {}\n",
    "    \n",
    "    def otworz_konto(self, wlasciciel):\n",
    "        nr_rachunku = len(self.konta)\n",
    "        konto = Konto(wlasciciel, self, nr_rachunku)\n",
    "        self.konta[nr_rachunku] = konto\n",
    "        return konto\n",
    "\n",
    "    def przelej(self, konto_zrodlowe, nr_docelowy, kwota):\n",
    "        konto_docelowe = self.konta[nr_docelowy]\n",
    "        konto_zrodlowe.stan_konta -= kwota\n",
    "        konto_docelowe.stan_konta += kwota\n",
    "```\n",
    "\n",
    "W klasie `Bank` zdefiniowane są 3 metody: `__init__`, `otworz_konto` oraz `przelej`. \n",
    "\n",
    "Analizę rozpoczniemy od metody inicjalizacyjnej `__init__`. Metoda ta potocznie zwana jest **konstruktorem**. Jej zadaniem jest ustawienie stanu początkowego, czyli **inicjalizacja** obiektu. \n",
    "\n",
    "Metoda ta jest wywoływana zawsze, gdy tworzymy nowy obiekt typu `Bank`, np.\n",
    "\n",
    "```python\n",
    "ing_bank = Bank(\"ING\")\n",
    "``` \n",
    "\n",
    "Porównajmy teraz wywołanie (powyżej) z definicją (poniżej)\n",
    "\n",
    "```python\n",
    "    def __init__(self, nazwa_banku):\n",
    "        self.nazwa = nazwa_banku\n",
    "        self.konta = {}\n",
    "```\n",
    "\n",
    "Zauważ że w definicji metoda przyjmuje 2 argumenty, ale w wywołaniu podajemy tylko jeden. \n",
    "Tak się dzieje w przypadku każdej metody, pierwszy argument (`self`) przekazywany jest **niejawnie**, czyli python podstawia to za nas. My musimy przekazać tylko argument `nazwa_banku`. Do parametru `self` trafi nowo utworzony obiekt, czyli `ing_bank`. To właśnie `self` pozwala na przypisanie metody do obiektu, sprawia że wewnątrz metody możemy odczytać lub zmodyfikować obiekt.\n",
    "\n",
    "Przypatrzmy się teraz wnętrzu metody `__init__`. Ma ona 2 instrukcje przypisania, które nowo powstałemu obiektowi `ing_bank` ustawią stan początkowy. \n",
    "\n",
    "Po utworzeniu obiektu (wywołaniu `ing_bank = Bank(\"ING\")`) python uruchamia metodę `__init__`, \"podstawia\" `ing_bank` jako wartość parametru `self`, a `\"ING\"` jako wartość parametru `nazwa_banku`. \n",
    "\n",
    "Następnie mamy 2 instrukcje przypisania wartości:\n",
    "- `self.nazwa = nazwa_banku` -> `ing_bank.nazwa_banku = \"ING\"` - do obiektu `ing_bank` przypisujemy nową zmienną `nazwa_banku` o wartości `\"ING\"`. \n",
    "- `self.konta = {}` -> `ing_bank.konta = {}` - do obiektu `ing_bank` przypisujemy nową zmienną `konta`, jej wartość to pusty słownik `{}`, który potem będziemy wypełniać utworzonymi kontami. "
   ],
   "metadata": {}
  },
  {
   "cell_type": "code",
   "execution_count": null,
   "source": [
    "# Zadanie 7.1\n",
    "# Utwórz nowy obiekt typu bank, następnie wyświetl jego stan początkowy (nazwę oraz konta)"
   ],
   "outputs": [],
   "metadata": {}
  },
  {
   "cell_type": "markdown",
   "source": [
    "Teraz przyjrzymy się drugiej metodzie klasy `Bank`: `otworz_konto`. \n",
    "\n",
    "```python\n",
    "    def otworz_konto(self, wlasciciel):\n",
    "        nr_rachunku = len(self.konta)\n",
    "        konto = Konto(wlasciciel, self, nr_rachunku)\n",
    "        self.konta[nr_rachunku] = konto\n",
    "        return konto\n",
    "```\n",
    "\n",
    "Metoda `otworz konto` przyjmuje 1 argument `wlasciciel`. \n",
    "\n",
    "Wewnątrz metody wywoływane są następujące operacje:\n",
    "1. `nr_rachunku = len(self.konta)` - sprawdzamy ile jest aktualnie kont w banku, w celu sekwencyjnego generowania numeru rachunku. Jeśli aktualnie w banku jest 0 kont, tworzone konto będzie miało nr rachunku 0, dla 1 konta w banku nr_rachunku będzie 1 itp. \n",
    "1. `konto = Konto(wlasciciel, self, nr_rachunku)` - tworzymy nowy obiekt `Konto`. Python wywoła tu metodę `__init__` z klasy `Konto`, którą omówimy za chwilę.\n",
    "1. `self.konta[nr_rachunku] = konto` - Nowo utorzone konto (`konto`) zapisujemy w słowniku kont banku (`self.konta`) pod kluczem `nr_rachunku`. Przypomnijmy sobie, że po inicjalizacji banku, słownik ten jest pusty. Po pierwszym wywołaniu metody `otworz_konto`, będzie w nim jedno konto, po następnym 2 itp. \n",
    "1. `return konto` - Return pozwala nam przypisać nowo utworzony obiekt do zmiennej w wywołaniu metody `otworz_konto` (patrz poniżej)\n",
    "\n",
    "Wywołanie metody będzie wyglądało następująco:\n",
    "\n",
    "```python\n",
    "konto_jana = ing_bank.otworz_konto(\"Jan Kowalski\")\n",
    "```\n"
   ],
   "metadata": {}
  },
  {
   "cell_type": "code",
   "execution_count": null,
   "source": [
    "# Zadanie 7.2 \n",
    "# Za pomocą metody otworz_konto utwórz 2 nowe konta w banku utworzonym w zadaniu 7.1\n",
    "# Wyświetl słownik kont banku (powinnien wyglądać mniej więcej tak: {0: <__main__.Konto object at 0x7f415abfdf40>, 1: <__main__.Konto object at 0x7f415abfda30>})"
   ],
   "outputs": [],
   "metadata": {}
  },
  {
   "cell_type": "markdown",
   "source": [
    "Przejdźmy do analizy klasy `Konto`\n",
    "\n",
    "```python\n",
    "class Konto:\n",
    "    def __init__(self, wlasciciel, bank, nr_rachunku):\n",
    "        self.wlasciciel = wlasciciel\n",
    "        self.nr_rachunku = nr_rachunku\n",
    "        self.stan_konta = 0\n",
    "        self.bank = bank\n",
    "        \n",
    "    def wplac(self, kwota):\n",
    "        self.stan_konta += kwota\n",
    "\n",
    "    def wyplac(self, kwota):\n",
    "        self.stan_konta -= kwota\n",
    "        return kwota\n",
    "    \n",
    "    def przelej(self, nr_rachunku, kwota):\n",
    "        self.bank.przelej(self, nr_rachunku, kwota)\n",
    "```\n",
    "\n",
    "W klasie `Konto` zdefiniowaliśmy 4 metody: `init`, `wplac`, `wyplac`, `przelej`.\n",
    "\n",
    "Metoda `__init__` jest wywoływana zawsze, gdy tworzymy nowy obiekt typu konto, np. \n",
    "\n",
    "```python\n",
    "konto_anny = Konto(\"Anna Maria\", Bank('ING'), 1234)\n",
    "```\n",
    "\n",
    "wywoła metodę `__init__`, a a do kolejnych argumentów trafią wartości:\n",
    "- do `self` trafi `konto_anny`\n",
    "- do `wlasciciel` trafi `\"Anna Maria\"`\n",
    "- do `bank` trafi `Bank('ING')`\n",
    "- do `nr_rachunku` trafi `1234`\n",
    "\n",
    "Wewnątrz funkcji `__init__` następuje ustawienie stanu początkowego nowego obiektu `konto_anny`:\n",
    "- `konto_anny.wlasciciel = 'Anna Maria'`\n",
    "- `konto_anny.nr_rachunku = 1234`\n",
    "- `konto_anny.stan_konta = 0`\n",
    "- `konto_anny.bank = Bank('ING')`\n",
    "\n",
    "Dla przypomnienia - `self` to taki \"magiczny\" parametr, pod którym zawsze znajduje się obiekt klasy na którym aktualnie operujemy. \n",
    "\n",
    "W wywołaniu `konto_anny.wplac(10)` pod `self` będzie wartość zmiennej `konto_anny`, a w wywołaniu `konto_jana.wplac(100)` pod `self` będzie wartość zmiennej `konto_jana`.\n"
   ],
   "metadata": {}
  },
  {
   "cell_type": "code",
   "execution_count": 2,
   "source": [
    "# Zadanie 7.3\n",
    "# Wyświetl stan początkowy obiektów konto utworzonych w zadaniu 7.2"
   ],
   "outputs": [],
   "metadata": {}
  },
  {
   "cell_type": "code",
   "execution_count": null,
   "source": [
    "# Zadanie 7.4\n",
    "# Utworz nowy obiekt konto bez użycia metody `bank.otworz_konto`"
   ],
   "outputs": [],
   "metadata": {}
  },
  {
   "cell_type": "markdown",
   "source": [
    "Kolejną metodą klasy konto jest `wplac`. \n",
    "\n",
    "```python\n",
    "    def wplac(self, kwota):\n",
    "        self.stan_konta += kwota\n",
    "```\n",
    "\n",
    "Metoda ta przyjmuje 1 parametr (w zapisie mamy 2: `self` i `kwota`, ale `self`a nie liczymy). \n",
    "Wewnątrz metody zmieniamy stan obiektu, dokładniej - zwiększamy atrybut `stan_konta` o podaną kwotę. \n",
    "\n",
    "Podobnie dzieje się w metodzie `wyplac`. \n",
    "\n",
    "```python\n",
    "    def wyplac(self, kwota):\n",
    "        self.stan_konta -= kwota\n",
    "        return kwota\n",
    "```\n",
    "\n",
    "Metoda ta również przyjmuje 1 parametr: `kwota`. W ciele metody mamy 2 operacje: zmiejszenie wartości propercji `stan_konta` o wartość `kwota`, oraz zwrócenie `kwota`.\n",
    "Z funkjci już wiesz, że `return` pozwala nam na późniejsze wykorzystanie zwróconej wartości. Np, jeśli wypłacisz 50 zł, możesz pójść do sklepu i zapłacić gotówką.\n",
    "\n",
    "```python\n",
    "gotowka = konto1.wyplac(50)\n",
    "```"
   ],
   "metadata": {}
  },
  {
   "cell_type": "code",
   "execution_count": 5,
   "source": [
    "# Zadanie 7.5\n",
    "# Wplac na oba konta utworzone w zadaniu 7.2 po 100 zł. \n",
    "# Następnie wylosuj kwotę z zakresu 10 - 90 zł, wypłać ją z pierwszego konta i wpłać na konto 2. Pamiętaj że wypłacać można tylko banknoty!\n",
    "# Wyświetl stan obu kont, żeby sprawdzić czy wszytsko się zgadza\n"
   ],
   "outputs": [],
   "metadata": {}
  },
  {
   "cell_type": "markdown",
   "source": [
    "Ostatnią metodą klasy `Konto` jest `przelej`. Robiąc przelew podajemy docelowy nr rachunku i kwotę, więc takie właśnie będą argumenty naszej metody.\n",
    "\n",
    "```python\n",
    "    def przelej(self, nr_rachunku, kwota):\n",
    "        self.bank.przelej(self, nr_rachunku, kwota)\n",
    "```\n",
    "\n",
    "Jak pewnie wiesz, na przelew składa się kilka kroków:\n",
    "- pobranie kwoty z konta źródłowego\n",
    "- dodanie kwoty do konta docelowego\n",
    "\n",
    "Nasze konto jednak nie ma informacji o koncie docelowym, więc obiekt konto **oddeleguje** operację przelew do obiektu **bank**, który te informacje już posiada. \n",
    "\n",
    "Oddelegowanie operacji, to nic innego jak zdefiniowanie jej w innej klasie, a w naszej klasie konto tylko wywołujemy tą zdefiniowaną w **banku** metodę. \n"
   ],
   "metadata": {}
  },
  {
   "cell_type": "markdown",
   "source": [
    "Zajrzyjmy więc co się dzieje w metodzie `przelej` klasy `Bak`\n",
    "\n",
    "```python\n",
    "    def przelej(self, konto_zrodlowe, nr_docelowy, kwota):\n",
    "        konto_docelowe = self.konta[nr_docelowy]\n",
    "        konto_zrodlowe.stan_konta -= kwota\n",
    "        konto_docelowe.stan_konta += kwota\n",
    "```\n",
    "\n",
    "Metoda przyjmuje 3 parametry:\n",
    "- `konto_zrodlowe` - obiekt typu konto z którego wychodzi przelew\n",
    "- `nr_docelowy` - numer rachunku docelowego\n",
    "- `kwota` - kwota przelewu\n",
    "\n",
    "I wykonuje następujące operacje:\n",
    "- Znalezienie obiektu konta docelowego po numerze rachunku\n",
    "- Pomniejszenie stanu konta źródłowego\n",
    "- Zwiększenie stanu konta docelowego\n",
    "\n",
    "Konto żródłowe będzie obiektem typu konto, jednak `nr_rachunku` to jedynie ciąg znaków (`string`). \n",
    "Aby zwiększyć stan konta docelowego potrzebujemy obiekt `Konto`, a nie obiektu typu string, dlatego musimy za pomocą `nr_rachunku` wydobyć najpierw obiekt konto ze słownika kont banku (linia 1 w ciele metody `przelej`). \n",
    "\n",
    "Następnie mamy już oba obiekty kont - źródłowego i docelowego, więc możemy wykonać operacje zmieniające stan kont."
   ],
   "metadata": {}
  },
  {
   "cell_type": "code",
   "execution_count": 1,
   "source": [
    "# Zadanie 7.6\n",
    "# Przelej z powrotem z konta 2 na konto 1 kwotę, o której mowa w zadaniu 7.5\n",
    "# Sprawdź, czy stan obu kont jest równy\n"
   ],
   "outputs": [],
   "metadata": {}
  },
  {
   "cell_type": "code",
   "execution_count": 4,
   "source": [
    "# Zadanie 7.7* - symulacja bramki SMS\n",
    "# Na podstawie przykładu konta bankowego napisz kod do obslugi wysyłania i dobierania SMSów. \n",
    "\n",
    "# Wskazówki\n",
    "# Zacznij od analizy jakie metody będą potrzebne. \n",
    "# Zapisz słowami jakie operacje wykonuane są podczas wysyłania i odbierania SMSów, jakie są dane wejściowe do tych operacji i oczekiwany wynik\n",
    "\n",
    "# Podpowiedź: telefon (phone), skrzynka odbiorcza (inbox), wyślij (send), odbierz (receive), operator (gateway), rejestruj (register)\n",
    "\n",
    "# Aby sprawdzić funkcjonalność wyślij wiadomość z jednego na drugi numer telefonu.\n"
   ],
   "outputs": [],
   "metadata": {}
  }
 ],
 "metadata": {
  "kernelspec": {
   "name": "python3",
   "display_name": "Python 3.9.7 64-bit"
  },
  "language_info": {
   "name": "python",
   "version": "3.9.7",
   "mimetype": "text/x-python",
   "codemirror_mode": {
    "name": "ipython",
    "version": 3
   },
   "pygments_lexer": "ipython3",
   "nbconvert_exporter": "python",
   "file_extension": ".py"
  },
  "interpreter": {
   "hash": "d2152fd7f0bbc62aa1baff8c990435d1e2c7175d001561303988032604c11a48"
  }
 },
 "nbformat": 4,
 "nbformat_minor": 5
}