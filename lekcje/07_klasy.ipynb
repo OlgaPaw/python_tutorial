{
 "cells": [
  {
   "cell_type": "markdown",
   "source": [
    "# Klasy i programowanie obiektowe"
   ],
   "metadata": {}
  },
  {
   "cell_type": "markdown",
   "source": [
    "## Wprowadzenie do programowania obiektowego"
   ],
   "metadata": {}
  },
  {
   "cell_type": "markdown",
   "source": [
    "**Programowanie obiektowe** to obok **programowania funkcyjnego** jedna z bardziej popularnych metod programowania. O funkcjach już trochę wiesz, teraz pora na **klasy** i **obiekty**. \n",
    "\n",
    "Najłatwiej będzie na przykładzie. Zastanów się chwilę co pojawia się w Twojej głowie kiedy myślisz \"samochód\". Za pewne jest to definicja w stylu: pojazd napędzany silnikiem, służący do przewozu osób. Samochód ma silnik, koła, drzwi i potrafi jechać do przodu, to tyłu skręcać itp. A teraz pomyśl o konkretnym samochodzie - np. mój samochód, samochód rodziców, samochód kolegi/koleżanki. Wtedy na myśli masz konkretny egzemplarz samochodu. \n",
    "\n",
    "Przekładając na język programowania - samochód - czyli definicja jakiejś określonej grupy (czy też szablonu, do którego \"pasują\" poszczególne egzemplarze) to **klasa**. Pojedynczy egzemplarz z danej grupy (np. mój samochód) będzie nazywany **obiektem** lub też **instancją**.\n",
    "\n",
    "Trochę bardziej formalnie **klasa** to struktura, która przechowuje zarówno stan obiektu (np. aktualny przebieg w kilomentrach) jak i **metody** (fukcje \"przypisane\" do obiektu, np. odpal silnik, jedź). \n",
    "\n",
    "Na stan obiektu składają się wszystkie przypisanie do obiektu zmienne, zwane **atrybutami** (np. `przebieg`).\n"
   ],
   "metadata": {}
  },
  {
   "cell_type": "code",
   "execution_count": 4,
   "source": [
    "class Samochod: # definicja klasy\n",
    "    def __init__(self):     # pierwsza metoda klasy - konstruktor\n",
    "        self.przebieg = 0   # inicjalizacja stanu - nadajemy stan początkowy - każdy nowy obiekt typu Samochód będzie miał przebieg 0\n",
    "    \n",
    "    def jedz(self, odleglosc):  # definicja metody jedź - przemieszczenia o odległość\n",
    "        self.przebieg += odleglosc  # zmiana stanu obiektu\n",
    "        \n",
    "        \n",
    "moj_samochod = Samochod()   # utworzenie nowego obiektu typu Samochod. Pod spodem wołana jest metoda __init__. Do parametru self trafia zmienna moj_samochod\n",
    "print(\"Mój samochod przejechał\", moj_samochod.przebieg)    # odczyt stanu obiektu moj_samochod\n",
    "\n",
    "inny_samochod = Samochod()  # tworzymy drugi obiekt typu Samochod\n",
    "print(\"Inny samochod przejechał\", inny_samochod.przebieg)\n",
    "\n",
    "moj_samochod.jedz(20)   # uruchamiamy metodę jedź na obiekcie moj_samochod. Zauważ, że podajemy tylko 2 parametr\n",
    "print(\"Mój samochod przejechał\", moj_samochod.przebieg) # Stan obiektu moj_samochod sie zmienił\n",
    "\n",
    "# Stan obiektu inny_samochod się nie zmienił, bo jak jadę swoim samochodem to sąsiadowi nie nabija się przebieg ;)\n",
    "print(\"Inny samochod przejechał\", inny_samochod.przebieg)\n"
   ],
   "outputs": [
    {
     "output_type": "stream",
     "name": "stdout",
     "text": [
      "Mój samochod przejechał 0\n",
      "Inny samochod przejechał 0\n",
      "Mój samochod przejechał 20\n",
      "Inny samochod przejechał 0\n"
     ]
    }
   ],
   "metadata": {}
  },
  {
   "cell_type": "markdown",
   "source": [
    "## Przykład - konta bankowe\n",
    "\n",
    "Pobawimy się teraz trochę bardziej skomplikowanym przykładem. \n",
    "\n",
    "Utworzymy klasy pozwalające na uproszczoną obsługę kont bankowych w jednym banku. \n",
    "\n",
    "Załóżmy że chcemy umożliwić wykonanie następujących operacji:\n",
    "- utworzenie konta bankowego\n",
    "- przelew na inne konto\n",
    "- wypłata pieniędzy\n",
    "- wpłata pieniędzy\n",
    "\n",
    "Teraz przeanalizujmy co się dzieje w każdej z tych operacji.\n",
    "\n",
    "1. *Utwórz* konto bankowe: Idziesz do **banku**, podpisujesz umowę, **bank** otwiera **konto** i nadaje mu **numer**\n",
    "2. *Przelej* pieniądze na inne konto: Od **stanu twojego konta** odejmujemy **kwotę** X zł i dodajemy ją do **stanu konta docelowego**\n",
    "3. *Wypłać* pieniądze: Udajesz się do banku lub bankomatu, gdzie dostajesz gotówkę, a od **stanu twojego konta** jest odejmowana **kwota wypłaty**\n",
    "4. *Wpłać* pieniędzy: Udajesz się do banku lub bankomatu, oddajesz gotówkę, a **stan twojego konta** zwiększa się o **kwotę wpłaty**\n",
    "\n",
    "Jak widzisz, we wszystkich operacjach powtarzają się pewne słowa kluczowe (słowa pogrubione) - wykoszystamy je do utworzenia klas i ich atrybutów. \n",
    "\n",
    "Operacje (słowa kursywą) staną się metodami klas.\n",
    "\n",
    "Poniżej znajduje się przykładowa implementacja kodu rozwiązującego ten problem. Postaraj się przeczytać go dokładnie. \n",
    "\n",
    "Nie przejmuj się, że czegoś nie rozumiesz, wyjaśnimy sobie ten kod krok po kroku poniżej."
   ],
   "metadata": {}
  },
  {
   "cell_type": "code",
   "execution_count": 1,
   "source": [
    "class Konto:\n",
    "    def __init__(self, wlasciciel, bank, nr_rachunku):\n",
    "        self.wlasciciel = wlasciciel\n",
    "        self.nr_rachunku = nr_rachunku\n",
    "        self.stan_konta = 0\n",
    "        self.bank = bank\n",
    "        \n",
    "    def wplac(self, kwota):\n",
    "        self.stan_konta += kwota\n",
    "\n",
    "    def wyplac(self, kwota):\n",
    "        self.stan_konta -= kwota\n",
    "        return kwota\n",
    "    \n",
    "    def przelej(self, nr_rachunku, kwota):\n",
    "        self.bank.przelej(self, nr_rachunku, kwota)\n",
    "\n",
    "class Bank:\n",
    "    def __init__(self, nazwa_banku):\n",
    "        self.nazwa = nazwa_banku\n",
    "        self.konta = {}\n",
    "    \n",
    "    def otworz_konto(self, wlasciciel):\n",
    "        nr_rachunku = len(self.konta)\n",
    "        konto = Konto(wlasciciel, self, nr_rachunku)\n",
    "        self.konta[nr_rachunku] = konto\n",
    "        return konto\n",
    "\n",
    "    def przelej(self, konto_zrodlowe, nr_docelowy, kwota):\n",
    "        konto_docelowe = self.konta[nr_docelowy]\n",
    "        konto_zrodlowe.stan_konta -= kwota\n",
    "        konto_docelowe.stan_konta += kwota\n",
    "        \n",
    "\n",
    "ing_bank = Bank('ING')\n",
    "konto1 = ing_bank.otworz_konto(\"Anna Maria\")\n",
    "print(\"Utworzono konto o nr rachunku\", konto1.nr_rachunku, \"dla\", \n",
    "      konto1.wlasciciel, \". Stan konta:\", konto1.stan_konta)\n",
    "\n",
    "print(\"Bank\", ing_bank.nazwa, \"ma teraz następujące konta\", list(ing_bank.konta.keys()))\n",
    "\n",
    "konto2 = ing_bank.otworz_konto(\"Jan Adam\")\n",
    "print(\"Utworzono konto o nr rachunku\", konto2.nr_rachunku, \"dla\",\n",
    "      konto2.wlasciciel, \". Stan konta:\", konto2.stan_konta)\n",
    "\n",
    "print(\"Bank\", ing_bank.nazwa, \"ma teraz następujące konta\",\n",
    "      list(ing_bank.konta.keys()))\n",
    "\n",
    "konto1.wplac(100)\n",
    "print(\"stan konta 1 po wplacie 100zł:\", konto1.stan_konta)\n",
    "konto1.przelej(1, 25)\n",
    "print(\"stan konta 1 po przelewie wychodzącym 25zł:\", konto1.stan_konta)\n",
    "print(\"stan konta 2 po przelewie przychodzącym 25zł:\", konto2.stan_konta)\n",
    "\n",
    "konto2.wyplac(20)\n",
    "print(\"stan konta 2 po wyplacie 20zł:\", konto2.stan_konta)\n"
   ],
   "outputs": [
    {
     "output_type": "stream",
     "name": "stdout",
     "text": [
      "Utworzono konto o nr rachunku 0 dla Anna Maria . Stan konta: 0\n",
      "Bank ING ma teraz następujące konta [0]\n",
      "Utworzono konto o nr rachunku 1 dla Jan Adam . Stan konta: 0\n",
      "Bank ING ma teraz następujące konta [0, 1]\n",
      "stan konta 1 po wplacie 100zł: 100\n",
      "stan konta 1 po przelewie wychodzącym 25zł: 75\n",
      "stan konta 2 po przelewie przychodzącym 25zł: 25\n",
      "stan konta 2 po wyplacie 20zł: 5\n"
     ]
    }
   ],
   "metadata": {}
  },
  {
   "cell_type": "markdown",
   "source": [
    "Omówmy powyższy krok linia po linii, zaczynając od klasy `Konto`\n",
    "\n",
    "```python\n",
    "class Konto:\n",
    "    def __init__(self, wlasciciel, bank, nr_rachunku):\n",
    "        self.wlasciciel = wlasciciel\n",
    "        self.nr_rachunku = nr_rachunku\n",
    "        self.stan_konta = 0\n",
    "        self.bank = bank\n",
    "        \n",
    "    def wplac(self, kwota):\n",
    "        self.stan_konta += kwota\n",
    "\n",
    "    def wyplac(self, kwota):\n",
    "        self.stan_konta -= kwota\n",
    "        return kwota\n",
    "    \n",
    "    def przelej(self, nr_rachunku, kwota):\n",
    "        self.bank.przelej(self, nr_rachunku, kwota)\n",
    "```\n",
    "\n",
    "W klasie `Konto` zdefiniowaliśmy 4 metody: `init`, `wplac`, `wyplac`, `przelej`.\n",
    "\n",
    "Metoda `__init__` potocznie zwana jest **konstruktorem**. Jej zadaniem jest ustawienie stanu początkowego, czyli **inicjalizacja** obiektu. \n",
    "Metoda ta jest wywoływana zawsze, gdy tworzymy nowy obiekt typu konto, np. \n",
    "\n",
    "```python\n",
    "konto = Konto(\"Anna Maria\", Bank('ING'), 1234)\n",
    "```\n",
    "\n",
    "wywoła metodę `__init__`, a a do kolejnych argumentów trafią wartości:\n",
    "- do `self` trafi `konto`\n",
    "- do `wlasciciel` trafi `\"Anna Maria\"`\n",
    "- do `bank` trafi `Bank('ING')`\n",
    "- do `nr_rachunku` trafi `1234`\n",
    "\n",
    "Wewnątrz funkcji `__init__` następuje ustawienie stanu początkowego nowego obiektu `konto`:\n",
    "- `konto.wlasciciel = 'Anna Maria'`\n",
    "- `konto.nr_rachunku = 1234`\n",
    "- `konto.stan_konta = 0`\n",
    "- `konto.bank = Bank('ING')`\n",
    "\n",
    "`self` to taki \"magiczny\" parametr, pod którym zawsze znajduje się obiekt klasy na którym aktualnie operujemy. \n",
    "Dla przykładu w wywołaniu `konto1.wplac(10)` pod `self` będzie wartość zmiennej `konto1`, a w wywołaniu `konto2.wplac(100)` pod `self` będzie wartość zmiennej `konto2`.\n"
   ],
   "metadata": {}
  },
  {
   "cell_type": "code",
   "execution_count": null,
   "source": [
    "# Zadanie 7.1\n",
    "# Utwórz 2 obiekty klasy Konto i wyświetl ich stan początkowy."
   ],
   "outputs": [],
   "metadata": {}
  },
  {
   "cell_type": "markdown",
   "source": [
    "Kolejną metodą klasy konto jest `wplac`. \n",
    "\n",
    "```python\n",
    "    def wplac(self, kwota):\n",
    "        self.stan_konta += kwota\n",
    "```\n",
    "\n",
    "Metoda ta przyjmuje 1 parametr (w zapisie mamy 2: `self` i `kwota`, ale `self`a nie liczymy). \n",
    "Wewnątrz metody zmieniamy stan obiektu, dokładniej - zwiększamy atrybut `stan_konta` o podaną kwotę. \n",
    "\n",
    "Podobnie dzieje się w metodzie `wyplac`. \n",
    "\n",
    "```python\n",
    "    def wyplac(self, kwota):\n",
    "        self.stan_konta -= kwota\n",
    "        return kwota\n",
    "```\n",
    "\n",
    "Metoda ta również przyjmuje 1 parametr: `kwota`. W ciele metody mamy 2 operacje: zmiejszenie wartości propercji `stan_konta` o wartość `kwota`, oraz zwrócenie `kwota`.\n",
    "Z funkjci już wiesz, że `return` pozwala nam na późniejsze wykorzystanie zwróconej wartości. Np, jeśli wypłacisz 50 zł, możesz pójść do sklepu i zapłacić gotówką.\n",
    "\n",
    "```python\n",
    "gotowka = konto1.wyplac(50)\n",
    "```"
   ],
   "metadata": {}
  },
  {
   "cell_type": "code",
   "execution_count": 3,
   "source": [
    "# Zadanie 7.2\n",
    "# Wplac na oba wyżej utworzone konta po 100 zł. \n",
    "# Następnie wylosuj kwotę z zakresu 10 - 90 zł, wypłać ją z pierwszego konta i wpłać na konto 2. Pamiętaj że wypłacać można tylko banknoty!\n",
    "# Wyświetl stan obu kont, żeby sprawdzić czy wszytsko się zgadza\n"
   ],
   "outputs": [
    {
     "output_type": "stream",
     "name": "stdout",
     "text": [
      "40\n",
      "160\n"
     ]
    }
   ],
   "metadata": {}
  },
  {
   "cell_type": "markdown",
   "source": [
    "Ostatnią metodą klasy `Konto` jest `przelej`. Robiąc przelew podajemy docelowy nr rachunku i kwotę, więc takie właśnie będą argumenty naszej metody.\n",
    "\n",
    "```python\n",
    "    def przelej(self, nr_rachunku, kwota):\n",
    "        self.bank.przelej(self, nr_rachunku, kwota)\n",
    "```\n",
    "\n",
    "Jak pewnie wiesz, na przelew składa się kilka kroków:\n",
    "- pobranie kwoty z konta źródłowego\n",
    "- dodanie kwoty do konta docelowego\n",
    "\n",
    "Nasze konto jednak nie ma informacji o koncie docelowym, więc obiekt konto **oddeleguje** operację przelew do obiektu **bank**, który te informacje już posiada. \n",
    "\n",
    "Oddelegowanie operacji, to nic innego jak zdefiniowanie jej w innej klasie, a w naszej klasie konto tylko wywołujemy tą zdefiniowaną w **banku** metodę. \n"
   ],
   "metadata": {}
  },
  {
   "cell_type": "code",
   "execution_count": 1,
   "source": [
    "# Zadanie 7.3\n",
    "# Przelej z powrotem z konta 2 na konto 1 kwotę, o której mowa w zadaniu 7.2\n",
    "# Sprawdź, czy stan obu kont jest równy\n"
   ],
   "outputs": [],
   "metadata": {}
  },
  {
   "cell_type": "markdown",
   "source": [],
   "metadata": {}
  },
  {
   "cell_type": "code",
   "execution_count": null,
   "source": [
    "# Zadanie 7.4 - bramka SMS\n",
    "# Na podstawie przykładu konta bankowego napisz kod do obslugi wysyłania i dobierania SMSów. \n"
   ],
   "outputs": [],
   "metadata": {}
  }
 ],
 "metadata": {
  "kernelspec": {
   "name": "python3",
   "display_name": "Python 3.9.7 64-bit"
  },
  "language_info": {
   "name": "python",
   "version": "3.9.7",
   "mimetype": "text/x-python",
   "codemirror_mode": {
    "name": "ipython",
    "version": 3
   },
   "pygments_lexer": "ipython3",
   "nbconvert_exporter": "python",
   "file_extension": ".py"
  },
  "interpreter": {
   "hash": "d2152fd7f0bbc62aa1baff8c990435d1e2c7175d001561303988032604c11a48"
  }
 },
 "nbformat": 4,
 "nbformat_minor": 5
}