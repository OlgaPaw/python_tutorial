{
 "cells": [
  {
   "cell_type": "markdown",
   "source": [
    "# Klasy i programowanie obiektowe"
   ],
   "metadata": {}
  },
  {
   "cell_type": "markdown",
   "source": [
    "## Wprowadzenie do programowania obiektowego"
   ],
   "metadata": {}
  },
  {
   "cell_type": "markdown",
   "source": [
    "**Programowanie obiektowe** to obok **programowania funkcyjnego** jedna z bardziej popularnych metod programowania. O funkcjach już trochę wiesz, teraz pora na **klasy** i **obiekty**. \n",
    "\n",
    "Najłatwiej będzie na przykładzie. Zastanów się chwilę co pojawia się w Twojej głowie kiedy myślisz \"samochód\". Za pewne jest to definicja w stylu: pojazd napędzany silnikiem, służący do przewozu osób. Samochód ma silnik, koła, drzwi i potrafi jechać do przodu, to tyłu skręcać itp. A teraz pomyśl o konkretnym samochodzie - np. mój samochód, samochód rodziców, samochód kolegi/koleżanki. Wtedy na myśli masz konkretny egzemplarz samochodu. \n",
    "\n",
    "Przekładając na język programowania - samochód - czyli definicja jakiejś określonej grupy (czy też szablonu, do którego \"pasują\" poszczególne egzemplarze) to **klasa**. Pojedynczy egzemplarz z danej grupy (np. mój samochód) będzie nazywany **obiektem** lub też **instancją**.\n",
    "\n",
    "Trochę bardziej formalnie **klasa** to struktura, która przechowuje zarówno stan obiektu (np. aktualny przebieg w kilomentrach) jak i **metody** (fukcje \"przypisane\" do obiektu, np. odpal silnik, jedź). \n",
    "\n",
    "Na stan obiektu składają się wszystkie przypisanie do obiektu zmienne, zwane **atrybutami** (np. `przebieg`).\n"
   ],
   "metadata": {}
  },
  {
   "cell_type": "code",
   "execution_count": 4,
   "source": [
    "class Samochod: # definicja klasy\n",
    "    def __init__(self):     # pierwsza metoda klasy - konstruktor\n",
    "        self.przebieg = 0   # inicjalizacja stanu - nadajemy stan początkowy - każdy nowy obiekt typu Samochód będzie miał przebieg 0\n",
    "    \n",
    "    def jedz(self, odleglosc):  # definicja metody jedź - przemieszczenia o odległość\n",
    "        self.przebieg += odleglosc  # zmiana stanu obiektu\n",
    "        \n",
    "        \n",
    "moj_samochod = Samochod()   # utworzenie nowego obiektu typu Samochod. Pod spodem wołana jest metoda __init__. Do parametru self trafia zmienna moj_samochod\n",
    "print(\"Mój samochod przejechał\", moj_samochod.przebieg)    # odczyt stanu obiektu moj_samochod\n",
    "\n",
    "inny_samochod = Samochod()  # tworzymy drugi obiekt typu Samochod\n",
    "print(\"Inny samochod przejechał\", inny_samochod.przebieg)\n",
    "\n",
    "moj_samochod.jedz(20)   # uruchamiamy metodę jedź na obiekcie moj_samochod. Zauważ, że podajemy tylko 2 parametr\n",
    "print(\"Mój samochod przejechał\", moj_samochod.przebieg) # Stan obiektu moj_samochod sie zmienił\n",
    "\n",
    "# Stan obiektu inny_samochod się nie zmienił, bo jak jadę swoim samochodem to sąsiadowi nie nabija się przebieg ;)\n",
    "print(\"Inny samochod przejechał\", inny_samochod.przebieg)\n"
   ],
   "outputs": [
    {
     "output_type": "stream",
     "name": "stdout",
     "text": [
      "Mój samochod przejechał 0\n",
      "Inny samochod przejechał 0\n",
      "Mój samochod przejechał 20\n",
      "Inny samochod przejechał 0\n"
     ]
    }
   ],
   "metadata": {}
  },
  {
   "cell_type": "markdown",
   "source": [
    "## Przykład - konta bankowe\n",
    "\n",
    "Pobawimy się teraz trochę bardziej skomplikowanym przykładem. \n",
    "\n",
    "Utworzymy klasy pozwalające na uproszczoną obsługę kont bankowych w jednym banku. \n",
    "\n",
    "Załóżmy że chcemy umożliwić wykonanie następujących operacji:\n",
    "- utworzenie konta bankowego\n",
    "- przelew na inne konto\n",
    "- wypłata pieniędzy\n",
    "- wpłata pieniędzy\n",
    "\n",
    "Teraz przeanalizujmy co się dzieje w każdej z tych operacji.\n",
    "\n",
    "1. *Utwórz* konto bankowe: Idziesz do **banku**, podpisujesz umowę, **bank** otwiera **konto** i nadaje mu **numer**\n",
    "2. *Przelej* pieniądze na inne konto: Od **stanu twojego konta** odejmujemy **kwotę** X zł i dodajemy ją do **stanu konta docelowego**\n",
    "3. *Wypłać* pieniądze: Udajesz się do banku lub bankomatu, gdzie dostajesz gotówkę, a od **stanu twojego konta** jest odejmowana **kwota wypłaty**\n",
    "4. *Wpłać* pieniędzy: Udajesz się do banku lub bankomatu, oddajesz gotówkę, a **stan twojego konta** zwiększa się o **kwotę wpłaty**\n",
    "\n",
    "Jak widzisz, we wszystkich operacjach powtarzają się pewne słowa kluczowe (słowa pogrubione) - wykoszystamy je do utworzenia klas i ich atrybutów. \n",
    "\n",
    "Operacje (słowa kursywą) staną się metodami klas.\n",
    "\n",
    "Poniżej znajduje się przykładowa implementacja kodu rozwiązującego ten problem. Postaraj się przeczytać go dokładnie. \n",
    "\n",
    "Nie przejmuj się, że czegoś nie rozumiesz, wyjaśnimy sobie ten kod krok po kroku poniżej."
   ],
   "metadata": {}
  },
  {
   "cell_type": "code",
   "execution_count": 9,
   "source": [
    "class Konto:\n",
    "    def __init__(self, wlasciciel, bank, nr_rachunku):\n",
    "        self.wlasciciel = wlasciciel\n",
    "        self.nr_rachunku = nr_rachunku\n",
    "        self.stan_konta = 0\n",
    "        self.bank = bank\n",
    "        \n",
    "    def wplac(self, kwota):\n",
    "        self.stan_konta += kwota\n",
    "\n",
    "    def wyplac(self, kwota):\n",
    "        self.stan_konta -= kwota\n",
    "        return kwota\n",
    "    \n",
    "    def przelej(self, nr_rachunku, kwota):\n",
    "        self.bank.przelej(self, nr_rachunku, kwota)\n",
    "\n",
    "class Bank:\n",
    "    def __init__(self, nazwa_banku):\n",
    "        self.nazwa = nazwa_banku\n",
    "        self.konta = {}\n",
    "    \n",
    "    def otworz_konto(self, wlasciciel):\n",
    "        nr_rachunku = len(self.konta)\n",
    "        konto = Konto(wlasciciel, self, nr_rachunku)\n",
    "        self.konta[nr_rachunku] = konto\n",
    "        return konto\n",
    "\n",
    "    def przelej(self, konto_zrodlowe, nr_docelowy, kwota):\n",
    "        konto_docelowe = self.konta[nr_docelowy]\n",
    "        konto_zrodlowe.stan_konta -= kwota\n",
    "        konto_docelowe.stan_konta += kwota\n",
    "        \n",
    "\n",
    "ing_bank = Bank('ING')\n",
    "konto1 = ing_bank.otworz_konto(\"Anna Maria\")\n",
    "print(\"Utworzono konto o nr rachunku\", konto1.nr_rachunku, \"dla\", \n",
    "      konto1.wlasciciel, \". Stan konta:\", konto1.stan_konta)\n",
    "\n",
    "print(\"Bank\", ing_bank.nazwa, \"ma teraz następujące konta\", list(ing_bank.konta.keys()))\n",
    "\n",
    "konto2 = ing_bank.otworz_konto(\"Jan Adam\")\n",
    "print(\"Utworzono konto o nr rachunku\", konto2.nr_rachunku, \"dla\",\n",
    "      konto2.wlasciciel, \". Stan konta:\", konto2.stan_konta)\n",
    "\n",
    "print(\"Bank\", ing_bank.nazwa, \"ma teraz następujące konta\",\n",
    "      list(ing_bank.konta.keys()))\n",
    "\n",
    "konto1.wplac(100)\n",
    "print(\"stan konta 1 po wplacie 100zł:\", konto1.stan_konta)\n",
    "konto1.przelej(1, 25)\n",
    "print(\"stan konta 1 po przelewie wychodzącym 25zł:\", konto1.stan_konta)\n",
    "print(\"stan konta 2 po przelewie przychodzącym 25zł:\", konto2.stan_konta)\n",
    "\n",
    "konto2.wyplac(20)\n",
    "print(\"stan konta 2 po wyplacie 20zł:\", konto2.stan_konta)\n"
   ],
   "outputs": [
    {
     "output_type": "stream",
     "name": "stdout",
     "text": [
      "Utworzono konto o nr rachunku 0 dla Anna Maria . Stan konta: 0\n",
      "Bank ING ma teraz następujące konta [0]\n",
      "Utworzono konto o nr rachunku 1 dla Jan Adam . Stan konta: 0\n",
      "Bank ING ma teraz następujące konta [0, 1]\n",
      "stan konta 1 po wplacie 100zł: 100\n",
      "stan konta 1 po przelewie wychodzącym 25zł: 75\n",
      "stan konta 2 po przelewie przychodzącym 25zł: 25\n",
      "stan konta 2 po wyplacie 20zł: 5\n"
     ]
    }
   ],
   "metadata": {}
  },
  {
   "cell_type": "code",
   "execution_count": null,
   "source": [
    "# Zadanie 7.1 - bramka SMS\n",
    "# Na podstawie przykładu konta bankowego napisz kod do obslugi wysyłania i dobierania SMSów. "
   ],
   "outputs": [],
   "metadata": {}
  }
 ],
 "metadata": {
  "kernelspec": {
   "name": "python3",
   "display_name": "Python 3.9.7 64-bit"
  },
  "language_info": {
   "name": "python",
   "version": "3.9.7",
   "mimetype": "text/x-python",
   "codemirror_mode": {
    "name": "ipython",
    "version": 3
   },
   "pygments_lexer": "ipython3",
   "nbconvert_exporter": "python",
   "file_extension": ".py"
  },
  "interpreter": {
   "hash": "d2152fd7f0bbc62aa1baff8c990435d1e2c7175d001561303988032604c11a48"
  }
 },
 "nbformat": 4,
 "nbformat_minor": 5
}