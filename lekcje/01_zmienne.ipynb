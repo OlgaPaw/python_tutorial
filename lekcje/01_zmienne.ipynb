{
 "cells": [
  {
   "cell_type": "markdown",
   "source": [
    "# Zmienne w pythonie\n",
    "\n",
    "## Co to jest zmienna?\n",
    "\n",
    "Zmienna (*ang. variable*) to \"pudełko\", w którym będziemy przechowywać jakąś wartość.\n",
    "\n",
    "Wyobraż sobie, że masz na stole 2 pudełka:\n",
    "- pierwsze, podpisane `name`, w środku którego jest karteczka z Twoim imieniem i nazwiskiem, \n",
    "- drugie, podpisane `age`, a w nim karteczka na której napisana jest liczba ile masz lat\n",
    "\n",
    "Teraz zapiszemy to samo w kodzie"
   ],
   "metadata": {}
  },
  {
   "cell_type": "code",
   "execution_count": 7,
   "source": [
    "age = 27\n",
    "name = \"Jan Kowalski\""
   ],
   "outputs": [],
   "metadata": {}
  },
  {
   "cell_type": "markdown",
   "source": [
    "Powyżej zdefiniowaliśmy 2 zmienne. W pythonie zmienną definiuje się poprzez przypisanie do niej wartości. Wszystko po prawej stronie znaku `=` to wartość, a po lewej mamy zmienną. \n",
    "\n",
    "Aby odwołać się do zmiennej w pythonie wystarczy że napiszemy ją gdzieś w programie. \n",
    "\n",
    "Możemy np. poprosić interpreter, żeby wypisał nam wartość zmiennej używając funckji `print`. \n",
    "\n",
    "Funkcja `print` wyświetla wartość **argumentu**. Argument to to co znajduje się pomiędzy nawiasami."
   ],
   "metadata": {}
  },
  {
   "cell_type": "code",
   "execution_count": 8,
   "source": [
    "print(name)\n",
    "print(age)"
   ],
   "outputs": [
    {
     "output_type": "stream",
     "name": "stdout",
     "text": [
      "Jan Kowalski\n",
      "27\n"
     ]
    }
   ],
   "metadata": {}
  },
  {
   "cell_type": "markdown",
   "source": [
    "## Typy zmiennych"
   ],
   "metadata": {}
  },
  {
   "cell_type": "markdown",
   "source": [
    "Każda zmienna ma jakiś typ. W pythonie mamy kilka postawowych typów danych. Najczęściej używane to:\n",
    "- `int` - liczba całkowita - np. `10`\n",
    "- `float` - liczba z ułamkiem - np. `4.76`\n",
    "- `str` - napis - np. `\"Ala\"` lub `'Hello world'`. Napisem (stringiem) jest wszystko co zapiszemy w cudzysłowiach pojedyńczych (`''`) lub podwójnych (`\"\"`). Nie ma znaczenia których użyjesz.\n",
    "- `list` - lista, tablica - np. `[1, 2, 3, 4]` lub `['Ala', 'Ola', 'Ela']` lub `[1, 1.23, 'Maciek']`. Lista to grupa kilku wartości dowolnych typów. Do definicji tablicy używamy nawiasów kwadratowych `[]`"
   ],
   "metadata": {}
  },
  {
   "cell_type": "code",
   "execution_count": 9,
   "source": [
    "age = 25\n",
    "price = 13.54\n",
    "name = 'Ala'\n",
    "surname = 'Makota'\n",
    "weekdays = ['Poniedziałek', 'Wtorek', 'Środa', 'Czwartek', 'Piątek', 'Sobota', 'Niedziela']\n"
   ],
   "outputs": [],
   "metadata": {}
  },
  {
   "cell_type": "markdown",
   "source": [
    "Do sprawdzenia typu zmiennej używamy funkcji `type`. \n",
    "\n",
    "Przykładowo wywołanie `type(age)` zwróci wartość `<class: 'int'>`. \n",
    "\n",
    "Używajemy wcześniej już poznanej funkcji `print` oraz nowo poznanej funkcji `type` do wyświenia typów zmiennych zdefiniowanych wyżej."
   ],
   "metadata": {}
  },
  {
   "cell_type": "code",
   "execution_count": 10,
   "source": [
    "print(type(age))\n",
    "print(type(price))\n",
    "print(type(name))\n",
    "print(type(surname))\n",
    "print(type(weekdays))"
   ],
   "outputs": [
    {
     "output_type": "stream",
     "name": "stdout",
     "text": [
      "<class 'int'>\n",
      "<class 'float'>\n",
      "<class 'str'>\n",
      "<class 'str'>\n",
      "<class 'list'>\n"
     ]
    }
   ],
   "metadata": {}
  },
  {
   "cell_type": "markdown",
   "source": [
    "Wewnątrz programu można zmieniać zmiennym wartość, a nawet zmieniać im typ!"
   ],
   "metadata": {}
  },
  {
   "cell_type": "code",
   "execution_count": 26,
   "source": [
    "price = 7\n",
    "print(price, type(price))\n",
    "price = 8.75\n",
    "print(price, type(price))\n",
    "price = 'Sześćdziesiąt'\n",
    "print(price, type(price))"
   ],
   "outputs": [
    {
     "output_type": "stream",
     "name": "stdout",
     "text": [
      "7 <class 'int'>\n",
      "8.75 <class 'float'>\n",
      "Sześćdziesiąt <class 'str'>\n"
     ]
    }
   ],
   "metadata": {}
  },
  {
   "cell_type": "markdown",
   "source": [
    "Co więcej, możemy przypisać wartość jednej zmiennej, do innej zmiennej, lub użyć jedną zmienną do utworzenia innej."
   ],
   "metadata": {}
  },
  {
   "cell_type": "code",
   "execution_count": 27,
   "source": [
    "a = 7\n",
    "b = a\n",
    "c = a + 3\n",
    "print(a, b, c)"
   ],
   "outputs": [
    {
     "output_type": "stream",
     "name": "stdout",
     "text": [
      "7 7 10\n"
     ]
    }
   ],
   "metadata": {}
  },
  {
   "cell_type": "markdown",
   "source": [
    "## Jak używać zmiennych"
   ],
   "metadata": {}
  },
  {
   "cell_type": "markdown",
   "source": [
    "### Zmienne liczbowe (int, float)\n",
    "Zmienne będące liczbami możemy użyć do operacji arytmetycznych"
   ],
   "metadata": {}
  },
  {
   "cell_type": "code",
   "execution_count": 28,
   "source": [
    "a = 6\n",
    "b = 7.25\n",
    "\n",
    "# Policzmy obwód i pole prostokąta\n",
    "O = 2 * a + 2 * b\n",
    "P = a * b\n",
    "\n",
    "print(\"Obwód:\", O) \n",
    "print(\"Pole:\", P)"
   ],
   "outputs": [
    {
     "output_type": "stream",
     "name": "stdout",
     "text": [
      "Obwód: 26.5\n",
      "Pole: 43.5\n"
     ]
    }
   ],
   "metadata": {}
  },
  {
   "cell_type": "markdown",
   "source": [
    "Jeśli potrzeba, możemy zwiększyć lub zmniejszyć ich wartość"
   ],
   "metadata": {}
  },
  {
   "cell_type": "code",
   "execution_count": 11,
   "source": [
    "x = 1\n",
    "x = x + 1 # do zmiennej x przypisujemy nową wartość wynoszącą \"stare x + 1\"\n",
    "print(x)\n",
    "\n",
    "x += 1 # to jest równoważne z x = x + 1\n",
    "print(x)\n",
    "\n",
    "x -= 1 # tożsame z x = x - 1\n",
    "print(x)"
   ],
   "outputs": [
    {
     "output_type": "stream",
     "name": "stdout",
     "text": [
      "2\n",
      "3\n",
      "2\n"
     ]
    }
   ],
   "metadata": {}
  },
  {
   "cell_type": "markdown",
   "source": [
    "Inne operacje arytmetyczne w pythonie\n",
    "\n",
    "| Operator | Działanie                   | Przykład |\n",
    "|----------|-----------------------------|----------|\n",
    "| +        | Suma, symbol dodatni        | `x + y`  |\n",
    "| –        | Różnica, symbol ujemny      | `x – y`  |\n",
    "| *        | Iloczyn                     | `x * y`  |\n",
    "| /        | Iloraz                      | `x / y`  |\n",
    "| %        | Modulo – reszta z dzielenia | `x % y`  |\n",
    "| //       | Dzielenie całkowite         | `x // y` |\n",
    "| **       | Potęga                      | `x ** y` |"
   ],
   "metadata": {}
  },
  {
   "cell_type": "markdown",
   "source": [
    "#### Zadanie - przykład\n",
    "Temperatura w dzień wynosiła 5 stopni, a w nocy -2 stopnie. Oblicz średnią temperaturę dobową."
   ],
   "metadata": {}
  },
  {
   "cell_type": "code",
   "execution_count": 30,
   "source": [
    "# Rozwiązanie\n",
    "day_temperature = 5\n",
    "night_temperature = -2\n",
    "average_temperature = (5 + -2) / 2\n",
    "print(\"Średnia temperatura \", average_temperature)"
   ],
   "outputs": [
    {
     "output_type": "stream",
     "name": "stdout",
     "text": [
      "Średnia temperatura  1.5\n"
     ]
    }
   ],
   "metadata": {}
  },
  {
   "cell_type": "markdown",
   "source": [
    "#### Zadania do wykonania"
   ],
   "metadata": {}
  },
  {
   "cell_type": "code",
   "execution_count": 31,
   "source": [
    "# Zadanie 1.1: Maciek dostał z matematyki 2 na pierwsze półrocze i 4 na drugie półrocze. Jaką dostanie ocenę końcową?\n",
    "# Oczekiwany wynik: 3"
   ],
   "outputs": [],
   "metadata": {}
  },
  {
   "cell_type": "code",
   "execution_count": 32,
   "source": [
    "# Zadanie 1.2: Ola ma 5 lat. Jacek jest o 2 lata młodszy od Oli, a Asia 2 razy starsza od Jacka. Oblicz wiek Jacka i Asi \n",
    "# Oczekiwany wynik: Jacek 3 lata, Asia 6 lat\n"
   ],
   "outputs": [],
   "metadata": {}
  },
  {
   "cell_type": "code",
   "execution_count": 33,
   "source": [
    "# Zadanie 1.3: \n",
    "# W koszyku jest 11 cukierków, a dzieci jest czworo. \n",
    "# Ile cukierków zostanie, jeśli każde dziecko dostanie tyle samo cukierków?\n",
    "# Zakładamy że nie przekrajamy cukierków! (wykorzystaj operator reszty z dzielenia - modulo)\n",
    "# Oczekiwany wynik: 3"
   ],
   "outputs": [],
   "metadata": {}
  },
  {
   "cell_type": "code",
   "execution_count": 34,
   "source": [
    "# Zadanie 1.4: Oblicz objętość sześcianu o boku 8. \n",
    "# Objętość = Pole podstawy * h, gdzie dla sześcianu długości wszystkich boków są takie same. \n",
    "# V = Pp * h = a * a * a\n",
    "# Wykorzystaj operator potęgi.\n",
    "# Oczekiwany wynik: 512"
   ],
   "outputs": [],
   "metadata": {}
  },
  {
   "cell_type": "markdown",
   "source": [
    "### Zmienne boolowskie (Tak/Nie)\n",
    "\n",
    "W pythonie, tak jak w większości języków programowania mamy zmienne boolowskie, czyli takie co mogą przybrać tylko 2 wartości: Tak i Nie (`True` lub `False`). Zmiennych takich używamy zazwyczaj do zapisywania odpowiedzi na pytania lub do włączania / wyłączania ustawień (flag). Używamy ich także do sterowania operacją `if`. \n",
    "\n",
    "W pythonie wartości `True` i `False` zapisujemy z wielkiej litery."
   ],
   "metadata": {}
  },
  {
   "cell_type": "code",
   "execution_count": 35,
   "source": [
    "z = False\n",
    "y = True\n",
    "print(type(z), type(y)) # Zmienne y i z są typu bool\n",
    "\n",
    "# Zadajmy pytanie czy y jest równe z i wyświetlmy odpowiedź\n",
    "print(y == z)"
   ],
   "outputs": [
    {
     "output_type": "stream",
     "name": "stdout",
     "text": [
      "<class 'bool'> <class 'bool'>\n",
      "False\n"
     ]
    }
   ],
   "metadata": {}
  },
  {
   "cell_type": "markdown",
   "source": [
    "Teraz pokażemy przykład użycia flagi do sterowania programem na przykładzie instrukcji `if`.\n",
    "\n",
    "Operacja wewnątrz `if` wykona się tylko jeśli warunek (to co jest za `if` i przed `:`)  przyjmie wartość `True`"
   ],
   "metadata": {}
  },
  {
   "cell_type": "code",
   "execution_count": 36,
   "source": [
    "should_display_summary = True\n",
    "\n",
    "if should_display_summary:\n",
    "    print(\"Summary\")\n",
    "    \n",
    "print(\"End\")"
   ],
   "outputs": [
    {
     "output_type": "stream",
     "name": "stdout",
     "text": [
      "Summary\n",
      "End\n"
     ]
    }
   ],
   "metadata": {}
  },
  {
   "cell_type": "code",
   "execution_count": 37,
   "source": [
    "should_display_summarry = False\n",
    "\n",
    "if should_display_summarry:\n",
    "    print(\"Summary\")\n",
    "\n",
    "print(\"End\")"
   ],
   "outputs": [
    {
     "output_type": "stream",
     "name": "stdout",
     "text": [
      "End\n"
     ]
    }
   ],
   "metadata": {}
  },
  {
   "cell_type": "markdown",
   "source": [
    "Jak widać `ciało` instrukcji `if` wykonane zostało tylko jeśli `warunek` (wartość zmiennej `should_display_summarry` jest równa `True`) "
   ],
   "metadata": {}
  },
  {
   "cell_type": "markdown",
   "source": [
    "#### Operacje logiczne zapisane do zmiennej\n",
    "Do zmiennej `bool` można zapisać wynik operacji porównania `==`"
   ],
   "metadata": {}
  },
  {
   "cell_type": "code",
   "execution_count": 38,
   "source": [
    "a = 7\n",
    "b = 7\n",
    "\n",
    "print(a == b)\n",
    "\n",
    "result = a == b # początkowo dla czytelności możesz używać result = (a == b)\n",
    "print(result)"
   ],
   "outputs": [
    {
     "output_type": "stream",
     "name": "stdout",
     "text": [
      "True\n",
      "True\n"
     ]
    }
   ],
   "metadata": {}
  },
  {
   "cell_type": "code",
   "execution_count": 39,
   "source": [
    "result = 'A' == 'a' # Czy wielka litera to dla pythona to samo co mała?\n",
    "print(result)"
   ],
   "outputs": [
    {
     "output_type": "stream",
     "name": "stdout",
     "text": [
      "False\n"
     ]
    }
   ],
   "metadata": {}
  },
  {
   "cell_type": "code",
   "execution_count": 40,
   "source": [
    "result = 'A' != 'a' # Czy wielka litera to dla pythona co innego niż mała?\n",
    "print(result)"
   ],
   "outputs": [
    {
     "output_type": "stream",
     "name": "stdout",
     "text": [
      "True\n"
     ]
    }
   ],
   "metadata": {}
  },
  {
   "cell_type": "code",
   "execution_count": 2,
   "source": [
    "# Zadanie 1.5 - sprawdź czy 7 jest liczbą nieparzystą i przypisz wynik do zmiennej.\n",
    "# Do sprawdzenia parzystościu użyj reszty z dzielenia przez 2 (modulo)\n",
    "\n",
    "is_7_odd = # wypełnij\n",
    "\n",
    "print(is_7_odd)\n",
    "# Oczekiwany wynik: True"
   ],
   "outputs": [
    {
     "output_type": "stream",
     "name": "stdout",
     "text": [
      "7 jest nieparzysta? True\n"
     ]
    }
   ],
   "metadata": {}
  },
  {
   "cell_type": "markdown",
   "source": [
    "### Zmienne napisowe (string)\n",
    "W przypadku zmiennych będących napisami mamy do dyspozycji kilka operacji. \n",
    "Możemy np. zamienić litery na wielkie, małe, tytułowe"
   ],
   "metadata": {}
  },
  {
   "cell_type": "code",
   "execution_count": null,
   "source": [
    "autor = 'Adam Mickiewicz'\n",
    "\n",
    "lowercase_author = autor.lower()  # Przypisujemy wynik operacji lower do nowej zmiennej lowercase_author\n",
    "print(lowercase_author)\n",
    "\n",
    "print(autor.upper()) # Można nie przypisywać wyniku do zmiennej, tylko podać go bezpośrednio do funkcji print\n",
    "print(autor) # Zauważ, że orginalna zmienna nie została zmieniona\n",
    "\n",
    "\n",
    "book = 'dziady część 2'\n",
    "print(book.title()) # Metoda title zamienia pierwszą literę każdego wyrazu na wielką"
   ],
   "outputs": [
    {
     "output_type": "stream",
     "name": "stdout",
     "text": [
      "adam mickiewicz\n",
      "ADAM MICKIEWICZ\n",
      "Adam Mickiewicz\n",
      "Dziady Część 2\n"
     ]
    }
   ],
   "metadata": {}
  },
  {
   "cell_type": "markdown",
   "source": [
    "Możemy też rozdzielać napisy (*split*) do listy wyrazów i łączyć listy napisów w jeden (*join*)"
   ],
   "metadata": {}
  },
  {
   "cell_type": "code",
   "execution_count": null,
   "source": [
    "# Rozdzielenie napisów\n",
    "\n",
    "lorem = \"Lorem ipsum dolor sit amet, consectetur adipiscing elit\"\n",
    "print(lorem.split(\" \"))\n",
    "print(lorem.split())\n",
    "# split() oraz split(\" \") są równoważne\n",
    "\n",
    "notes = \"1,3,2,4,5,3,1\"\n",
    "print(notes.split(\",\"))\n",
    "\n",
    "pets = \"pies Reksio, kot Felix, świnka Peppa\"\n",
    "print(pets.split(\", \")) # można podać więcej niż 1 znak po którym rozdzielimy - np przecinek i spacja\n"
   ],
   "outputs": [
    {
     "output_type": "stream",
     "name": "stdout",
     "text": [
      "['Lorem', 'ipsum', 'dolor', 'sit', 'amet,', 'consectetur', 'adipiscing', 'elit']\n",
      "['Lorem', 'ipsum', 'dolor', 'sit', 'amet,', 'consectetur', 'adipiscing', 'elit']\n",
      "['1', '3', '2', '4', '5', '3', '1']\n",
      "['pies Reksio', 'kot Felix', 'świnka Peppa']\n"
     ]
    }
   ],
   "metadata": {}
  },
  {
   "cell_type": "code",
   "execution_count": null,
   "source": [
    "# Łączenie listy napisów w napis\n",
    "\n",
    "students = [\"Ala\", \"Ola\", \"Maciek\", \"Janek\"]\n",
    "print(\", \".join(students)) # pomiędzy elementy tablicy \"wkładamy\" przecinek i spację\n",
    "\n",
    "choices = [\"papier\", \"kamień\", \"nożyce\"]\n",
    "result = \" albo \".join(choices)\n",
    "print(result)\n",
    "print(type(result))"
   ],
   "outputs": [
    {
     "output_type": "stream",
     "name": "stdout",
     "text": [
      "Ala, Ola, Maciek, Janek\n",
      "papier albo kamień albo nożyce\n",
      "<class 'str'>\n"
     ]
    }
   ],
   "metadata": {}
  },
  {
   "cell_type": "markdown",
   "source": [
    "Często wykorzystywane sa też operacje podmieniające znaki w stringu."
   ],
   "metadata": {}
  },
  {
   "cell_type": "code",
   "execution_count": null,
   "source": [
    "name = \"Grażyna\"\n",
    "no_special_char_name = name.replace(\"ż\", 'z')\n",
    "print(name, no_special_char_name)\n",
    "\n",
    "multispace = \"         too many spaces      \"\n",
    "print(multispace)\n",
    "print(multispace.strip())\n",
    "\n",
    "comment = \"# to jest komentarz w pythonie\"\n",
    "print(comment.replace('# ', \"\")) # Zamiana na pusty string (\"\" lub '') to usunięcie znaków"
   ],
   "outputs": [
    {
     "output_type": "stream",
     "name": "stdout",
     "text": [
      "Grażyna Grazyna\n",
      "         too many spaces      \n",
      "too many spaces\n",
      "to jest komentarz w pythonie\n"
     ]
    }
   ],
   "metadata": {}
  },
  {
   "cell_type": "code",
   "execution_count": null,
   "source": [
    "# Operacje na napisach można też wywołać w jednej linii, np.\n",
    "\n",
    "president = \"J. F. Kennedy\"\n",
    "print(president.replace(\". \", \"\").lower())\n",
    "\n",
    "# jest równoważne następującym operacjom\n",
    "\n",
    "no_dots_president = president.replace(\". \", \"\")\n",
    "lowercase_no_dots_president = no_dots_president.lower()\n",
    "print(lowercase_no_dots_president)"
   ],
   "outputs": [
    {
     "output_type": "stream",
     "name": "stdout",
     "text": [
      "jfkennedy\n",
      "jfkennedy\n"
     ]
    }
   ],
   "metadata": {}
  },
  {
   "cell_type": "code",
   "execution_count": null,
   "source": [
    "# Zadanie 1.6: Zamień w poniższym napisie spacje na podkreślniki (_) i przypisz do nowej zmiennej\n",
    "pl_chars = \"Zażółć Gęślą Jaźń\"\n",
    "# Oczekiwany wynik: \"Zażółć_Gęślą_Jaźń\"\n",
    "\n",
    "\n",
    "# Zadanie 1.7: Zamień wielkie litery w postałym napisie na małe i przypisz do nowej zmiennej\n",
    "# Oczekiwany wynik: \"zażółć_gęślą_jaźń\"\n",
    "\n",
    "\n",
    "# Zadanie 1.8: Zamień również wszystkie polskie znaki na angielskie odpowiedniki\n",
    "# Oczekiwany wynik: \"zazolc_gesla_jazn\"\n"
   ],
   "outputs": [],
   "metadata": {}
  },
  {
   "cell_type": "markdown",
   "source": [
    "Więcej o stringach dowiesz się w [dokumentacji pythona](https://docs.python.org/3/library/stdtypes.html#string-methods)"
   ],
   "metadata": {}
  },
  {
   "cell_type": "markdown",
   "source": [
    "### Konwersja typów\n",
    "Niektóre typy można ze sobą łączyć (np. dodać `int` do `float`), a inne nie (nie można dodać `str` do `int`). "
   ],
   "metadata": {}
  },
  {
   "cell_type": "code",
   "execution_count": null,
   "source": [
    "a = 4 # int\n",
    "b = 5.5 # float\n",
    "c = '6' # str\n",
    "\n",
    "print(a, type(a))\n",
    "print(b, type(b))\n",
    "print(c, type(c))\n",
    "\n",
    "print(a + b) # możemy dodać int do float\n",
    "\n",
    "print(type(a) == int)  # sprawdzamy czy zmienna a jest typu int\n",
    "\n",
    "a + c\n"
   ],
   "outputs": [
    {
     "output_type": "stream",
     "name": "stdout",
     "text": [
      "4 <class 'int'>\n",
      "5.5 <class 'float'>\n",
      "6 <class 'str'>\n",
      "9.5\n"
     ]
    },
    {
     "output_type": "error",
     "ename": "TypeError",
     "evalue": "unsupported operand type(s) for +: 'int' and 'str'",
     "traceback": [
      "\u001b[0;31m---------------------------------------------------------------------------\u001b[0m",
      "\u001b[0;31mTypeError\u001b[0m                                 Traceback (most recent call last)",
      "\u001b[0;32m<ipython-input-17-154fe79be077>\u001b[0m in \u001b[0;36m<module>\u001b[0;34m\u001b[0m\n\u001b[1;32m      9\u001b[0m \u001b[0mprint\u001b[0m\u001b[0;34m(\u001b[0m\u001b[0ma\u001b[0m \u001b[0;34m+\u001b[0m \u001b[0mb\u001b[0m\u001b[0;34m)\u001b[0m \u001b[0;31m# możemy dodać int do float\u001b[0m\u001b[0;34m\u001b[0m\u001b[0;34m\u001b[0m\u001b[0m\n\u001b[1;32m     10\u001b[0m \u001b[0;34m\u001b[0m\u001b[0m\n\u001b[0;32m---> 11\u001b[0;31m \u001b[0ma\u001b[0m \u001b[0;34m+\u001b[0m \u001b[0mc\u001b[0m\u001b[0;34m\u001b[0m\u001b[0;34m\u001b[0m\u001b[0m\n\u001b[0m",
      "\u001b[0;31mTypeError\u001b[0m: unsupported operand type(s) for +: 'int' and 'str'"
     ]
    }
   ],
   "metadata": {}
  },
  {
   "cell_type": "markdown",
   "source": [
    "Jak widać, python rzucił wyjątek `TypeError`, co oznacza że nie udało mu się wykonać operacji `a + c`\n",
    "\n",
    "Żeby dodać do siebie różne typy możemy dokonać konwersji (zmiany) typu"
   ],
   "metadata": {}
  },
  {
   "cell_type": "code",
   "execution_count": null,
   "source": [
    "a = 4 # int\n",
    "b = 5.5 # float\n",
    "c = '6.1' # str\n",
    "\n",
    "a_as_str = str(a)\n",
    "b_as_int = int(b)\n",
    "c_as_float = float(c)\n",
    "\n",
    "print(a_as_str, type(a_as_str))\n",
    "print(b_as_int, type(b_as_int))\n",
    "print(c_as_float, type(c_as_float))\n",
    "\n",
    "print(a_as_str + c)\n",
    "print(a + c_as_float)"
   ],
   "outputs": [
    {
     "output_type": "stream",
     "name": "stdout",
     "text": [
      "4 <class 'str'>\n",
      "5 <class 'int'>\n",
      "6.1 <class 'float'>\n",
      "46.1\n",
      "10.1\n"
     ]
    }
   ],
   "metadata": {}
  },
  {
   "cell_type": "code",
   "execution_count": null,
   "source": [
    "# Zadanie 1.9 - policz średnią z wartości a, b i c\n",
    "# Oczekiwany wynik: 8.933333333333334\n",
    "a = 7\n",
    "b = 18.7\n",
    "c = '1.1'\n"
   ],
   "outputs": [
    {
     "output_type": "stream",
     "name": "stdout",
     "text": [
      "8\n"
     ]
    }
   ],
   "metadata": {}
  },
  {
   "cell_type": "code",
   "execution_count": null,
   "source": [
    "# Zadanie 1.10 - sprawdź czy wynik zadania 1.9 jest liczbą całkowitą (int). W tym celu wykorzystaj funkcję type()\n",
    "# Oczekiwany wynik: False\n"
   ],
   "outputs": [
    {
     "output_type": "stream",
     "name": "stdout",
     "text": [
      "False\n"
     ]
    }
   ],
   "metadata": {}
  },
  {
   "cell_type": "code",
   "execution_count": 61,
   "source": [
    "# Zadanie 1.11 - zamień wynik zadania 1.10 na liczbę całkowitą\n",
    "# Oczekiwany wynik: 8"
   ],
   "outputs": [],
   "metadata": {}
  },
  {
   "cell_type": "markdown",
   "source": [
    "Uwaga - konwersja `int(x)` gdzie `x` jest typu float, zawsze zaokrągli w dół!"
   ],
   "metadata": {}
  }
 ],
 "metadata": {
  "kernelspec": {
   "name": "python3",
   "display_name": "Python 3.9.6 64-bit"
  },
  "language_info": {
   "codemirror_mode": {
    "name": "ipython",
    "version": 3
   },
   "file_extension": ".py",
   "mimetype": "text/x-python",
   "name": "python",
   "nbconvert_exporter": "python",
   "pygments_lexer": "ipython3",
   "version": "3.9.6"
  },
  "interpreter": {
   "hash": "e7370f93d1d0cde622a1f8e1c04877d8463912d04d973331ad4851f04de6915a"
  }
 },
 "nbformat": 4,
 "nbformat_minor": 5
}