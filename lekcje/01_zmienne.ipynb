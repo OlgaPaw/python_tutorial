{
 "cells": [
  {
   "cell_type": "markdown",
   "id": "plastic-immigration",
   "metadata": {},
   "source": [
    "# Zmienne w pythonie\n",
    "\n",
    "## Co to jest zmienna?\n",
    "\n",
    "Zmienna (*ang. variable*) to \"pudełko\", w którym będziemy przechowywać jakąś wartość.\n",
    "\n",
    "Wyobraż sobie, że masz na stole 2 pudełka:\n",
    "- pierwsze, podpisane `name`, w środku którego jest karteczka z Twoim imieniem i nazwiskiem, \n",
    "- drugie, podpisane `age`, a w nim karteczka na której napisana jest liczba ile masz lat\n",
    "\n",
    "Teraz zapiszemy to samo w kodzie"
   ]
  },
  {
   "cell_type": "code",
   "execution_count": 1,
   "id": "cognitive-professional",
   "metadata": {},
   "outputs": [],
   "source": [
    "age = 27\n",
    "name = \"Jan Kowalski\""
   ]
  },
  {
   "cell_type": "markdown",
   "id": "inclusive-compromise",
   "metadata": {},
   "source": [
    "Powyżej zdefiniowaliśmy 2 zmienne. W pythonie zmienną definiuje się poprzez przypisanie do niej wartości. Wszystko po prawej stronie znaku `=` to wartość, a po lewej mamy zmienną. \n",
    "\n",
    "Aby odwołać się do zmiennej w pythonie wystarczy że napiszemy ją gdzieś w programie. \n",
    "\n",
    "Możemy np. poprosić interpreter, żeby wypisał nam wartość zmiennej używając funckji `print`"
   ]
  },
  {
   "cell_type": "code",
   "execution_count": 4,
   "id": "formal-ranch",
   "metadata": {},
   "outputs": [
    {
     "name": "stdout",
     "output_type": "stream",
     "text": [
      "Jan Kowalski\n",
      "27\n"
     ]
    }
   ],
   "source": [
    "print(name)\n",
    "print(age)"
   ]
  },
  {
   "cell_type": "markdown",
   "id": "velvet-amateur",
   "metadata": {},
   "source": [
    "## Typy zmiennych"
   ]
  },
  {
   "cell_type": "markdown",
   "id": "hearing-marina",
   "metadata": {},
   "source": [
    "Każda zmienna ma jakiś typ. W pythonie mamy kilka postawowych typów danych. Najczęściej używane to:\n",
    "- `int` - liczba całkowita - np. `10`\n",
    "- `float` - liczba z ułamkiem - np. `4.76`\n",
    "- `str` - napis - np. `\"Ala\"` lub `'Hello world'`. Napisem (stringiem) jest wszystko co zapiszemy w cudzysłowiach pojedyńczych (`''`) lub podwójnych (`\"\"`). Nie ma znaczenia których użyjesz.\n",
    "- `list` - lista, tablica - np. `[1, 2, 3, 4]` lub `['Ala', 'Ola', 'Ela']` lub `[1, 1.23, 'Maciek']`. Lista to grupa kilku wartości dowolnych typów. Do definicji tablicy używamy nawiasów kwadratowych `[]`"
   ]
  },
  {
   "cell_type": "code",
   "execution_count": 9,
   "id": "chemical-proxy",
   "metadata": {},
   "outputs": [
    {
     "name": "stdout",
     "output_type": "stream",
     "text": [
      "<class 'int'>\n",
      "<class 'float'>\n",
      "<class 'str'>\n",
      "<class 'str'>\n",
      "<class 'list'>\n"
     ]
    }
   ],
   "source": [
    "age = 25\n",
    "price = 13.54\n",
    "name = 'Ala'\n",
    "surname = 'Makota'\n",
    "weekdays = ['Poniedziałek', 'Wtorek', 'Środa', 'Czwartek', 'Piątek', 'Sobota', 'Niedziela']\n",
    "\n",
    "print(type(age))\n",
    "print(type(price))\n",
    "print(type(name))\n",
    "print(type(surname))\n",
    "print(type(weekdays))"
   ]
  },
  {
   "cell_type": "markdown",
   "id": "previous-devil",
   "metadata": {},
   "source": [
    "Wewnątrz programu można zmieniać zmiennym wartość, a nawet zmieniać im typ!"
   ]
  },
  {
   "cell_type": "code",
   "execution_count": 1,
   "id": "spectacular-dance",
   "metadata": {},
   "outputs": [
    {
     "name": "stdout",
     "output_type": "stream",
     "text": [
      "7 <class 'int'>\n",
      "8.75 <class 'float'>\n",
      "Sześćdziesiąt <class 'str'>\n"
     ]
    }
   ],
   "source": [
    "price = 7\n",
    "print(price, type(price))\n",
    "price = 8.75\n",
    "print(price, type(price))\n",
    "price = 'Sześćdziesiąt'\n",
    "print(price, type(price))"
   ]
  },
  {
   "cell_type": "markdown",
   "id": "extreme-mississippi",
   "metadata": {},
   "source": [
    "Co więcej, możemy przypisać wartość jednej zmiennej, do innej zmiennej, lub użyć jedną zmienną do utworzenia innej."
   ]
  },
  {
   "cell_type": "code",
   "execution_count": 3,
   "id": "clear-contributor",
   "metadata": {},
   "outputs": [
    {
     "name": "stdout",
     "output_type": "stream",
     "text": [
      "7 7 10\n"
     ]
    }
   ],
   "source": [
    "a = 7\n",
    "b = a\n",
    "c = a + 3\n",
    "print(a, b, c)"
   ]
  },
  {
   "cell_type": "markdown",
   "id": "international-order",
   "metadata": {},
   "source": [
    "## Jak używać zmiennych"
   ]
  },
  {
   "cell_type": "markdown",
   "id": "illegal-dispatch",
   "metadata": {},
   "source": [
    "### Zmienne liczbowe (int, float)\n",
    "Zmienne będące liczbami możemy użyć do operacji arytmetycznych"
   ]
  },
  {
   "cell_type": "code",
   "execution_count": 7,
   "id": "honey-phoenix",
   "metadata": {},
   "outputs": [
    {
     "name": "stdout",
     "output_type": "stream",
     "text": [
      "Obwód: 26.5\n",
      "Pole: 43.5\n"
     ]
    }
   ],
   "source": [
    "a = 6\n",
    "b = 7.25\n",
    "\n",
    "# Policzmy obwód i pole prostokąta\n",
    "O = 2 * a + 2 * b\n",
    "P = a * b\n",
    "\n",
    "print(\"Obwód:\", O) \n",
    "print(\"Pole:\", P)"
   ]
  },
  {
   "cell_type": "markdown",
   "id": "handed-newfoundland",
   "metadata": {},
   "source": [
    "Jeśli potrzeba, możemy zwiększyć lub zmniejszyć ich wartość"
   ]
  },
  {
   "cell_type": "code",
   "execution_count": 8,
   "id": "sacred-alfred",
   "metadata": {},
   "outputs": [
    {
     "name": "stdout",
     "output_type": "stream",
     "text": [
      "2\n",
      "3\n",
      "2\n"
     ]
    }
   ],
   "source": [
    "x = 1\n",
    "x = x + 1\n",
    "print(x)\n",
    "x += 1\n",
    "print(x)\n",
    "x -= 1\n",
    "print(x)"
   ]
  },
  {
   "cell_type": "markdown",
   "id": "solved-latin",
   "metadata": {},
   "source": [
    "Inne operacje arytmetyczne w pythonie\n",
    "\n",
    "| Operator | Działanie                   | Przykład |\n",
    "|----------|-----------------------------|----------|\n",
    "| +        | Suma, symbol dodatni        | `x + y`  |\n",
    "| –        | Różnica, symbol ujemny      | `x – y`  |\n",
    "| *        | Iloczyn                     | `x * y`  |\n",
    "| /        | Iloraz                      | `x / y`  |\n",
    "| %        | Modulo – reszta z dzielenia | `x % y`  |\n",
    "| //       | Dzielenie całkowite         | `x // y` |\n",
    "| **       | Potęga                      | `x ** y` |"
   ]
  },
  {
   "cell_type": "markdown",
   "id": "married-yield",
   "metadata": {},
   "source": [
    "#### Zadanie - przykład\n",
    "Temperatura w dzień wynosiła 5 stopni, a w nocy -2 stopnie. Oblicz średnią temperaturę dobową."
   ]
  },
  {
   "cell_type": "code",
   "execution_count": 9,
   "id": "incredible-workplace",
   "metadata": {},
   "outputs": [
    {
     "name": "stdout",
     "output_type": "stream",
     "text": [
      "Średnia temperatura  1.5\n"
     ]
    }
   ],
   "source": [
    "# Rozwiązanie\n",
    "day_temperature = 5\n",
    "night_temperature = -2\n",
    "average_temperature = (5 + -2) / 2\n",
    "print(\"Średnia temperatura \", average_temperature)"
   ]
  },
  {
   "cell_type": "markdown",
   "id": "dependent-validity",
   "metadata": {},
   "source": [
    "#### Zadania do wykonania"
   ]
  },
  {
   "cell_type": "code",
   "execution_count": 35,
   "id": "infrared-soviet",
   "metadata": {},
   "outputs": [],
   "source": [
    "# Zadanie 1: Maciek dostał z matematyki 2 na pierwsze półrocze i 4 na drugie półrocze. Jaką dostanie ocenę końcową?"
   ]
  },
  {
   "cell_type": "code",
   "execution_count": 36,
   "id": "ahead-treasure",
   "metadata": {},
   "outputs": [],
   "source": [
    "# Zadanie 2: Ola ma 5 lat. Jacek jest o 2 lata młodszy od Oli, a Asia 2 razy starsza od Jacka. Oblicz wiek Jacka i Asi "
   ]
  },
  {
   "cell_type": "code",
   "execution_count": 37,
   "id": "serial-colombia",
   "metadata": {},
   "outputs": [],
   "source": [
    "# Zadanie 3: W koszyku jest 10 cukierków, a dzieci jest czworo. Ile cukierków zostanie, jeśli każde dziecko dostanie tyle samo cukirków? Zakładamy że cukierków nie da się podzielić (wykorzystaj operator modulo)"
   ]
  },
  {
   "cell_type": "code",
   "execution_count": 38,
   "id": "phantom-baking",
   "metadata": {},
   "outputs": [],
   "source": [
    "# Zadanie 4: Oblicz objętość sześcianu o boku 8. (Objętość = Pole podstawy * h, gdzie dla sześcianu długości wszystkich boków są takie same). Wykorzystaj operator potęgi."
   ]
  },
  {
   "cell_type": "markdown",
   "id": "assumed-transformation",
   "metadata": {},
   "source": [
    "### Zmienne boolowskie (Tak/Nie)\n",
    "\n",
    "W pythonie, tak jak w większości języków programowania mamy zmienne boolowskie, czyli takie co mogą przybrać tylko 2 wartości: Tak i Nie (`True` lub `False`). Zmiennych takich używamy zazwyczaj do zapisywania odpowiedzi na pytania lub do włączania / wyłączania ustawień (flag). Używamy ich także do sterowania operacją `if`."
   ]
  },
  {
   "cell_type": "code",
   "execution_count": 46,
   "id": "satisfactory-relation",
   "metadata": {},
   "outputs": [
    {
     "name": "stdout",
     "output_type": "stream",
     "text": [
      "<class 'bool'> <class 'bool'>\n",
      "False\n"
     ]
    }
   ],
   "source": [
    "z = False\n",
    "y = True\n",
    "print(type(z), type(y)) # Zmienne y i z są typu bool\n",
    "\n",
    "# Zadajmy pytanie czy y jest równe z i wyświetlmy odpowiedź\n",
    "print(y == z)"
   ]
  },
  {
   "cell_type": "markdown",
   "id": "subjective-moisture",
   "metadata": {},
   "source": [
    "Teraz pokażemy przykład użycia flagi do sterowania programem. \n",
    "\n",
    "Operacja wewnątrz `if` wykona się tylko jeśli to co jest za `if` przyjmie wartość `True`"
   ]
  },
  {
   "cell_type": "code",
   "execution_count": 49,
   "id": "inappropriate-copper",
   "metadata": {},
   "outputs": [
    {
     "name": "stdout",
     "output_type": "stream",
     "text": [
      "Summary\n",
      "End\n"
     ]
    }
   ],
   "source": [
    "should_display_summarry = True\n",
    "\n",
    "if should_display_summarry:\n",
    "    print(\"Summary\")\n",
    "    \n",
    "print(\"End\")"
   ]
  },
  {
   "cell_type": "code",
   "execution_count": 50,
   "id": "numerical-patrick",
   "metadata": {},
   "outputs": [
    {
     "name": "stdout",
     "output_type": "stream",
     "text": [
      "End\n"
     ]
    }
   ],
   "source": [
    "should_display_summarry = False\n",
    "\n",
    "if should_display_summarry:\n",
    "    print(\"Summary\")\n",
    "\n",
    "print(\"End\")"
   ]
  },
  {
   "cell_type": "markdown",
   "id": "structural-killing",
   "metadata": {},
   "source": [
    "Do zmiennej `bool` można zapisać wynik operacji porównania `==`"
   ]
  },
  {
   "cell_type": "code",
   "execution_count": 51,
   "id": "collaborative-musical",
   "metadata": {},
   "outputs": [
    {
     "name": "stdout",
     "output_type": "stream",
     "text": [
      "True\n",
      "True\n"
     ]
    }
   ],
   "source": [
    "a = 7\n",
    "b = 7\n",
    "\n",
    "print(a == b)\n",
    "\n",
    "result = a == b # początkowo dla czytelności możesz używać result = (a == b)\n",
    "print(result)"
   ]
  },
  {
   "cell_type": "code",
   "execution_count": 53,
   "id": "fluid-stable",
   "metadata": {},
   "outputs": [
    {
     "name": "stdout",
     "output_type": "stream",
     "text": [
      "False\n"
     ]
    }
   ],
   "source": [
    "result = 'A' == 'a' # Czy wielka litera to dla pythona to samo co mała?\n",
    "print(result)"
   ]
  },
  {
   "cell_type": "code",
   "execution_count": 54,
   "id": "therapeutic-digest",
   "metadata": {},
   "outputs": [
    {
     "name": "stdout",
     "output_type": "stream",
     "text": [
      "True\n"
     ]
    }
   ],
   "source": [
    "result = 'A' != 'a' # Czy wielka litera to dla pythona co innego niż mała?\n",
    "print(result)"
   ]
  },
  {
   "cell_type": "markdown",
   "id": "intellectual-statement",
   "metadata": {},
   "source": [
    "#### Zadanie - sprawdź czy 7 jest liczbą nieparzystą i przypisz wynik do zmiennej."
   ]
  },
  {
   "cell_type": "code",
   "execution_count": 58,
   "id": "christian-placement",
   "metadata": {},
   "outputs": [
    {
     "ename": "SyntaxError",
     "evalue": "invalid syntax (<ipython-input-58-fe1325a37de6>, line 1)",
     "output_type": "error",
     "traceback": [
      "\u001b[0;36m  File \u001b[0;32m\"<ipython-input-58-fe1325a37de6>\"\u001b[0;36m, line \u001b[0;32m1\u001b[0m\n\u001b[0;31m    is_7_odd = # wypełnij\u001b[0m\n\u001b[0m               ^\u001b[0m\n\u001b[0;31mSyntaxError\u001b[0m\u001b[0;31m:\u001b[0m invalid syntax\n"
     ]
    }
   ],
   "source": [
    "is_7_odd = # wypełnij \n",
    "print(is_7_odd)"
   ]
  },
  {
   "cell_type": "markdown",
   "id": "quantitative-confidence",
   "metadata": {},
   "source": [
    "### Zmienne napisowe (string)\n",
    "W przypadku zmiennych będących napisami mamy do dyspozycji kilka operacji. \n",
    "Możemy np. zamienić litery na wielkie, małe, tytułowe"
   ]
  },
  {
   "cell_type": "code",
   "execution_count": 51,
   "id": "divided-network",
   "metadata": {},
   "outputs": [
    {
     "name": "stdout",
     "output_type": "stream",
     "text": [
      "adam mickiewicz\n",
      "ADAM MICKIEWICZ\n",
      "Adam Mickiewicz\n",
      "Dziady Część 2\n"
     ]
    }
   ],
   "source": [
    "autor = 'Adam Mickiewicz'\n",
    "\n",
    "lowercase_author = autor.lower()  # Przypisujemy wynik operacji lower do nowej zmiennej lowercase_author\n",
    "print(lowercase_author)\n",
    "\n",
    "print(autor.upper()) # Można nie przypisywać wyniku do zmiennej, tylko podać go bezpośrednio do funkcji print\n",
    "print(autor) # Zauważ, że orginalna zmienna nie została zmieniona\n",
    "\n",
    "\n",
    "book = 'dziady część 2'\n",
    "print(book.title()) # Metoda title zamienia pierwszą literę każdego wyrazu na wielką"
   ]
  },
  {
   "cell_type": "markdown",
   "id": "colonial-dietary",
   "metadata": {},
   "source": [
    "Możemy też rozdzielać napisy (*split*) do listy wyrazów i łączyć listy napisów w jeden (*join*)"
   ]
  },
  {
   "cell_type": "code",
   "execution_count": 10,
   "id": "modern-apollo",
   "metadata": {},
   "outputs": [
    {
     "name": "stdout",
     "output_type": "stream",
     "text": [
      "['Lorem', 'ipsum', 'dolor', 'sit', 'amet,', 'consectetur', 'adipiscing', 'elit']\n",
      "['Lorem', 'ipsum', 'dolor', 'sit', 'amet,', 'consectetur', 'adipiscing', 'elit']\n",
      "['1', '3', '2', '4', '5', '3', '1']\n",
      "['pies Reksio', 'kot Felix', 'świnka Peppa']\n"
     ]
    }
   ],
   "source": [
    "# Rozdzielenie napisów\n",
    "\n",
    "lorem = \"Lorem ipsum dolor sit amet, consectetur adipiscing elit\"\n",
    "print(lorem.split(\" \"))\n",
    "print(lorem.split())\n",
    "# split() oraz split(\" \") są równoważne\n",
    "\n",
    "notes = \"1,3,2,4,5,3,1\"\n",
    "print(notes.split(\",\"))\n",
    "\n",
    "pets = \"pies Reksio, kot Felix, świnka Peppa\"\n",
    "print(pets.split(\", \")) # można podać więcej niż 1 znak po którym rozdzielimy - np przecinek i spacja\n"
   ]
  },
  {
   "cell_type": "code",
   "execution_count": 13,
   "id": "addressed-finish",
   "metadata": {},
   "outputs": [
    {
     "name": "stdout",
     "output_type": "stream",
     "text": [
      "Ala, Ola, Maciek, Janek\n",
      "papier albo kamień albo nożyce\n",
      "<class 'str'>\n"
     ]
    }
   ],
   "source": [
    "# Łączenie listy napisów w napis\n",
    "\n",
    "students = [\"Ala\", \"Ola\", \"Maciek\", \"Janek\"]\n",
    "print(\", \".join(students)) # pomiędzy elementy tablicy \"wkładamy\" przecinek i spację\n",
    "\n",
    "choices = [\"papier\", \"kamień\", \"nożyce\"]\n",
    "result = \" albo \".join(choices)\n",
    "print(result)\n",
    "print(type(result))"
   ]
  },
  {
   "cell_type": "markdown",
   "id": "honest-circulation",
   "metadata": {},
   "source": [
    "Często wykorzystywane sa też operacje podmieniające znaki w stringu."
   ]
  },
  {
   "cell_type": "code",
   "execution_count": 15,
   "id": "loved-prescription",
   "metadata": {},
   "outputs": [
    {
     "name": "stdout",
     "output_type": "stream",
     "text": [
      "Grażyna Grazyna\n",
      "         too many spaces      \n",
      "too many spaces\n",
      "to jest komentarz w pythonie\n"
     ]
    }
   ],
   "source": [
    "name = \"Grażyna\"\n",
    "no_special_char_name = name.replace(\"ż\", 'z')\n",
    "print(name, no_special_char_name)\n",
    "\n",
    "multispace = \"         too many spaces      \"\n",
    "print(multispace)\n",
    "print(multispace.strip())\n",
    "\n",
    "comment = \"# to jest komentarz w pythonie\"\n",
    "print(comment.replace('# ', \"\")) # Zamiana na pusty string (\"\" lub '') to usunięcie znaków"
   ]
  },
  {
   "cell_type": "code",
   "execution_count": 19,
   "id": "stainless-capacity",
   "metadata": {},
   "outputs": [
    {
     "name": "stdout",
     "output_type": "stream",
     "text": [
      "jfkennedy\n",
      "jfkennedy\n"
     ]
    }
   ],
   "source": [
    "#Operacje na napisach można też wywołać w jednej linii, np.\n",
    "\n",
    "president = \"J. F. Kennedy\"\n",
    "print(president.replace(\". \", \"\").lower())\n",
    "\n",
    "# jest równoważne następującym operacjom\n",
    "\n",
    "no_dots_president = president.replace(\". \", \"\")\n",
    "lowercase_no_dots_president = no_dots_president.lower()\n",
    "print(lowercase_no_dots_president)"
   ]
  },
  {
   "cell_type": "code",
   "execution_count": 113,
   "id": "aggressive-clothing",
   "metadata": {},
   "outputs": [],
   "source": [
    "# Zadanie 1: Zamień w poniższym napisie spacje na podkreślniki (_) i przypisz do nowej zmiennej\n",
    "pl_chars = \"Zażółć Gęślą Jaźń\"\n",
    "\n",
    "# Zadanie 2: Zamień wielkie litery w postałym napisie na małe i przypisz do nowej zmiennej\n",
    "\n",
    "\n",
    "# Zadanie 3: Zamień również wszystkie polskie znaki na angielskie odpowiedniki\n",
    "\n"
   ]
  },
  {
   "cell_type": "markdown",
   "id": "authentic-newark",
   "metadata": {},
   "source": [
    "Więcej o stringach dowiesz się w [dokumentacji pythona](https://docs.python.org/3/library/stdtypes.html#string-methods)"
   ]
  },
  {
   "cell_type": "markdown",
   "id": "south-mapping",
   "metadata": {},
   "source": [
    "### Konwersja typów\n",
    "Niektóre typy można ze sobą łączyć (np. dodać `int` do `float`), a inne nie (nie można dodać `str` do `int`). "
   ]
  },
  {
   "cell_type": "code",
   "execution_count": 121,
   "id": "tested-territory",
   "metadata": {},
   "outputs": [
    {
     "name": "stdout",
     "output_type": "stream",
     "text": [
      "4 <class 'int'>\n",
      "5.5 <class 'float'>\n",
      "6 <class 'str'>\n",
      "9.5\n"
     ]
    },
    {
     "ename": "TypeError",
     "evalue": "unsupported operand type(s) for +: 'int' and 'str'",
     "output_type": "error",
     "traceback": [
      "\u001b[0;31m---------------------------------------------------------------------------\u001b[0m",
      "\u001b[0;31mTypeError\u001b[0m                                 Traceback (most recent call last)",
      "\u001b[0;32m<ipython-input-121-51bf5c23c9f3>\u001b[0m in \u001b[0;36m<module>\u001b[0;34m\u001b[0m\n\u001b[1;32m      9\u001b[0m \u001b[0mprint\u001b[0m\u001b[0;34m(\u001b[0m\u001b[0ma\u001b[0m \u001b[0;34m+\u001b[0m \u001b[0mb\u001b[0m\u001b[0;34m)\u001b[0m \u001b[0;31m# we can add int to float\u001b[0m\u001b[0;34m\u001b[0m\u001b[0;34m\u001b[0m\u001b[0m\n\u001b[1;32m     10\u001b[0m \u001b[0;34m\u001b[0m\u001b[0m\n\u001b[0;32m---> 11\u001b[0;31m \u001b[0ma\u001b[0m \u001b[0;34m+\u001b[0m \u001b[0mc\u001b[0m\u001b[0;34m\u001b[0m\u001b[0;34m\u001b[0m\u001b[0m\n\u001b[0m",
      "\u001b[0;31mTypeError\u001b[0m: unsupported operand type(s) for +: 'int' and 'str'"
     ]
    }
   ],
   "source": [
    "a = 4 # int\n",
    "b = 5.5 # float\n",
    "c = '6' # str\n",
    "\n",
    "print(a, type(a))\n",
    "print(b, type(b))\n",
    "print(c, type(c))\n",
    "\n",
    "print(a + b) # we can add int to float\n",
    "\n",
    "a + c"
   ]
  },
  {
   "cell_type": "markdown",
   "id": "nearby-advocacy",
   "metadata": {},
   "source": [
    "Jak widać, python rzucił wyjątek `TypeError`, co oznacza że nie udało mu się wykonać operacji `a + c`\n",
    "\n",
    "Żeby dodać do siebie różne typy możemy dokonać konwersji (zmiany) typu"
   ]
  },
  {
   "cell_type": "code",
   "execution_count": 120,
   "id": "conventional-adrian",
   "metadata": {},
   "outputs": [
    {
     "name": "stdout",
     "output_type": "stream",
     "text": [
      "4 <class 'str'>\n",
      "5 <class 'int'>\n",
      "6.1 <class 'float'>\n",
      "46.1\n",
      "10.1\n"
     ]
    }
   ],
   "source": [
    "a = 4 # int\n",
    "b = 5.5 # float\n",
    "c = '6.1' # str\n",
    "\n",
    "a_as_str = str(a)\n",
    "b_as_int = int(b)\n",
    "c_as_float = float(c)\n",
    "\n",
    "print(a_as_str, type(a_as_str))\n",
    "print(b_as_int, type(b_as_int))\n",
    "print(c_as_float, type(c_as_float))\n",
    "\n",
    "print(a_as_str + c)\n",
    "print(a + c_as_float)"
   ]
  },
  {
   "cell_type": "code",
   "execution_count": null,
   "id": "racial-tiger",
   "metadata": {},
   "outputs": [],
   "source": [
    "# Zadanie 1 - policz średnią z wartości a, b i c\n",
    "a = 7\n",
    "b = 18.7\n",
    "c = '1'\n"
   ]
  },
  {
   "cell_type": "code",
   "execution_count": 60,
   "id": "based-carry",
   "metadata": {},
   "outputs": [],
   "source": [
    "# Zadanie 2 - sprawdź czy wynik zadania 1 jest liczbą całkowitą (int).\n"
   ]
  },
  {
   "cell_type": "code",
   "execution_count": 61,
   "id": "coral-forest",
   "metadata": {},
   "outputs": [],
   "source": [
    "# Zadanie 3 - zamień wynik na liczbę całkowitą\n"
   ]
  }
 ],
 "metadata": {
  "kernelspec": {
   "display_name": "Python 3",
   "language": "python",
   "name": "python3"
  },
  "language_info": {
   "codemirror_mode": {
    "name": "ipython",
    "version": 3
   },
   "file_extension": ".py",
   "mimetype": "text/x-python",
   "name": "python",
   "nbconvert_exporter": "python",
   "pygments_lexer": "ipython3",
   "version": "3.9.3"
  }
 },
 "nbformat": 4,
 "nbformat_minor": 5
}
